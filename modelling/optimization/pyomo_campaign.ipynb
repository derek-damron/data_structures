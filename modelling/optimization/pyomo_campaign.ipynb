{
 "cells": [
  {
   "cell_type": "code",
   "execution_count": 1,
   "metadata": {},
   "outputs": [],
   "source": [
    "import numpy as np\n",
    "import pandas as pd\n",
    "import matplotlib.pyplot as plt\n",
    "import seaborn as sns\n",
    "\n",
    "from pyomo import environ as pe"
   ]
  },
  {
   "cell_type": "markdown",
   "metadata": {},
   "source": [
    "# Constrained optimization using pyomo"
   ]
  },
  {
   "cell_type": "code",
   "execution_count": 2,
   "metadata": {},
   "outputs": [],
   "source": [
    "# Create new model\n",
    "tmp_model = pe.ConcreteModel()"
   ]
  },
  {
   "cell_type": "code",
   "execution_count": 3,
   "metadata": {},
   "outputs": [],
   "source": [
    "# Index values\n",
    "n_channels = 15\n",
    "channels = [f'C{str(i).rjust(2, \"0\")}' for i in range(1, n_channels + 1)]\n",
    "\n",
    "viewers = (\n",
    "    \"Adam\",\n",
    "    \"Bob\",\n",
    "    \"Cynthia\",\n",
    "    \"Dylan\",\n",
    "    \"Esther\",\n",
    "    \"Frank\",\n",
    "    \"Ginny\",\n",
    "    \"Hannah\",\n",
    "    \"Icabod\",\n",
    "    \"Jen\"\n",
    ")"
   ]
  },
  {
   "cell_type": "code",
   "execution_count": 4,
   "metadata": {},
   "outputs": [],
   "source": [
    "# Define our indices (things our parameters and variables can be defined over)\n",
    "# -> Here, channels and viewers\n",
    "\n",
    "tmp_model.channels = pe.Set(initialize=channels)\n",
    "tmp_model.viewers = pe.Set(initialize=viewers)"
   ]
  },
  {
   "cell_type": "code",
   "execution_count": 5,
   "metadata": {},
   "outputs": [
    {
     "name": "stdout",
     "output_type": "stream",
     "text": [
      "{'C01': 3, 'C02': 7, 'C03': 5, 'C04': 4, 'C05': 2, 'C06': 1, 'C07': 9, 'C08': 8, 'C09': 6, 'C10': 3, 'C11': 6, 'C12': 6, 'C13': 5, 'C14': 9, 'C15': 5}\n",
      "{('C01', 'Adam'): 0.028424415843497922, ('C01', 'Bob'): 0.1838166142304941, ('C01', 'Cynthia'): 0.02008029279951641, ('C01', 'Dylan'): 0.041731782883261785, ('C01', 'Esther'): 0.6079894265249001, ('C01', 'Frank'): 1.094284740837001e-19, ('C01', 'Ginny'): 0.0001464455339680855, ('C01', 'Hannah'): 7.679565556640886e-14, ('C01', 'Icabod'): 9.928790541071668e-11, ('C01', 'Jen'): 0.0011460509902417948, ('C02', 'Adam'): 1.036744837045312e-07, ('C02', 'Bob'): 0.05207498943718317, ('C02', 'Cynthia'): 7.130865243763138e-08, ('C02', 'Dylan'): 0.028590270048203668, ('C02', 'Esther'): 4.699546490520935e-06, ('C02', 'Frank'): 0.07764241064700701, ('C02', 'Ginny'): 1.2112170191305365e-23, ('C02', 'Hannah'): 3.3520475315633904e-10, ('C02', 'Icabod'): 2.827592342514114e-10, ('C02', 'Jen'): 8.683663407774235e-07, ('C03', 'Adam'): 4.588488073244127e-17, ('C03', 'Bob'): 0.0414249690575884, ('C03', 'Cynthia'): 2.066500305891443e-05, ('C03', 'Dylan'): 9.03109491959643e-08, ('C03', 'Esther'): 0.38591956024309704, ('C03', 'Frank'): 0.8033949726531411, ('C03', 'Ginny'): 0.001843583867064804, ('C03', 'Hannah'): 1.3652366711126836e-06, ('C03', 'Icabod'): 0.004599755826196622, ('C03', 'Jen'): 1.3429286783709313e-05, ('C04', 'Adam'): 0.30798226548266117, ('C04', 'Bob'): 0.00930141186327419, ('C04', 'Cynthia'): 0.13557174304495925, ('C04', 'Dylan'): 0.002413319860956674, ('C04', 'Esther'): 0.00015789200199485523, ('C04', 'Frank'): 0.05130550557266447, ('C04', 'Ginny'): 4.756386079587961e-05, ('C04', 'Hannah'): 5.757657468692689e-12, ('C04', 'Icabod'): 0.078360699303221, ('C04', 'Jen'): 2.585527843140423e-07, ('C05', 'Adam'): 9.886404610714522e-12, ('C05', 'Bob'): 0.0007470194622180987, ('C05', 'Cynthia'): 7.3451587689411455e-09, ('C05', 'Dylan'): 0.1523148876287475, ('C05', 'Esther'): 6.58727917158298e-08, ('C05', 'Frank'): 2.0903099034966173e-06, ('C05', 'Ginny'): 0.0030895488995009842, ('C05', 'Hannah'): 0.3580110971851549, ('C05', 'Icabod'): 0.20105594390539566, ('C05', 'Jen'): 0.00016316022292688128, ('C06', 'Adam'): 8.895808849108943e-05, ('C06', 'Bob'): 1.2607992406556449e-18, ('C06', 'Cynthia'): 5.751882192643363e-06, ('C06', 'Dylan'): 3.0712198730532146e-05, ('C06', 'Esther'): 0.32430864362267153, ('C06', 'Frank'): 0.09015296030929586, ('C06', 'Ginny'): 0.07459723610180642, ('C06', 'Hannah'): 0.000171025201190978, ('C06', 'Icabod'): 0.07920596637473022, ('C06', 'Jen'): 0.00046565364716746, ('C07', 'Adam'): 3.9375495463668266e-08, ('C07', 'Bob'): 0.29150663232663737, ('C07', 'Cynthia'): 0.03681577667784174, ('C07', 'Dylan'): 0.01874673063518787, ('C07', 'Esther'): 1.2358078814030295e-06, ('C07', 'Frank'): 0.0002201787078577474, ('C07', 'Ginny'): 1.4541296808177731e-18, ('C07', 'Hannah'): 5.135284813472616e-07, ('C07', 'Icabod'): 0.0012180488782187312, ('C07', 'Jen'): 4.507813562458876e-06, ('C08', 'Adam'): 0.0010141817290413616, ('C08', 'Bob'): 0.0009433539636313776, ('C08', 'Cynthia'): 1.4480446556401038e-10, ('C08', 'Dylan'): 0.0003145294395955814, ('C08', 'Esther'): 0.7312830690492083, ('C08', 'Frank'): 0.04823198834460914, ('C08', 'Ginny'): 0.03720603956612793, ('C08', 'Hannah'): 0.3226454806137511, ('C08', 'Icabod'): 0.6835896811833113, ('C08', 'Jen'): 8.826111582590558e-08, ('C09', 'Adam'): 0.03471915336804303, ('C09', 'Bob'): 1.239112128517376e-08, ('C09', 'Cynthia'): 0.23793394161430573, ('C09', 'Dylan'): 0.008924721340703967, ('C09', 'Esther'): 0.6610688044171599, ('C09', 'Frank'): 0.0015649121595732408, ('C09', 'Ginny'): 4.120356684510506e-15, ('C09', 'Hannah'): 0.04116962187628518, ('C09', 'Icabod'): 8.348225087383775e-25, ('C09', 'Jen'): 1.0355280704917692e-13, ('C10', 'Adam'): 0.9227479319943229, ('C10', 'Bob'): 1.8562243032334603e-07, ('C10', 'Cynthia'): 0.5823704463688881, ('C10', 'Dylan'): 0.00035234455540468685, ('C10', 'Esther'): 0.9880118945444167, ('C10', 'Frank'): 0.012954114027439172, ('C10', 'Ginny'): 0.02916486866536343, ('C10', 'Hannah'): 0.0002140219835697493, ('C10', 'Icabod'): 1.767120879217719e-08, ('C10', 'Jen'): 5.293169083665342e-10, ('C11', 'Adam'): 0.5266048907614912, ('C11', 'Bob'): 0.39370559238335606, ('C11', 'Cynthia'): 9.97149313943111e-05, ('C11', 'Dylan'): 0.46008804744099135, ('C11', 'Esther'): 0.05302393051284063, ('C11', 'Frank'): 0.09447486154611433, ('C11', 'Ginny'): 0.011123006178988749, ('C11', 'Hannah'): 0.9297392996192076, ('C11', 'Icabod'): 0.0005984561318988534, ('C11', 'Jen'): 1.2327096313197566e-10, ('C12', 'Adam'): 0.25584064997005357, ('C12', 'Bob'): 0.06108684768199192, ('C12', 'Cynthia'): 5.749088619109496e-06, ('C12', 'Dylan'): 5.024754295250878e-08, ('C12', 'Esther'): 0.000871718490454025, ('C12', 'Frank'): 1.3084440510945336e-14, ('C12', 'Ginny'): 0.0006273046438266025, ('C12', 'Hannah'): 7.933175237571597e-06, ('C12', 'Icabod'): 0.4371360187255563, ('C12', 'Jen'): 0.42478565825801634, ('C13', 'Adam'): 0.0005093230672207588, ('C13', 'Bob'): 4.988447281328404e-07, ('C13', 'Cynthia'): 3.4195544949669274e-11, ('C13', 'Dylan'): 0.020954546865265575, ('C13', 'Esther'): 0.014742252202209292, ('C13', 'Frank'): 9.116091974732457e-25, ('C13', 'Ginny'): 1.701826860012616e-12, ('C13', 'Hannah'): 3.136242054082488e-30, ('C13', 'Icabod'): 0.017190512408075773, ('C13', 'Jen'): 7.276900178496746e-05, ('C14', 'Adam'): 5.419634993500795e-11, ('C14', 'Bob'): 0.0004111813513670117, ('C14', 'Cynthia'): 0.012335665302214095, ('C14', 'Dylan'): 0.005561003312432688, ('C14', 'Esther'): 0.09540804245399764, ('C14', 'Frank'): 0.1073326750016194, ('C14', 'Ginny'): 0.021045507467537045, ('C14', 'Hannah'): 0.00026435627779427986, ('C14', 'Icabod'): 1.5451046290647523e-06, ('C14', 'Jen'): 5.479151229063877e-07, ('C15', 'Adam'): 0.17283446776257988, ('C15', 'Bob'): 4.647740155377037e-05, ('C15', 'Cynthia'): 0.008283769146954861, ('C15', 'Dylan'): 0.0004887821243115466, ('C15', 'Esther'): 0.0008395912646650935, ('C15', 'Frank'): 0.03672871827809098, ('C15', 'Ginny'): 0.014349341468881104, ('C15', 'Hannah'): 0.7112564329093509, ('C15', 'Icabod'): 8.051579300494372e-05, ('C15', 'Jen'): 0.7387342306163666}\n"
     ]
    }
   ],
   "source": [
    "# Parameter simulators\n",
    "# -> Channels: Random cost from 1 to 10\n",
    "def get_channel_costs(seed=None):\n",
    "    if seed:\n",
    "        np.random.seed(seed)\n",
    "    return dict(\n",
    "        (channel, np.random.randint(1, 10))\n",
    "        for channel in channels\n",
    "    )\n",
    "\n",
    "# -> Viewership of each channel: Random Bernoulli with 50% likelihood\n",
    "def get_expected_channel_viewership(seed=None):\n",
    "    if seed:\n",
    "        np.random.seed(seed)\n",
    "    return dict(\n",
    "        ((channel, viewer), np.random.rand() ** 10)\n",
    "        for channel in channels\n",
    "        for viewer in viewers\n",
    "    )\n",
    "\n",
    "print(get_channel_costs(666))\n",
    "print(get_expected_channel_viewership(666))"
   ]
  },
  {
   "cell_type": "code",
   "execution_count": 6,
   "metadata": {},
   "outputs": [],
   "source": [
    "# Define our parameters (fixed external factors)\n",
    "# -> Here, the channel costs and expected viewership\n",
    "\n",
    "# Generate costs and expected viewership\n",
    "tmp_channel_costs = get_channel_costs(666)\n",
    "tmp_expected_channel_viewership = get_expected_channel_viewership(666)\n",
    "\n",
    "tmp_model.channel_costs = pe.Param(\n",
    "    tmp_model.channels,\n",
    "    initialize = tmp_channel_costs,\n",
    "    within = pe.NonNegativeIntegers\n",
    ")\n",
    "tmp_model.viewership_probabilities = pe.Param(\n",
    "    # On pyomo Set objects, the * operator returns the Cartesian product\n",
    "    tmp_model.channels * tmp_model.viewers,\n",
    "    # The dictionary mapping (channel, viewer) pairs to likelihood of viewership\n",
    "    initialize = tmp_expected_channel_viewership,\n",
    "    # Happiness probabilities are real numbers between 0 and 1\n",
    "    within = pe.UnitInterval\n",
    ")"
   ]
  },
  {
   "cell_type": "code",
   "execution_count": 7,
   "metadata": {},
   "outputs": [],
   "source": [
    "# Define our free variables (things we can vary)\n",
    "# -> Here, just our \"buy\" matrix\n",
    "\n",
    "tmp_model.buys = pe.Var(\n",
    "    # Defined over the channel matrix\n",
    "    tmp_model.channels,\n",
    "    # Possible values are 0 and 1\n",
    "    domain = pe.Binary,\n",
    ")"
   ]
  },
  {
   "cell_type": "code",
   "execution_count": 8,
   "metadata": {},
   "outputs": [],
   "source": [
    "# Define our objective\n",
    "# -> Here the total reach, or the sum of likelihood to view * buys across all possible combinations of channel buys\n",
    "\n",
    "def get_reach(model):\n",
    "    # Numerator: Number of distinct viewers with >= 1 expected exposure, as measured by sum(probabilities)\n",
    "    #num = sum([\n",
    "    #    model.buys[c] * p\n",
    "    #    for (c, v), p in model.viewership_probabilities.items()\n",
    "    #])\n",
    "    viewer_probabilities_exposed = [\n",
    "        (v, tmp_model.buys[c] * p)\n",
    "        for (c, v), p in tmp_model.viewership_probabilities.items()\n",
    "    ]\n",
    "    num = sum([p for (v, p) in viewer_probabilities_exposed])\n",
    "    #viewer_exposed = {\n",
    "    #    v: sum([vpe_p for vpe_c, vpe_p in viewer_probabilities_exposed if vpe_c == v])\n",
    "    #    for v in tmp_model.viewers\n",
    "    #}\n",
    "    #num = sum([1 for v, e in viewer_exposed.items() if pe.value(e) >= 1])\n",
    "    \n",
    "    # Denominator: Number of distinct viewers\n",
    "    den = len(model.viewers)\n",
    "    \n",
    "    return num / den\n",
    "\n",
    "tmp_model.objective = pe.Objective(\n",
    "    rule = get_reach,\n",
    "    sense = pe.maximize\n",
    ")"
   ]
  },
  {
   "cell_type": "code",
   "execution_count": 9,
   "metadata": {},
   "outputs": [],
   "source": [
    "# Define our constraints\n",
    "# -> Here, \n",
    "#    1) total cost <= 10\n",
    "#    2) frequency per viewer <= 2\n",
    "\n",
    "max_cost = 20\n",
    "def restrict_total_cost(model):\n",
    "    # Get total cost\n",
    "    total_cost = sum([\n",
    "        model.buys[channel] * cost\n",
    "        for (channel, cost) in model.channel_costs.items()\n",
    "    ])\n",
    "    # Make sure that sum is no more than the maximum cost\n",
    "    return total_cost <= max_cost\n",
    "\n",
    "tmp_model.restrict_total_cost = pe.Constraint(\n",
    "    # Ensure that cost is contained\n",
    "    rule = restrict_total_cost\n",
    ")\n",
    "\n",
    "max_freq = 2\n",
    "def restrict_viewer_frequency(model, viewer):\n",
    "    # Get total expected exposure for the user\n",
    "    viewer_exposure = sum([\n",
    "        model.buys[c] * p\n",
    "        for (c, v), p in model.viewership_probabilities.items()\n",
    "        if v == viewer\n",
    "    ])\n",
    "    # Make sure is less than the maximum frequency\n",
    "    return viewer_exposure <= max_freq\n",
    "\n",
    "tmp_model.restrict_viewer_frequency = pe.Constraint(\n",
    "    tmp_model.viewers,\n",
    "    rule = restrict_viewer_frequency\n",
    ")"
   ]
  },
  {
   "cell_type": "code",
   "execution_count": 10,
   "metadata": {},
   "outputs": [],
   "source": [
    "# Solve it!\n",
    "\n",
    "#import sys\n",
    "#sys.path.append('C:\\\\glpk-4.65\\\\w64')\n",
    "\n",
    "# Swap out \"glpk\" for \"cbc\" or \"gurobi\" if using another solver\n",
    "solver = pe.SolverFactory(\"glpk\")\n",
    "# Add the keyword arg tee=True for a detailed trace of the solver's work.\n",
    "tmp_solution = solver.solve(\n",
    "    tmp_model,\n",
    "    #executable = 'C:\\\\glpk-4.65\\\\w64\\\\glpsol'\n",
    ")"
   ]
  },
  {
   "cell_type": "code",
   "execution_count": 11,
   "metadata": {},
   "outputs": [
    {
     "data": {
      "text/plain": [
       "{'Problem': [{'Name': 'unknown', 'Lower bound': 0.81412778886892, 'Upper bound': 0.81412778886892, 'Number of objectives': 1, 'Number of constraints': 12, 'Number of variables': 16, 'Number of nonzeros': 166, 'Sense': 'maximize'}], 'Solver': [{'Status': 'ok', 'Termination condition': 'optimal', 'Statistics': {'Branch and bound': {'Number of bounded subproblems': '7', 'Number of created subproblems': '7'}}, 'Error rc': 0, 'Time': 0.024001598358154297}], 'Solution': [OrderedDict([('number of solutions', 0), ('number of solutions displayed', 0)])]}"
      ]
     },
     "execution_count": 11,
     "metadata": {},
     "output_type": "execute_result"
    }
   ],
   "source": [
    "tmp_solution"
   ]
  },
  {
   "cell_type": "code",
   "execution_count": 12,
   "metadata": {},
   "outputs": [
    {
     "name": "stdout",
     "output_type": "stream",
     "text": [
      "C01: Bought\n",
      "C02: Not bought\n",
      "C03: Not bought\n",
      "C04: Not bought\n",
      "C05: Not bought\n",
      "C06: Bought\n",
      "C07: Not bought\n",
      "C08: Not bought\n",
      "C09: Not bought\n",
      "C10: Bought\n",
      "C11: Bought\n",
      "C12: Not bought\n",
      "C13: Not bought\n",
      "C14: Not bought\n",
      "C15: Bought\n"
     ]
    }
   ],
   "source": [
    "# Inspect channel buys\n",
    "for channel, buy in tmp_model.buys.get_values().items():\n",
    "    print(f'{channel}: {\"Bought\" if buy == 1 else \"Not bought\"}')"
   ]
  },
  {
   "cell_type": "code",
   "execution_count": 13,
   "metadata": {},
   "outputs": [
    {
     "data": {
      "text/plain": [
       "{'C01': 0.8833350289052448,\n",
       " 'C02': 0.0,\n",
       " 'C03': 0.0,\n",
       " 'C04': 0.0,\n",
       " 'C05': 0.0,\n",
       " 'C06': 0.5690269074262767,\n",
       " 'C07': 0.0,\n",
       " 'C08': 0.0,\n",
       " 'C09': 0.0,\n",
       " 'C10': 2.535815825962361,\n",
       " 'C11': 2.4694577996295544,\n",
       " 'C12': 0.0,\n",
       " 'C13': 0.0,\n",
       " 'C14': 0.0,\n",
       " 'C15': 1.6836423267657596}"
      ]
     },
     "execution_count": 13,
     "metadata": {},
     "output_type": "execute_result"
    }
   ],
   "source": [
    "# Total exposure per channel\n",
    "channel_probabilities_exposed = [\n",
    "    (c, tmp_model.buys.get_values()[c] * p)\n",
    "    for (c, v), p in tmp_model.viewership_probabilities.items()\n",
    "]\n",
    "\n",
    "{\n",
    "    c: sum([cpe_p for cpe_c, cpe_p in channel_probabilities_exposed if cpe_c == c])\n",
    "    for c in tmp_model.channels\n",
    "}"
   ]
  },
  {
   "cell_type": "code",
   "execution_count": 14,
   "metadata": {},
   "outputs": [
    {
     "data": {
      "text/plain": [
       "{'Adam': 1.650700664450383,\n",
       " 'Bob': 0.5775688696378342,\n",
       " 'Cynthia': 0.6108399751289463,\n",
       " 'Dylan': 0.5026916692026999,\n",
       " 'Esther': 1.974173486469494,\n",
       " 'Frank': 0.23431065416094032,\n",
       " 'Ginny': 0.12938089794900778,\n",
       " 'Hannah': 1.6413807797133961,\n",
       " 'Icabod': 0.07988495607013071,\n",
       " 'Jen': 0.7403459359063637}"
      ]
     },
     "execution_count": 14,
     "metadata": {},
     "output_type": "execute_result"
    }
   ],
   "source": [
    "# Total exposure per viewer\n",
    "viewer_probabilities_exposed = [\n",
    "    (v, tmp_model.buys.get_values()[c] * p)\n",
    "    for (c, v), p in tmp_model.viewership_probabilities.items()\n",
    "]\n",
    "\n",
    "{\n",
    "    v: sum([vpe_p for vpe_c, vpe_p in viewer_probabilities_exposed if vpe_c == v])\n",
    "    for v in tmp_model.viewers\n",
    "}"
   ]
  },
  {
   "cell_type": "code",
   "execution_count": 15,
   "metadata": {},
   "outputs": [
    {
     "data": {
      "text/plain": [
       "<AxesSubplot:xlabel='Viewer', ylabel='Channel'>"
      ]
     },
     "execution_count": 15,
     "metadata": {},
     "output_type": "execute_result"
    },
    {
     "data": {
      "image/png": "[encoded data removed]",
      "text/plain": [
       "<Figure size 720x720 with 2 Axes>"
      ]
     },
     "metadata": {
      "needs_background": "light"
     },
     "output_type": "display_data"
    }
   ],
   "source": [
    "# Create a heatmap of channel exposures\n",
    "df = pd.DataFrame(\n",
    "    data=[\n",
    "        (c, v, tmp_model.buys.get_values()[c] * p)\n",
    "        for (c, v), p in tmp_model.viewership_probabilities.items()\n",
    "    ],\n",
    "    columns = ['Channel', 'Viewer', 'Exposure']\n",
    ")\n",
    "\n",
    "plt.figure(figsize=(10, 10))\n",
    "sns.heatmap(df.pivot('Channel', 'Viewer', 'Exposure'))"
   ]
  },
  {
   "cell_type": "code",
   "execution_count": null,
   "metadata": {},
   "outputs": [],
   "source": []
  }
 ],
 "metadata": {
  "kernelspec": {
   "display_name": "opt_1",
   "language": "python",
   "name": "opt_1"
  },
  "language_info": {
   "codemirror_mode": {
    "name": "ipython",
    "version": 3
   },
   "file_extension": ".py",
   "mimetype": "text/x-python",
   "name": "python",
   "nbconvert_exporter": "python",
   "pygments_lexer": "ipython3",
   "version": "3.7.9"
  }
 },
 "nbformat": 4,
 "nbformat_minor": 4
}
