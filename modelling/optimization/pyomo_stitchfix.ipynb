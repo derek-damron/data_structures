{
 "cells": [
  {
   "cell_type": "markdown",
   "metadata": {},
   "source": [
    "Working out this example:\n",
    "\n",
    "https://multithreaded.stitchfix.com/blog/2018/06/21/constrained-optimization/"
   ]
  },
  {
   "cell_type": "code",
   "execution_count": 1,
   "metadata": {},
   "outputs": [],
   "source": [
    "import numpy as np\n",
    "\n",
    "stylist_workloads = {\n",
    "    \"Alex\": 1,\n",
    "    \"Jennifer\": 2,\n",
    "    \"Andrew\": 2,\n",
    "    \"DeAnna\": 2,\n",
    "    \"Jesse\": 3\n",
    "}\n",
    "\n",
    "clients = (\n",
    "    \"Trista\",\n",
    "    \"Meredith\",\n",
    "    \"Aaron\",\n",
    "    \"Bob\",\n",
    "    \"Jillian\",\n",
    "    \"Ali\",\n",
    "    \"Ashley\",\n",
    "    \"Emily\",\n",
    "    \"Desiree\",\n",
    "    \"Byron\"\n",
    ")\n",
    "\n",
    "def get_happiness(seed=None):\n",
    "    if seed:\n",
    "        np.random.seed(seed)\n",
    "    return dict(\n",
    "        ((stylist, client), np.random.rand())\n",
    "        for stylist in stylist_workloads\n",
    "        for client in clients\n",
    "    )"
   ]
  },
  {
   "cell_type": "markdown",
   "metadata": {},
   "source": [
    "# Simple baseline: Random Assignment"
   ]
  },
  {
   "cell_type": "code",
   "execution_count": 2,
   "metadata": {},
   "outputs": [
    {
     "name": "stdout",
     "output_type": "stream",
     "text": [
      "\n",
      "Stylist order:\n",
      "['DeAnna' 'Jennifer' 'Jesse' 'Alex' 'Andrew' 'Jesse' 'Jesse' 'Jennifer'\n",
      " 'DeAnna' 'Andrew']\n",
      "\n",
      "Happiness outcomes:\n",
      "[0.8888993137763092, 0.744154168814097, 0.15367390200000686, 0.7278580572480748, 0.9091795928395876, 0.2704089537503508, 0.5610344211351077, 0.11285765363170797, 0.7751929784521634, 0.32569065293360866]\n",
      "\n",
      "Total happiness outcome:\n",
      "5.468949694581013\n",
      "\n"
     ]
    }
   ],
   "source": [
    "# Simulate a single instance\n",
    "\n",
    "# Generate happiness\n",
    "tmp_happiness = get_happiness(666)\n",
    "\n",
    "# Randomly assign stylists\n",
    "tmp_stylists = np.repeat(list(stylist_workloads.keys()), list(stylist_workloads.values()))\n",
    "np.random.shuffle(tmp_stylists)\n",
    "\n",
    "# Get overall happiness outcome\n",
    "tmp_outcome = [\n",
    "    tmp_happiness[(s, c)]\n",
    "    for s, c in zip(tmp_stylists, clients)\n",
    "]\n",
    "\n",
    "# Print status\n",
    "print(f'''\n",
    "Stylist order:\n",
    "{tmp_stylists}\n",
    "\n",
    "Happiness outcomes:\n",
    "{tmp_outcome}\n",
    "\n",
    "Total happiness outcome:\n",
    "{sum(tmp_outcome)}\n",
    "''')\n",
    "\n",
    "del tmp_happiness, tmp_stylists, tmp_outcome"
   ]
  },
  {
   "cell_type": "code",
   "execution_count": 3,
   "metadata": {},
   "outputs": [
    {
     "data": {
      "text/plain": [
       "5.468949694581013"
      ]
     },
     "execution_count": 3,
     "metadata": {},
     "output_type": "execute_result"
    }
   ],
   "source": [
    "# Simulate 1k times\n",
    "def simulate_random_assignment(seed=None):\n",
    "    # Generate happiness\n",
    "    tmp_happiness = get_happiness(seed)\n",
    "\n",
    "    # Randomly assign stylists\n",
    "    tmp_stylists = np.repeat(list(stylist_workloads.keys()), list(stylist_workloads.values()))\n",
    "    np.random.shuffle(tmp_stylists)\n",
    "\n",
    "    # Get overall happiness outcome\n",
    "    tmp_outcome = [\n",
    "        tmp_happiness[(s, c)]\n",
    "        for s, c in zip(tmp_stylists, clients)\n",
    "    ]\n",
    "    \n",
    "    return(sum(tmp_outcome))\n",
    "\n",
    "# Test on previous simulation\n",
    "simulate_random_assignment(666)"
   ]
  },
  {
   "cell_type": "code",
   "execution_count": 4,
   "metadata": {},
   "outputs": [
    {
     "data": {
      "text/plain": [
       "4.988297537888374"
      ]
     },
     "execution_count": 4,
     "metadata": {},
     "output_type": "execute_result"
    }
   ],
   "source": [
    "# Simulate 1k times for different random seeds\n",
    "sim_rand_1k = [\n",
    "    simulate_random_assignment(i)\n",
    "    for i in range(1000)\n",
    "]\n",
    "\n",
    "np.mean(sim_rand_1k)"
   ]
  },
  {
   "cell_type": "code",
   "execution_count": 5,
   "metadata": {},
   "outputs": [
    {
     "data": {
      "text/plain": [
       "<seaborn.axisgrid.FacetGrid at 0xa0fee88>"
      ]
     },
     "execution_count": 5,
     "metadata": {},
     "output_type": "execute_result"
    },
    {
     "data": {
      "image/png": "[encoded data removed]",
      "text/plain": [
       "<Figure size 360x360 with 1 Axes>"
      ]
     },
     "metadata": {
      "needs_background": "light"
     },
     "output_type": "display_data"
    }
   ],
   "source": [
    "# Plot\n",
    "import seaborn as sns\n",
    "\n",
    "sns.displot(x=sim_rand_1k, kde=True)"
   ]
  },
  {
   "cell_type": "markdown",
   "metadata": {},
   "source": [
    "# Slightly more complicated baseline: Greedy assignment\n",
    "\n",
    "I.e. start with the highest happiness pair, and work downwards from there."
   ]
  },
  {
   "cell_type": "code",
   "execution_count": 6,
   "metadata": {},
   "outputs": [
    {
     "name": "stdout",
     "output_type": "stream",
     "text": [
      "Pairing Andrew and Ali\n",
      "Pairing Alex and Jillian\n",
      "  Continue, client Jillian assigned\n",
      "Pairing Jesse and Emily\n",
      "Pairing DeAnna and Trista\n",
      "Pairing Jesse and Desiree\n",
      "  Continue, stylist Alex at capacity\n",
      "Pairing Jesse and Bob\n",
      "Pairing DeAnna and Aaron\n",
      "  Continue, stylist DeAnna at capacity\n",
      "  Continue, client Ali assigned\n",
      "Pairing Jennifer and Meredith\n",
      "  Continue, stylist DeAnna at capacity\n",
      "  Continue, stylist Alex at capacity\n",
      "  Continue, client Meredith assigned\n",
      "  Continue, client Bob assigned\n",
      "  Continue, stylist Alex at capacity\n",
      "  Continue, stylist Alex at capacity\n",
      "  Continue, stylist DeAnna at capacity\n",
      "  Continue, client Desiree assigned\n",
      "  Continue, stylist Jesse at capacity\n",
      "  Continue, stylist DeAnna at capacity\n",
      "Pairing Andrew and Ashley\n",
      "  Continue, stylist Alex at capacity\n",
      "  Continue, stylist Jesse at capacity\n",
      "  Continue, stylist Jesse at capacity\n",
      "  Continue, stylist DeAnna at capacity\n",
      "  Continue, stylist Alex at capacity\n",
      "  Continue, stylist DeAnna at capacity\n",
      "  Continue, stylist Andrew at capacity\n",
      "  Continue, stylist Andrew at capacity\n",
      "  Continue, client Jillian assigned\n",
      "  Continue, stylist Jesse at capacity\n",
      "  Continue, stylist Andrew at capacity\n",
      "Pairing Jennifer and Byron\n",
      "\n",
      "Pairings:\n",
      "[('Andrew', 'Ali'), ('Alex', 'Jillian'), ('Jesse', 'Emily'), ('DeAnna', 'Trista'), ('Jesse', 'Desiree'), ('Jesse', 'Bob'), ('DeAnna', 'Aaron'), ('Jennifer', 'Meredith'), ('Andrew', 'Ashley'), ('Jennifer', 'Byron')]\n",
      "\n",
      "Happiness outcomes:\n",
      "[0.9783469850151286, 0.9514579574463393, 0.9023803898920602, 0.8888993137763092, 0.8517883417630912, 0.8284651332524626, 0.8188736905778184, 0.744154168814097, 0.5328025441060883, 0.24766822869503025]\n",
      "\n",
      "Total happiness outcome:\n",
      "7.744836753338426\n",
      "\n"
     ]
    }
   ],
   "source": [
    "# Simulate a single instance\n",
    "\n",
    "# Generate happiness\n",
    "tmp_happiness = get_happiness(666)\n",
    "\n",
    "# Order happiness in decreasing order\n",
    "tmp_happiness = dict(sorted(tmp_happiness.items(), key=lambda item: item[1], reverse=True))\n",
    "\n",
    "# Iteratively assign\n",
    "tmp_count_stylist = {k: v for k, v in stylist_workloads.items()}\n",
    "tmp_count_client = {k: 0 for k in clients}\n",
    "tmp_assignments = list()\n",
    "for sc, v in tmp_happiness.items():\n",
    "    # Get stylist and client separately\n",
    "    s = sc[0]\n",
    "    c = sc[1]\n",
    "    \n",
    "    # If stylist at capacity, continue\n",
    "    if tmp_count_stylist[s] == 0:\n",
    "        print(f'  Continue, stylist {s} at capacity')\n",
    "        continue\n",
    "    \n",
    "    # If client assigned, continue\n",
    "    if tmp_count_client[c] == 1:\n",
    "        print(f'  Continue, client {c} assigned')\n",
    "        continue\n",
    "        \n",
    "    # Assign\n",
    "    print(f'Pairing {s} and {c}')\n",
    "    tmp_assignments.append((s, c))\n",
    "    tmp_count_stylist[s] -= 1\n",
    "    tmp_count_client[c] += 1\n",
    "    \n",
    "    # Break if all clients have been assigned\n",
    "    if 0 not in tmp_count_client.values():\n",
    "        break\n",
    "\n",
    "# Get overall happiness outcome\n",
    "tmp_outcome = [\n",
    "    tmp_happiness[(s, c)]\n",
    "    for s, c in tmp_assignments\n",
    "]\n",
    "\n",
    "# Print status\n",
    "print(f'''\n",
    "Pairings:\n",
    "{tmp_assignments}\n",
    "\n",
    "Happiness outcomes:\n",
    "{tmp_outcome}\n",
    "\n",
    "Total happiness outcome:\n",
    "{sum(tmp_outcome)}\n",
    "''')\n",
    "\n",
    "#del tmp_happiness, tmp_stylists, tmp_outcome"
   ]
  },
  {
   "cell_type": "code",
   "execution_count": 7,
   "metadata": {},
   "outputs": [
    {
     "data": {
      "text/plain": [
       "7.744836753338426"
      ]
     },
     "execution_count": 7,
     "metadata": {},
     "output_type": "execute_result"
    }
   ],
   "source": [
    "# Simulate 1k times\n",
    "def simulate_greedy_assignment(seed=None):\n",
    "    # Generate happiness\n",
    "    tmp_happiness = get_happiness(seed)\n",
    "\n",
    "    # Order happiness in decreasing order\n",
    "    tmp_happiness = dict(sorted(tmp_happiness.items(), key=lambda item: item[1], reverse=True))\n",
    "\n",
    "    # Iteratively assign\n",
    "    tmp_count_stylist = {k: v for k, v in stylist_workloads.items()}\n",
    "    tmp_count_client = {k: 0 for k in clients}\n",
    "    tmp_assignments = list()\n",
    "    for sc, v in tmp_happiness.items():\n",
    "        # Get stylist and client separately\n",
    "        s = sc[0]\n",
    "        c = sc[1]\n",
    "\n",
    "        # If stylist at capacity, continue\n",
    "        if tmp_count_stylist[s] == 0:\n",
    "            continue\n",
    "\n",
    "        # If client assigned, continue\n",
    "        if tmp_count_client[c] == 1:\n",
    "            continue\n",
    "\n",
    "        # Assign\n",
    "        tmp_assignments.append((s, c))\n",
    "        tmp_count_stylist[s] -= 1\n",
    "        tmp_count_client[c] += 1\n",
    "\n",
    "        # Break if all clients have been assigned\n",
    "        if 0 not in tmp_count_client.values():\n",
    "            break\n",
    "\n",
    "    # Get overall happiness outcome\n",
    "    tmp_outcome = [\n",
    "        tmp_happiness[(s, c)]\n",
    "        for s, c in tmp_assignments\n",
    "    ]\n",
    "    \n",
    "    return(sum(tmp_outcome))\n",
    "\n",
    "# Test on previous simulation\n",
    "simulate_greedy_assignment(666)"
   ]
  },
  {
   "cell_type": "code",
   "execution_count": 8,
   "metadata": {},
   "outputs": [
    {
     "data": {
      "text/plain": [
       "7.525586598916969"
      ]
     },
     "execution_count": 8,
     "metadata": {},
     "output_type": "execute_result"
    }
   ],
   "source": [
    "# Simulate 1k times for different random seeds\n",
    "sim_greed_1k = [\n",
    "    simulate_greedy_assignment(i)\n",
    "    for i in range(1000)\n",
    "]\n",
    "\n",
    "np.mean(sim_greed_1k)"
   ]
  },
  {
   "cell_type": "code",
   "execution_count": 9,
   "metadata": {},
   "outputs": [
    {
     "data": {
      "text/plain": [
       "<seaborn.axisgrid.FacetGrid at 0xa444848>"
      ]
     },
     "execution_count": 9,
     "metadata": {},
     "output_type": "execute_result"
    },
    {
     "data": {
      "image/png": "[encoded data removed]",
      "text/plain": [
       "<Figure size 360x360 with 1 Axes>"
      ]
     },
     "metadata": {
      "needs_background": "light"
     },
     "output_type": "display_data"
    }
   ],
   "source": [
    "# Plot\n",
    "sns.displot(x=sim_greed_1k, kde=True)"
   ]
  },
  {
   "cell_type": "markdown",
   "metadata": {},
   "source": [
    "# Constrained optimization using pyomo"
   ]
  },
  {
   "cell_type": "code",
   "execution_count": 10,
   "metadata": {},
   "outputs": [],
   "source": [
    "from pyomo import environ as pe\n",
    "tmp_model = pe.ConcreteModel()"
   ]
  },
  {
   "cell_type": "code",
   "execution_count": 11,
   "metadata": {},
   "outputs": [],
   "source": [
    "# Define our indices (things our parameters and variables can be defined over)\n",
    "# -> Here, stylists and clients\n",
    "\n",
    "tmp_model.stylists = pe.Set(\n",
    "    initialize=stylist_workloads.keys()\n",
    ")\n",
    "\n",
    "tmp_model.clients = pe.Set(\n",
    "    initialize=clients\n",
    ")"
   ]
  },
  {
   "cell_type": "code",
   "execution_count": 12,
   "metadata": {},
   "outputs": [],
   "source": [
    "# Define our parameters (fixed external factors)\n",
    "# -> Here, our happiness probabilities and stylist workloads\n",
    "\n",
    "# Generate happiness\n",
    "tmp_happiness = get_happiness(666)\n",
    "\n",
    "tmp_model.happiness_probabilities = pe.Param(\n",
    "    # On pyomo Set objects, the * operator returns the Cartesian product\n",
    "    tmp_model.stylists * tmp_model.clients,\n",
    "    # The dictionary mapping (stylist, client) pairs to chances of a happy customers\n",
    "    initialize = tmp_happiness,\n",
    "    # Happiness probabilities are real numbers between 0 and 1\n",
    "    within = pe.UnitInterval\n",
    ")\n",
    "\n",
    "tmp_model.stylist_workloads = pe.Param(\n",
    "    tmp_model.stylists,\n",
    "    initialize = stylist_workloads,\n",
    "    within = pe.NonNegativeIntegers\n",
    ")"
   ]
  },
  {
   "cell_type": "code",
   "execution_count": 13,
   "metadata": {},
   "outputs": [],
   "source": [
    "# Define our free variables (things we can vary)\n",
    "# -> Here, just our assignment matrix\n",
    "\n",
    "tmp_model.assignments = pe.Var(\n",
    "    # Defined over the client-stylist matrix\n",
    "    tmp_model.stylists * tmp_model.clients,\n",
    "    # Possible values are 0 and 1\n",
    "    domain = pe.Binary\n",
    ")"
   ]
  },
  {
   "cell_type": "code",
   "execution_count": 14,
   "metadata": {},
   "outputs": [],
   "source": [
    "# Define our objective\n",
    "# -> Here the sum of expected happiness * assignment indicator across all possible combinations of stylist-client combinations\n",
    "\n",
    "tmp_model.objective = pe.Objective(\n",
    "    expr = pe.summation(tmp_model.happiness_probabilities, tmp_model.assignments),\n",
    "    sense = pe.maximize\n",
    ")"
   ]
  },
  {
   "cell_type": "code",
   "execution_count": 15,
   "metadata": {},
   "outputs": [],
   "source": [
    "# Define our constraints\n",
    "# -> Here, \n",
    "#    1) no stylist can have more than their workload\n",
    "#    2) each client is assigned to exactly one stylist\n",
    "\n",
    "def respect_workload(model, stylist):\n",
    "    # Count up all the clients assigned to the stylist\n",
    "    n_clients_assigned_to_stylist = sum(\n",
    "        model.assignments[stylist, client]\n",
    "        for client in model.clients\n",
    "    )\n",
    "    # What's the max number of clients that stylist can work with?\n",
    "    max_clients = model.stylist_workloads[stylist]\n",
    "    # Make sure that sum is no more than the stylist's workload\n",
    "    return n_clients_assigned_to_stylist <= max_clients\n",
    "\n",
    "tmp_model.respect_workload = pe.Constraint(\n",
    "    # For each stylist in the set of all stylists\n",
    "    tmp_model.stylists,\n",
    "    # Ensure that total assigned clients is at most equal to the workload\n",
    "    rule = respect_workload\n",
    ")\n",
    "\n",
    "def one_stylist_per_client(model, client):\n",
    "    # Count up all stylists assigned to the client\n",
    "    n_stylists_assigned_to_client = sum(\n",
    "        model.assignments[stylist, client]\n",
    "        for stylist in model.stylists\n",
    "    )\n",
    "    # Make sure there is one stylist for each client\n",
    "    return n_stylists_assigned_to_client == 1\n",
    "\n",
    "tmp_model.one_stylist_per_client = pe.Constraint(\n",
    "    # For each client in the set of all clients\n",
    "    tmp_model.clients,\n",
    "    # Ensure that exactly one stylist is assigned\n",
    "    rule = one_stylist_per_client\n",
    ")"
   ]
  },
  {
   "cell_type": "code",
   "execution_count": 16,
   "metadata": {},
   "outputs": [],
   "source": [
    "# Solve it!\n",
    "\n",
    "#import sys\n",
    "#sys.path.append('C:\\\\glpk-4.65\\\\w64')\n",
    "\n",
    "# Swap out \"glpk\" for \"cbc\" or \"gurobi\" if using another solver\n",
    "solver = pe.SolverFactory(\"glpk\")\n",
    "# Add the keyword arg tee=True for a detailed trace of the solver's work.\n",
    "tmp_solution = solver.solve(\n",
    "    tmp_model,\n",
    "    #executable = 'C:\\\\glpk-4.65\\\\w64\\\\glpsol'\n",
    ")"
   ]
  },
  {
   "cell_type": "code",
   "execution_count": 17,
   "metadata": {},
   "outputs": [
    {
     "name": "stdout",
     "output_type": "stream",
     "text": [
      "   Byron will be styled by Alex\n",
      "     Ali will be styled by Andrew\n",
      " Jillian will be styled by Andrew\n",
      "   Aaron will be styled by DeAnna\n",
      "  Trista will be styled by DeAnna\n",
      "     Bob will be styled by Jennifer\n",
      "Meredith will be styled by Jennifer\n",
      "  Ashley will be styled by Jesse\n",
      " Desiree will be styled by Jesse\n",
      "   Emily will be styled by Jesse\n"
     ]
    },
    {
     "data": {
      "text/plain": [
       "7.863567961746188"
      ]
     },
     "execution_count": 17,
     "metadata": {},
     "output_type": "execute_result"
    }
   ],
   "source": [
    "# Inspect\n",
    "# -> Each variable has a get_values() method that returns a mapping of indices to optimal values at that index\n",
    "\n",
    "tmp_assignments = tmp_model.assignments.get_values().items()\n",
    "for (stylist, client), assigned in sorted(tmp_assignments):\n",
    "    if assigned == 1:\n",
    "        print(f'{client.rjust(8)} will be styled by {stylist}')\n",
    "        \n",
    "# Get total happiness\n",
    "sum([\n",
    "    tmp_happiness[(s, c)]\n",
    "    for (s, c), a in tmp_assignments\n",
    "    if a == 1\n",
    "])"
   ]
  },
  {
   "cell_type": "code",
   "execution_count": 18,
   "metadata": {},
   "outputs": [
    {
     "data": {
      "text/plain": [
       "7.863567961746188"
      ]
     },
     "execution_count": 18,
     "metadata": {},
     "output_type": "execute_result"
    }
   ],
   "source": [
    "# Simulate 1k times\n",
    "def simulate_optimized_assignment(seed=None):\n",
    "    # Specify model\n",
    "    tmp_model = pe.ConcreteModel()\n",
    "    tmp_model.stylists = pe.Set(\n",
    "        initialize=stylist_workloads.keys()\n",
    "    )\n",
    "    tmp_model.clients = pe.Set(\n",
    "        initialize=clients\n",
    "    )\n",
    "    tmp_happiness = get_happiness(seed)\n",
    "    tmp_model.happiness_probabilities = pe.Param(\n",
    "        # On pyomo Set objects, the * operator returns the Cartesian product\n",
    "        tmp_model.stylists * tmp_model.clients,\n",
    "        # The dictionary mapping (stylist, client) pairs to chances of a happy customers\n",
    "        initialize = tmp_happiness,\n",
    "        # Happiness probabilities are real numbers between 0 and 1\n",
    "        within = pe.UnitInterval\n",
    "    )\n",
    "    tmp_model.stylist_workloads = pe.Param(\n",
    "        tmp_model.stylists,\n",
    "        initialize = stylist_workloads,\n",
    "        within = pe.NonNegativeIntegers\n",
    "    )\n",
    "    tmp_model.assignments = pe.Var(\n",
    "        # Defined over the client-stylist matrix\n",
    "        tmp_model.stylists * tmp_model.clients,\n",
    "        # Possible values are 0 and 1\n",
    "        domain = pe.Binary\n",
    "    )\n",
    "    tmp_model.objective = pe.Objective(\n",
    "        expr = pe.summation(tmp_model.happiness_probabilities, tmp_model.assignments),\n",
    "        sense = pe.maximize\n",
    "    )\n",
    "    tmp_model.respect_workload = pe.Constraint(\n",
    "        # For each stylist in the set of all stylists\n",
    "        tmp_model.stylists,\n",
    "        # Ensure that total assigned clients is at most equal to the workload\n",
    "        rule = respect_workload\n",
    "    )\n",
    "    tmp_model.one_stylist_per_client = pe.Constraint(\n",
    "        # For each client in the set of all clients\n",
    "        tmp_model.clients,\n",
    "        # Ensure that exactly one stylist is assigned\n",
    "        rule = one_stylist_per_client\n",
    "    )\n",
    "    \n",
    "    # Solve\n",
    "    tmp_solution = solver.solve(tmp_model)\n",
    "    tmp_assignments = tmp_model.assignments.get_values().items()\n",
    "    \n",
    "    # Get overall happiness outcome\n",
    "    tmp_outcome = [\n",
    "        tmp_happiness[(s, c)]\n",
    "        for (s, c), a in tmp_assignments\n",
    "        if a == 1\n",
    "    ]\n",
    "    \n",
    "    return(sum(tmp_outcome))\n",
    "\n",
    "# Test on previous simulation\n",
    "simulate_optimized_assignment(666)"
   ]
  },
  {
   "cell_type": "code",
   "execution_count": 19,
   "metadata": {},
   "outputs": [
    {
     "data": {
      "text/plain": [
       "7.903393916484717"
      ]
     },
     "execution_count": 19,
     "metadata": {},
     "output_type": "execute_result"
    }
   ],
   "source": [
    "# Simulate 1k times for different random seeds\n",
    "sim_optimized_1k = [\n",
    "    simulate_optimized_assignment(i)\n",
    "    for i in range(1000)\n",
    "]\n",
    "\n",
    "np.mean(sim_optimized_1k)"
   ]
  },
  {
   "cell_type": "code",
   "execution_count": 20,
   "metadata": {},
   "outputs": [
    {
     "data": {
      "text/plain": [
       "<seaborn.axisgrid.FacetGrid at 0xc139248>"
      ]
     },
     "execution_count": 20,
     "metadata": {},
     "output_type": "execute_result"
    },
    {
     "data": {
      "image/png": "[encoded data removed]",
      "text/plain": [
       "<Figure size 360x360 with 1 Axes>"
      ]
     },
     "metadata": {
      "needs_background": "light"
     },
     "output_type": "display_data"
    }
   ],
   "source": [
    "# Plot\n",
    "sns.displot(x=sim_optimized_1k, kde=True)"
   ]
  },
  {
   "cell_type": "code",
   "execution_count": 21,
   "metadata": {},
   "outputs": [
    {
     "data": {
      "text/plain": [
       "<seaborn.axisgrid.FacetGrid at 0xc5bc748>"
      ]
     },
     "execution_count": 21,
     "metadata": {},
     "output_type": "execute_result"
    },
    {
     "data": {
      "image/png": "[encoded data removed]",
      "text/plain": [
       "<Figure size 445.125x360 with 1 Axes>"
      ]
     },
     "metadata": {
      "needs_background": "light"
     },
     "output_type": "display_data"
    }
   ],
   "source": [
    "# Plot happiness distributions for each approach on the same graph\n",
    "import pandas as pd\n",
    "all_sims = pd.DataFrame(data={\n",
    "    'type': np.repeat(['random', 'greedy', 'optimized'], 1000),\n",
    "    'iter': list(range(1, 1001)) * 3,\n",
    "    'happiness': sim_rand_1k + sim_greed_1k + sim_optimized_1k\n",
    "})\n",
    "\n",
    "sns.displot(data=all_sims, x='happiness', hue='type', kind='kde')"
   ]
  },
  {
   "cell_type": "markdown",
   "metadata": {},
   "source": [
    "# Add in some custom constraints\n",
    "\n",
    "- Jesse cannot style Jillian\n",
    "- Cannot pair any stylist/client whose names start with the same letter"
   ]
  },
  {
   "cell_type": "code",
   "execution_count": 22,
   "metadata": {},
   "outputs": [],
   "source": [
    "# Jesse cannot style Jillian\n",
    "# -> This is a new constraint\n",
    "def do_not_pair_jesse_and_jillian(model):\n",
    "    return model.assignments['Jesse', 'Jillian'] == 0"
   ]
  },
  {
   "cell_type": "code",
   "execution_count": 23,
   "metadata": {},
   "outputs": [
    {
     "data": {
      "text/plain": [
       "7.863567961746188"
      ]
     },
     "execution_count": 23,
     "metadata": {},
     "output_type": "execute_result"
    }
   ],
   "source": [
    "# Simulate once to verify that it's working\n",
    "def simulate_optimized_assignment_jessejillian(seed=None):\n",
    "    # Specify model\n",
    "    tmp_model = pe.ConcreteModel()\n",
    "    tmp_model.stylists = pe.Set(\n",
    "        initialize=stylist_workloads.keys()\n",
    "    )\n",
    "    tmp_model.clients = pe.Set(\n",
    "        initialize=clients\n",
    "    )\n",
    "    tmp_happiness = get_happiness(seed)\n",
    "    tmp_model.happiness_probabilities = pe.Param(\n",
    "        # On pyomo Set objects, the * operator returns the Cartesian product\n",
    "        tmp_model.stylists * tmp_model.clients,\n",
    "        # The dictionary mapping (stylist, client) pairs to chances of a happy customers\n",
    "        initialize = tmp_happiness,\n",
    "        # Happiness probabilities are real numbers between 0 and 1\n",
    "        within = pe.UnitInterval\n",
    "    )\n",
    "    tmp_model.stylist_workloads = pe.Param(\n",
    "        tmp_model.stylists,\n",
    "        initialize = stylist_workloads,\n",
    "        within = pe.NonNegativeIntegers\n",
    "    )\n",
    "    tmp_model.assignments = pe.Var(\n",
    "        # Defined over the client-stylist matrix\n",
    "        tmp_model.stylists * tmp_model.clients,\n",
    "        # Possible values are 0 and 1\n",
    "        domain = pe.Binary\n",
    "    )\n",
    "    tmp_model.objective = pe.Objective(\n",
    "        expr = pe.summation(tmp_model.happiness_probabilities, tmp_model.assignments),\n",
    "        sense = pe.maximize\n",
    "    )\n",
    "    tmp_model.respect_workload = pe.Constraint(\n",
    "        # For each stylist in the set of all stylists\n",
    "        tmp_model.stylists,\n",
    "        # Ensure that total assigned clients is at most equal to the workload\n",
    "        rule = respect_workload\n",
    "    )\n",
    "    tmp_model.one_stylist_per_client = pe.Constraint(\n",
    "        # For each client in the set of all clients\n",
    "        tmp_model.clients,\n",
    "        # Ensure that exactly one stylist is assigned\n",
    "        rule = one_stylist_per_client\n",
    "    )\n",
    "    tmp_model.do_not_pair_jesse_and_illian = pe.Constraint(\n",
    "        # Ensure that exactly one stylist is assigned\n",
    "        rule = do_not_pair_jesse_and_jillian\n",
    "    )\n",
    "    \n",
    "    # Solve\n",
    "    tmp_solution = solver.solve(tmp_model)\n",
    "    tmp_assignments = tmp_model.assignments.get_values().items()\n",
    "    \n",
    "    # Get overall happiness outcome\n",
    "    tmp_outcome = [\n",
    "        tmp_happiness[(s, c)]\n",
    "        for (s, c), a in tmp_assignments\n",
    "        if a == 1\n",
    "    ]\n",
    "    \n",
    "    return(sum(tmp_outcome))\n",
    "\n",
    "# Test on previous simulation\n",
    "simulate_optimized_assignment_jessejillian(666)"
   ]
  },
  {
   "cell_type": "code",
   "execution_count": 24,
   "metadata": {},
   "outputs": [
    {
     "data": {
      "text/plain": [
       "7.834013112743809"
      ]
     },
     "execution_count": 24,
     "metadata": {},
     "output_type": "execute_result"
    }
   ],
   "source": [
    "# Simulate 1k times for different random seeds\n",
    "sim_optimized_jessejillian_1k = [\n",
    "    simulate_optimized_assignment_jessejillian(i)\n",
    "    for i in range(1000)\n",
    "]\n",
    "\n",
    "np.mean(sim_optimized_jessejillian_1k)"
   ]
  },
  {
   "cell_type": "code",
   "execution_count": 25,
   "metadata": {},
   "outputs": [],
   "source": [
    "# No starting letter pairs\n",
    "def do_not_pair_starting_letters(model):\n",
    "    # Count up all stylists assigned to the client\n",
    "    n_starting_letter_pairs = sum(\n",
    "        model.assignments[stylist, client]\n",
    "        for stylist in model.stylists\n",
    "        for client in model.clients\n",
    "        if stylist[0] == client[0]\n",
    "    )\n",
    "    # Make sure none exist\n",
    "    return n_starting_letter_pairs == 0"
   ]
  },
  {
   "cell_type": "code",
   "execution_count": 26,
   "metadata": {},
   "outputs": [
    {
     "data": {
      "text/plain": [
       "7.642867416420719"
      ]
     },
     "execution_count": 26,
     "metadata": {},
     "output_type": "execute_result"
    }
   ],
   "source": [
    "# Simulate once to verify that it's working\n",
    "def simulate_optimized_assignment_startingpairs(seed=None):\n",
    "    # Specify model\n",
    "    tmp_model = pe.ConcreteModel()\n",
    "    tmp_model.stylists = pe.Set(\n",
    "        initialize=stylist_workloads.keys()\n",
    "    )\n",
    "    tmp_model.clients = pe.Set(\n",
    "        initialize=clients\n",
    "    )\n",
    "    tmp_happiness = get_happiness(seed)\n",
    "    tmp_model.happiness_probabilities = pe.Param(\n",
    "        # On pyomo Set objects, the * operator returns the Cartesian product\n",
    "        tmp_model.stylists * tmp_model.clients,\n",
    "        # The dictionary mapping (stylist, client) pairs to chances of a happy customers\n",
    "        initialize = tmp_happiness,\n",
    "        # Happiness probabilities are real numbers between 0 and 1\n",
    "        within = pe.UnitInterval\n",
    "    )\n",
    "    tmp_model.stylist_workloads = pe.Param(\n",
    "        tmp_model.stylists,\n",
    "        initialize = stylist_workloads,\n",
    "        within = pe.NonNegativeIntegers\n",
    "    )\n",
    "    tmp_model.assignments = pe.Var(\n",
    "        # Defined over the client-stylist matrix\n",
    "        tmp_model.stylists * tmp_model.clients,\n",
    "        # Possible values are 0 and 1\n",
    "        domain = pe.Binary\n",
    "    )\n",
    "    tmp_model.objective = pe.Objective(\n",
    "        expr = pe.summation(tmp_model.happiness_probabilities, tmp_model.assignments),\n",
    "        sense = pe.maximize\n",
    "    )\n",
    "    tmp_model.respect_workload = pe.Constraint(\n",
    "        # For each stylist in the set of all stylists\n",
    "        tmp_model.stylists,\n",
    "        # Ensure that total assigned clients is at most equal to the workload\n",
    "        rule = respect_workload\n",
    "    )\n",
    "    tmp_model.one_stylist_per_client = pe.Constraint(\n",
    "        # For each client in the set of all clients\n",
    "        tmp_model.clients,\n",
    "        # Ensure that exactly one stylist is assigned\n",
    "        rule = one_stylist_per_client\n",
    "    )\n",
    "    tmp_model.do_not_pair_starting_letters = pe.Constraint(\n",
    "        # Ensure that no start pairs are created\n",
    "        rule = do_not_pair_starting_letters\n",
    "    )\n",
    "    \n",
    "    # Solve\n",
    "    tmp_solution = solver.solve(tmp_model)\n",
    "    tmp_assignments = tmp_model.assignments.get_values().items()\n",
    "    \n",
    "    # Get overall happiness outcome\n",
    "    tmp_outcome = [\n",
    "        tmp_happiness[(s, c)]\n",
    "        for (s, c), a in tmp_assignments\n",
    "        if a == 1\n",
    "    ]\n",
    "    \n",
    "    return(sum(tmp_outcome))\n",
    "\n",
    "# Test on previous simulation\n",
    "simulate_optimized_assignment_startingpairs(666)"
   ]
  },
  {
   "cell_type": "code",
   "execution_count": 27,
   "metadata": {},
   "outputs": [
    {
     "data": {
      "text/plain": [
       "7.537768562073686"
      ]
     },
     "execution_count": 27,
     "metadata": {},
     "output_type": "execute_result"
    }
   ],
   "source": [
    "# Simulate 1k times for different random seeds\n",
    "sim_optimized_startingpairs_1k = [\n",
    "    simulate_optimized_assignment_startingpairs(i)\n",
    "    for i in range(1000)\n",
    "]\n",
    "\n",
    "np.mean(sim_optimized_startingpairs_1k)"
   ]
  },
  {
   "cell_type": "code",
   "execution_count": 28,
   "metadata": {},
   "outputs": [
    {
     "data": {
      "text/plain": [
       "<seaborn.axisgrid.FacetGrid at 0xc7e6688>"
      ]
     },
     "execution_count": 28,
     "metadata": {},
     "output_type": "execute_result"
    },
    {
     "data": {
      "image/png": "[encoded data removed]",
      "text/plain": [
       "<Figure size 526x360 with 1 Axes>"
      ]
     },
     "metadata": {
      "needs_background": "light"
     },
     "output_type": "display_data"
    }
   ],
   "source": [
    "# Plot happiness distributions for this against the previously optimized one\n",
    "# -> Both should be a bit worse distributionally\n",
    "# -> Starting pairs <= jesseshould be slightly worse \n",
    "all_sims = pd.DataFrame(data={\n",
    "    'type': np.repeat(['optimized', 'optimized_nojj', 'optimized_nostartingpairs'], 1000),\n",
    "    'iter': list(range(1, 1001)) * 3,\n",
    "    'happiness': sim_optimized_1k + sim_optimized_jessejillian_1k + sim_optimized_startingpairs_1k\n",
    "})\n",
    "\n",
    "sns.displot(data=all_sims, x='happiness', hue='type', kind='kde')"
   ]
  },
  {
   "cell_type": "markdown",
   "metadata": {},
   "source": [
    "# Modify assignent constraint\n",
    "\n",
    "All stylists have capacity for 3 pairings, but can have no more than 2."
   ]
  },
  {
   "cell_type": "code",
   "execution_count": 29,
   "metadata": {},
   "outputs": [],
   "source": [
    "# Adjust workloads\n",
    "stylist_workloads_all3 = {\n",
    "    \"Alex\": 3,\n",
    "    \"Jennifer\": 3,\n",
    "    \"Andrew\": 3,\n",
    "    \"DeAnna\": 3,\n",
    "    \"Jesse\": 3\n",
    "}"
   ]
  },
  {
   "cell_type": "code",
   "execution_count": 30,
   "metadata": {},
   "outputs": [],
   "source": [
    "# Adjust workload constraint\n",
    "def respect_workload_lte2(model, stylist):\n",
    "    # Count up all the clients assigned to the stylist\n",
    "    n_clients_assigned_to_stylist = sum(\n",
    "        model.assignments[stylist, client]\n",
    "        for client in model.clients\n",
    "    )\n",
    "    # Make sure that sum is no more than the stylist's workload\n",
    "    return n_clients_assigned_to_stylist <= 2"
   ]
  },
  {
   "cell_type": "code",
   "execution_count": 31,
   "metadata": {},
   "outputs": [
    {
     "data": {
      "text/plain": [
       "7.642867416420719"
      ]
     },
     "execution_count": 31,
     "metadata": {},
     "output_type": "execute_result"
    }
   ],
   "source": [
    "# Simulate once to verify that it's working\n",
    "def simulate_optimized_assignment_lte2(seed=None):\n",
    "    # Specify model\n",
    "    tmp_model = pe.ConcreteModel()\n",
    "    tmp_model.stylists = pe.Set(\n",
    "        initialize=stylist_workloads_all3.keys()\n",
    "    )\n",
    "    tmp_model.clients = pe.Set(\n",
    "        initialize=clients\n",
    "    )\n",
    "    tmp_happiness = get_happiness(seed)\n",
    "    tmp_model.happiness_probabilities = pe.Param(\n",
    "        # On pyomo Set objects, the * operator returns the Cartesian product\n",
    "        tmp_model.stylists * tmp_model.clients,\n",
    "        # The dictionary mapping (stylist, client) pairs to chances of a happy customers\n",
    "        initialize = tmp_happiness,\n",
    "        # Happiness probabilities are real numbers between 0 and 1\n",
    "        within = pe.UnitInterval\n",
    "    )\n",
    "    tmp_model.stylist_workloads_all3 = pe.Param(\n",
    "        tmp_model.stylists,\n",
    "        initialize = stylist_workloads_all3,\n",
    "        within = pe.NonNegativeIntegers\n",
    "    )\n",
    "    tmp_model.assignments = pe.Var(\n",
    "        # Defined over the client-stylist matrix\n",
    "        tmp_model.stylists * tmp_model.clients,\n",
    "        # Possible values are 0 and 1\n",
    "        domain = pe.Binary\n",
    "    )\n",
    "    tmp_model.objective = pe.Objective(\n",
    "        expr = pe.summation(tmp_model.happiness_probabilities, tmp_model.assignments),\n",
    "        sense = pe.maximize\n",
    "    )\n",
    "    tmp_model.respect_workload_lte2 = pe.Constraint(\n",
    "        # For each stylist in the set of all stylists\n",
    "        tmp_model.stylists,\n",
    "        # Ensure that total assigned clients is at most equal to the workload\n",
    "        rule = respect_workload_lte2\n",
    "    )\n",
    "    tmp_model.one_stylist_per_client = pe.Constraint(\n",
    "        # For each client in the set of all clients\n",
    "        tmp_model.clients,\n",
    "        # Ensure that exactly one stylist is assigned\n",
    "        rule = one_stylist_per_client\n",
    "    )\n",
    "    \n",
    "    # Solve\n",
    "    tmp_solution = solver.solve(tmp_model)\n",
    "    tmp_assignments = tmp_model.assignments.get_values().items()\n",
    "    \n",
    "    # Get overall happiness outcome\n",
    "    tmp_outcome = [\n",
    "        tmp_happiness[(s, c)]\n",
    "        for (s, c), a in tmp_assignments\n",
    "        if a == 1\n",
    "    ]\n",
    "    \n",
    "    return(sum(tmp_outcome))\n",
    "\n",
    "# Test on previous simulation\n",
    "simulate_optimized_assignment_startingpairs(666)"
   ]
  },
  {
   "cell_type": "code",
   "execution_count": 32,
   "metadata": {},
   "outputs": [
    {
     "data": {
      "text/plain": [
       "7.988683646443642"
      ]
     },
     "execution_count": 32,
     "metadata": {},
     "output_type": "execute_result"
    }
   ],
   "source": [
    "# Simulate 1k times for different random seeds\n",
    "sim_optimized_lte2_1k = [\n",
    "    simulate_optimized_assignment_lte2(i)\n",
    "    for i in range(1000)\n",
    "]\n",
    "\n",
    "np.mean(sim_optimized_lte2_1k)"
   ]
  },
  {
   "cell_type": "code",
   "execution_count": 33,
   "metadata": {},
   "outputs": [
    {
     "data": {
      "text/plain": [
       "<seaborn.axisgrid.FacetGrid at 0xc224c88>"
      ]
     },
     "execution_count": 33,
     "metadata": {},
     "output_type": "execute_result"
    },
    {
     "data": {
      "image/png": "[encoded data removed]",
      "text/plain": [
       "<Figure size 469.375x360 with 1 Axes>"
      ]
     },
     "metadata": {
      "needs_background": "light"
     },
     "output_type": "display_data"
    }
   ],
   "source": [
    "# Plot happiness distributions for this against the previously optimized one\n",
    "# -> Expect it to be a bit better because there's more room for picking higher happiness numbers due to more potential matches\n",
    "all_sims = pd.DataFrame(data={\n",
    "    'type': np.repeat(['optimized', 'optimized_lte2'], 1000),\n",
    "    'iter': list(range(1, 1001)) * 2,\n",
    "    'happiness': sim_optimized_1k + sim_optimized_lte2_1k\n",
    "})\n",
    "\n",
    "sns.displot(data=all_sims, x='happiness', hue='type', kind='kde')"
   ]
  },
  {
   "cell_type": "code",
   "execution_count": null,
   "metadata": {},
   "outputs": [],
   "source": []
  }
 ],
 "metadata": {
  "kernelspec": {
   "display_name": "opt_1",
   "language": "python",
   "name": "opt_1"
  },
  "language_info": {
   "codemirror_mode": {
    "name": "ipython",
    "version": 3
   },
   "file_extension": ".py",
   "mimetype": "text/x-python",
   "name": "python",
   "nbconvert_exporter": "python",
   "pygments_lexer": "ipython3",
   "version": "3.7.9"
  }
 },
 "nbformat": 4,
 "nbformat_minor": 4
}
