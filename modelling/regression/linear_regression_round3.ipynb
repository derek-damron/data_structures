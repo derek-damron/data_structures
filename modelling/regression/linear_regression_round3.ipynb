{
 "cells": [
  {
   "cell_type": "code",
   "execution_count": 1,
   "metadata": {},
   "outputs": [
    {
     "name": "stderr",
     "output_type": "stream",
     "text": [
      "C:\\Users\\Kenneth\\Miniconda3\\envs\\clearbrain_lastresort\\lib\\site-packages\\statsmodels\\compat\\pandas.py:49: FutureWarning: The Panel class is removed from pandas. Accessing it from the top-level namespace will also be removed in the next version\n",
      "  data_klasses = (pandas.Series, pandas.DataFrame, pandas.Panel)\n"
     ]
    }
   ],
   "source": [
    "import pandas as pd\n",
    "import numpy as np\n",
    "import matplotlib.pyplot as plt\n",
    "import seaborn as sb\n",
    "\n",
    "import statsmodels.api as sm\n",
    "import statsmodels.formula.api as smf"
   ]
  },
  {
   "cell_type": "markdown",
   "metadata": {},
   "source": [
    "# Data 6"
   ]
  },
  {
   "cell_type": "code",
   "execution_count": 2,
   "metadata": {},
   "outputs": [],
   "source": [
    "# Read in\n",
    "df6 = pd.read_csv('../data/df6.csv')"
   ]
  },
  {
   "cell_type": "code",
   "execution_count": 3,
   "metadata": {},
   "outputs": [
    {
     "data": {
      "text/html": [
       "<div>\n",
       "<style scoped>\n",
       "    .dataframe tbody tr th:only-of-type {\n",
       "        vertical-align: middle;\n",
       "    }\n",
       "\n",
       "    .dataframe tbody tr th {\n",
       "        vertical-align: top;\n",
       "    }\n",
       "\n",
       "    .dataframe thead th {\n",
       "        text-align: right;\n",
       "    }\n",
       "</style>\n",
       "<table border=\"1\" class=\"dataframe\">\n",
       "  <thead>\n",
       "    <tr style=\"text-align: right;\">\n",
       "      <th></th>\n",
       "      <th>x</th>\n",
       "      <th>y</th>\n",
       "    </tr>\n",
       "  </thead>\n",
       "  <tbody>\n",
       "    <tr>\n",
       "      <td>0</td>\n",
       "      <td>2.218651</td>\n",
       "      <td>1.184560</td>\n",
       "    </tr>\n",
       "    <tr>\n",
       "      <td>1</td>\n",
       "      <td>2.906897</td>\n",
       "      <td>3.216393</td>\n",
       "    </tr>\n",
       "    <tr>\n",
       "      <td>2</td>\n",
       "      <td>3.057199</td>\n",
       "      <td>3.676579</td>\n",
       "    </tr>\n",
       "    <tr>\n",
       "      <td>3</td>\n",
       "      <td>3.138405</td>\n",
       "      <td>2.588413</td>\n",
       "    </tr>\n",
       "    <tr>\n",
       "      <td>4</td>\n",
       "      <td>3.076162</td>\n",
       "      <td>1.272983</td>\n",
       "    </tr>\n",
       "  </tbody>\n",
       "</table>\n",
       "</div>"
      ],
      "text/plain": [
       "          x         y\n",
       "0  2.218651  1.184560\n",
       "1  2.906897  3.216393\n",
       "2  3.057199  3.676579\n",
       "3  3.138405  2.588413\n",
       "4  3.076162  1.272983"
      ]
     },
     "execution_count": 3,
     "metadata": {},
     "output_type": "execute_result"
    }
   ],
   "source": [
    "# Inspect\n",
    "df6.head()"
   ]
  },
  {
   "cell_type": "code",
   "execution_count": 4,
   "metadata": {},
   "outputs": [
    {
     "data": {
      "text/plain": [
       "<matplotlib.axes._subplots.AxesSubplot at 0xafaab70>"
      ]
     },
     "execution_count": 4,
     "metadata": {},
     "output_type": "execute_result"
    },
    {
     "data": {
      "image/png": "[encoded data removed]",
      "text/plain": [
       "<Figure size 432x288 with 1 Axes>"
      ]
     },
     "metadata": {
      "needs_background": "light"
     },
     "output_type": "display_data"
    }
   ],
   "source": [
    "# Plot\n",
    "df6.plot('x', 'y', kind='scatter')"
   ]
  },
  {
   "cell_type": "code",
   "execution_count": 5,
   "metadata": {},
   "outputs": [
    {
     "name": "stderr",
     "output_type": "stream",
     "text": [
      "C:\\Users\\Kenneth\\Miniconda3\\envs\\clearbrain_lastresort\\lib\\site-packages\\statsmodels\\base\\data.py:480: FutureWarning: \n",
      ".ix is deprecated. Please use\n",
      ".loc for label based indexing or\n",
      ".iloc for positional indexing\n",
      "\n",
      "See the documentation here:\n",
      "http://pandas.pydata.org/pandas-docs/stable/user_guide/indexing.html#ix-indexer-is-deprecated\n",
      "  if hasattr(x, 'ix'):\n"
     ]
    }
   ],
   "source": [
    "# Data looks straight-forward.  Fit a simple model again\n",
    "model6 = smf.ols(\n",
    "    formula='y ~ x',\n",
    "    data=df6\n",
    ")\n",
    "model6_fit = model6.fit()"
   ]
  },
  {
   "cell_type": "code",
   "execution_count": 6,
   "metadata": {},
   "outputs": [
    {
     "data": {
      "text/html": [
       "<table class=\"simpletable\">\n",
       "<caption>OLS Regression Results</caption>\n",
       "<tr>\n",
       "  <th>Dep. Variable:</th>            <td>y</td>        <th>  R-squared:         </th> <td>   0.513</td> \n",
       "</tr>\n",
       "<tr>\n",
       "  <th>Model:</th>                   <td>OLS</td>       <th>  Adj. R-squared:    </th> <td>   0.512</td> \n",
       "</tr>\n",
       "<tr>\n",
       "  <th>Method:</th>             <td>Least Squares</td>  <th>  F-statistic:       </th> <td>   944.2</td> \n",
       "</tr>\n",
       "<tr>\n",
       "  <th>Date:</th>             <td>Thu, 28 May 2020</td> <th>  Prob (F-statistic):</th> <td>2.86e-142</td>\n",
       "</tr>\n",
       "<tr>\n",
       "  <th>Time:</th>                 <td>21:52:27</td>     <th>  Log-Likelihood:    </th> <td> -1248.8</td> \n",
       "</tr>\n",
       "<tr>\n",
       "  <th>No. Observations:</th>      <td>   900</td>      <th>  AIC:               </th> <td>   2502.</td> \n",
       "</tr>\n",
       "<tr>\n",
       "  <th>Df Residuals:</th>          <td>   898</td>      <th>  BIC:               </th> <td>   2511.</td> \n",
       "</tr>\n",
       "<tr>\n",
       "  <th>Df Model:</th>              <td>     1</td>      <th>                     </th>     <td> </td>    \n",
       "</tr>\n",
       "<tr>\n",
       "  <th>Covariance Type:</th>      <td>nonrobust</td>    <th>                     </th>     <td> </td>    \n",
       "</tr>\n",
       "</table>\n",
       "<table class=\"simpletable\">\n",
       "<tr>\n",
       "      <td></td>         <th>coef</th>     <th>std err</th>      <th>t</th>      <th>P>|t|</th>  <th>[0.025</th>    <th>0.975]</th>  \n",
       "</tr>\n",
       "<tr>\n",
       "  <th>Intercept</th> <td>    0.0718</td> <td>    0.100</td> <td>    0.718</td> <td> 0.473</td> <td>   -0.124</td> <td>    0.268</td>\n",
       "</tr>\n",
       "<tr>\n",
       "  <th>x</th>         <td>    0.9851</td> <td>    0.032</td> <td>   30.728</td> <td> 0.000</td> <td>    0.922</td> <td>    1.048</td>\n",
       "</tr>\n",
       "</table>\n",
       "<table class=\"simpletable\">\n",
       "<tr>\n",
       "  <th>Omnibus:</th>       <td> 1.083</td> <th>  Durbin-Watson:     </th> <td>   1.994</td>\n",
       "</tr>\n",
       "<tr>\n",
       "  <th>Prob(Omnibus):</th> <td> 0.582</td> <th>  Jarque-Bera (JB):  </th> <td>   1.101</td>\n",
       "</tr>\n",
       "<tr>\n",
       "  <th>Skew:</th>          <td>-0.084</td> <th>  Prob(JB):          </th> <td>   0.577</td>\n",
       "</tr>\n",
       "<tr>\n",
       "  <th>Kurtosis:</th>      <td> 2.968</td> <th>  Cond. No.          </th> <td>    10.5</td>\n",
       "</tr>\n",
       "</table><br/><br/>Warnings:<br/>[1] Standard Errors assume that the covariance matrix of the errors is correctly specified."
      ],
      "text/plain": [
       "<class 'statsmodels.iolib.summary.Summary'>\n",
       "\"\"\"\n",
       "                            OLS Regression Results                            \n",
       "==============================================================================\n",
       "Dep. Variable:                      y   R-squared:                       0.513\n",
       "Model:                            OLS   Adj. R-squared:                  0.512\n",
       "Method:                 Least Squares   F-statistic:                     944.2\n",
       "Date:                Thu, 28 May 2020   Prob (F-statistic):          2.86e-142\n",
       "Time:                        21:52:27   Log-Likelihood:                -1248.8\n",
       "No. Observations:                 900   AIC:                             2502.\n",
       "Df Residuals:                     898   BIC:                             2511.\n",
       "Df Model:                           1                                         \n",
       "Covariance Type:            nonrobust                                         \n",
       "==============================================================================\n",
       "                 coef    std err          t      P>|t|      [0.025      0.975]\n",
       "------------------------------------------------------------------------------\n",
       "Intercept      0.0718      0.100      0.718      0.473      -0.124       0.268\n",
       "x              0.9851      0.032     30.728      0.000       0.922       1.048\n",
       "==============================================================================\n",
       "Omnibus:                        1.083   Durbin-Watson:                   1.994\n",
       "Prob(Omnibus):                  0.582   Jarque-Bera (JB):                1.101\n",
       "Skew:                          -0.084   Prob(JB):                        0.577\n",
       "Kurtosis:                       2.968   Cond. No.                         10.5\n",
       "==============================================================================\n",
       "\n",
       "Warnings:\n",
       "[1] Standard Errors assume that the covariance matrix of the errors is correctly specified.\n",
       "\"\"\""
      ]
     },
     "execution_count": 6,
     "metadata": {},
     "output_type": "execute_result"
    }
   ],
   "source": [
    "# Summarize\n",
    "model6_fit.summary()"
   ]
  },
  {
   "cell_type": "markdown",
   "metadata": {},
   "source": [
    "Only 900 rows in the regression, was that everything?"
   ]
  },
  {
   "cell_type": "code",
   "execution_count": 7,
   "metadata": {},
   "outputs": [
    {
     "data": {
      "text/plain": [
       "(1000, 2)"
      ]
     },
     "execution_count": 7,
     "metadata": {},
     "output_type": "execute_result"
    }
   ],
   "source": [
    "df6.shape"
   ]
  },
  {
   "cell_type": "markdown",
   "metadata": {},
   "source": [
    "Nope, must be null values.  In Python, these are usually np.NaN values but be careful because they could take other values as well."
   ]
  },
  {
   "cell_type": "code",
   "execution_count": 8,
   "metadata": {},
   "outputs": [
    {
     "data": {
      "text/html": [
       "<div>\n",
       "<style scoped>\n",
       "    .dataframe tbody tr th:only-of-type {\n",
       "        vertical-align: middle;\n",
       "    }\n",
       "\n",
       "    .dataframe tbody tr th {\n",
       "        vertical-align: top;\n",
       "    }\n",
       "\n",
       "    .dataframe thead th {\n",
       "        text-align: right;\n",
       "    }\n",
       "</style>\n",
       "<table border=\"1\" class=\"dataframe\">\n",
       "  <thead>\n",
       "    <tr style=\"text-align: right;\">\n",
       "      <th></th>\n",
       "      <th>x</th>\n",
       "      <th>y</th>\n",
       "    </tr>\n",
       "  </thead>\n",
       "  <tbody>\n",
       "    <tr>\n",
       "      <td>5</td>\n",
       "      <td>NaN</td>\n",
       "      <td>-1.738836</td>\n",
       "    </tr>\n",
       "    <tr>\n",
       "      <td>8</td>\n",
       "      <td>NaN</td>\n",
       "      <td>-2.859447</td>\n",
       "    </tr>\n",
       "    <tr>\n",
       "      <td>31</td>\n",
       "      <td>NaN</td>\n",
       "      <td>-0.802285</td>\n",
       "    </tr>\n",
       "    <tr>\n",
       "      <td>66</td>\n",
       "      <td>NaN</td>\n",
       "      <td>0.105282</td>\n",
       "    </tr>\n",
       "    <tr>\n",
       "      <td>68</td>\n",
       "      <td>NaN</td>\n",
       "      <td>-2.081959</td>\n",
       "    </tr>\n",
       "  </tbody>\n",
       "</table>\n",
       "</div>"
      ],
      "text/plain": [
       "     x         y\n",
       "5  NaN -1.738836\n",
       "8  NaN -2.859447\n",
       "31 NaN -0.802285\n",
       "66 NaN  0.105282\n",
       "68 NaN -2.081959"
      ]
     },
     "execution_count": 8,
     "metadata": {},
     "output_type": "execute_result"
    }
   ],
   "source": [
    "# See if any np.NaNs\n",
    "df6[df6['x'].isnull()].head()"
   ]
  },
  {
   "cell_type": "code",
   "execution_count": 9,
   "metadata": {},
   "outputs": [
    {
     "data": {
      "text/plain": [
       "(100, 2)"
      ]
     },
     "execution_count": 9,
     "metadata": {},
     "output_type": "execute_result"
    }
   ],
   "source": [
    "# How many of these?\n",
    "df6[df6['x'].isnull()].shape"
   ]
  },
  {
   "cell_type": "markdown",
   "metadata": {},
   "source": [
    "Looks like these are to blame, because statsmodels does not handle them natively.  Here we are at an important crossroads and need to answer this question: **Do we care about these missing x values?**\n",
    "\n",
    "- If yes, then we need to find a way to model them.  There are a number of ways to do this, including but not limited to:\n",
    "    - Fit two separate models, one for nulls and one for non-nulls  \n",
    "    - Find a clever way to incorporate them into a single regression (which is obviously what we're going to choose here)\n",
    "- If no, then we can simply filter them out.  But in Derek's opinion you should very rarely do this because this \"missingness\" usually means something like important, such as an error in the data collection or data aggregation/merging process.\n",
    "\n",
    "Here, let's include them and find a way to be clever.  Let's define what an interpretable regression formula could look like.  Without nulls, we have something like this\n",
    "\n",
    "```\n",
    "y_est = Intercept + B_1 * x\n",
    "```\n",
    "\n",
    "And since we only have one variable, it would nice to be able to measure the \"effect\" of having a missing `x` value.  Which means we need to have an indicator of `x` being missing:\n",
    "\n",
    "```\n",
    "y_est = Intercept + B_1 * x + B_2 * (x is null)\n",
    "```\n",
    "\n",
    "That indicator is easy to define, but what `x` value do we assign them.  One option is to assign them a value not in the range of our `x` values, like -99, to make the extemely obvious.  This means that, for missing `x` values, the model translates to this:\n",
    "\n",
    "```\n",
    "y_est = Intercept + B_1 * -99 + B_2\n",
    "```\n",
    "\n",
    "Which, frankly, is not directly intuitive unless you can quickly do that math in your head.  However, what if instead we set x to be 0 when `x` is null?  Unfortunately this overlaps close to non-null `x` values, but makes the regression much more directly interpretable:\n",
    "\n",
    "```\n",
    "y_est = Intercept + B_1 * 0 + B_2\n",
    "y_est = Intercept           + B_2\n",
    "```\n",
    "\n",
    "I.e. `B_2` is the average effect if `x` is null.\n",
    "\n",
    "Let's code it up."
   ]
  },
  {
   "cell_type": "code",
   "execution_count": 10,
   "metadata": {},
   "outputs": [],
   "source": [
    "def make_x_0_if_null(x):\n",
    "    return [0 if np.isnan(a) else a for a in x]\n",
    "\n",
    "def create_x_null_ind(x):\n",
    "    return [0 if np.isnan(a) else 1 for a in x]"
   ]
  },
  {
   "cell_type": "code",
   "execution_count": 11,
   "metadata": {},
   "outputs": [],
   "source": [
    "# Fit model\n",
    "model6_x_null_ind = smf.ols(\n",
    "    formula='y ~ make_x_0_if_null(x) + create_x_null_ind(x)',\n",
    "    data=df6\n",
    ")\n",
    "model6_x_null_ind_fit = model6_x_null_ind.fit()"
   ]
  },
  {
   "cell_type": "code",
   "execution_count": 12,
   "metadata": {},
   "outputs": [
    {
     "data": {
      "text/html": [
       "<table class=\"simpletable\">\n",
       "<caption>OLS Regression Results</caption>\n",
       "<tr>\n",
       "  <th>Dep. Variable:</th>            <td>y</td>        <th>  R-squared:         </th> <td>   0.709</td> \n",
       "</tr>\n",
       "<tr>\n",
       "  <th>Model:</th>                   <td>OLS</td>       <th>  Adj. R-squared:    </th> <td>   0.709</td> \n",
       "</tr>\n",
       "<tr>\n",
       "  <th>Method:</th>             <td>Least Squares</td>  <th>  F-statistic:       </th> <td>   1215.</td> \n",
       "</tr>\n",
       "<tr>\n",
       "  <th>Date:</th>             <td>Thu, 28 May 2020</td> <th>  Prob (F-statistic):</th> <td>4.67e-268</td>\n",
       "</tr>\n",
       "<tr>\n",
       "  <th>Time:</th>                 <td>21:52:27</td>     <th>  Log-Likelihood:    </th> <td> -1386.6</td> \n",
       "</tr>\n",
       "<tr>\n",
       "  <th>No. Observations:</th>      <td>  1000</td>      <th>  AIC:               </th> <td>   2779.</td> \n",
       "</tr>\n",
       "<tr>\n",
       "  <th>Df Residuals:</th>          <td>   997</td>      <th>  BIC:               </th> <td>   2794.</td> \n",
       "</tr>\n",
       "<tr>\n",
       "  <th>Df Model:</th>              <td>     2</td>      <th>                     </th>     <td> </td>    \n",
       "</tr>\n",
       "<tr>\n",
       "  <th>Covariance Type:</th>      <td>nonrobust</td>    <th>                     </th>     <td> </td>    \n",
       "</tr>\n",
       "</table>\n",
       "<table class=\"simpletable\">\n",
       "<tr>\n",
       "            <td></td>              <th>coef</th>     <th>std err</th>      <th>t</th>      <th>P>|t|</th>  <th>[0.025</th>    <th>0.975]</th>  \n",
       "</tr>\n",
       "<tr>\n",
       "  <th>Intercept</th>            <td>   -0.9602</td> <td>    0.097</td> <td>   -9.902</td> <td> 0.000</td> <td>   -1.150</td> <td>   -0.770</td>\n",
       "</tr>\n",
       "<tr>\n",
       "  <th>make_x_0_if_null(x)</th>  <td>    0.9851</td> <td>    0.032</td> <td>   30.744</td> <td> 0.000</td> <td>    0.922</td> <td>    1.048</td>\n",
       "</tr>\n",
       "<tr>\n",
       "  <th>create_x_null_ind(x)</th> <td>    1.0320</td> <td>    0.139</td> <td>    7.411</td> <td> 0.000</td> <td>    0.759</td> <td>    1.305</td>\n",
       "</tr>\n",
       "</table>\n",
       "<table class=\"simpletable\">\n",
       "<tr>\n",
       "  <th>Omnibus:</th>       <td> 0.846</td> <th>  Durbin-Watson:     </th> <td>   2.024</td>\n",
       "</tr>\n",
       "<tr>\n",
       "  <th>Prob(Omnibus):</th> <td> 0.655</td> <th>  Jarque-Bera (JB):  </th> <td>   0.885</td>\n",
       "</tr>\n",
       "<tr>\n",
       "  <th>Skew:</th>          <td>-0.069</td> <th>  Prob(JB):          </th> <td>   0.642</td>\n",
       "</tr>\n",
       "<tr>\n",
       "  <th>Kurtosis:</th>      <td> 2.956</td> <th>  Cond. No.          </th> <td>    16.7</td>\n",
       "</tr>\n",
       "</table><br/><br/>Warnings:<br/>[1] Standard Errors assume that the covariance matrix of the errors is correctly specified."
      ],
      "text/plain": [
       "<class 'statsmodels.iolib.summary.Summary'>\n",
       "\"\"\"\n",
       "                            OLS Regression Results                            \n",
       "==============================================================================\n",
       "Dep. Variable:                      y   R-squared:                       0.709\n",
       "Model:                            OLS   Adj. R-squared:                  0.709\n",
       "Method:                 Least Squares   F-statistic:                     1215.\n",
       "Date:                Thu, 28 May 2020   Prob (F-statistic):          4.67e-268\n",
       "Time:                        21:52:27   Log-Likelihood:                -1386.6\n",
       "No. Observations:                1000   AIC:                             2779.\n",
       "Df Residuals:                     997   BIC:                             2794.\n",
       "Df Model:                           2                                         \n",
       "Covariance Type:            nonrobust                                         \n",
       "========================================================================================\n",
       "                           coef    std err          t      P>|t|      [0.025      0.975]\n",
       "----------------------------------------------------------------------------------------\n",
       "Intercept               -0.9602      0.097     -9.902      0.000      -1.150      -0.770\n",
       "make_x_0_if_null(x)      0.9851      0.032     30.744      0.000       0.922       1.048\n",
       "create_x_null_ind(x)     1.0320      0.139      7.411      0.000       0.759       1.305\n",
       "==============================================================================\n",
       "Omnibus:                        0.846   Durbin-Watson:                   2.024\n",
       "Prob(Omnibus):                  0.655   Jarque-Bera (JB):                0.885\n",
       "Skew:                          -0.069   Prob(JB):                        0.642\n",
       "Kurtosis:                       2.956   Cond. No.                         16.7\n",
       "==============================================================================\n",
       "\n",
       "Warnings:\n",
       "[1] Standard Errors assume that the covariance matrix of the errors is correctly specified.\n",
       "\"\"\""
      ]
     },
     "execution_count": 12,
     "metadata": {},
     "output_type": "execute_result"
    }
   ],
   "source": [
    "# Summarize\n",
    "model6_x_null_ind_fit.summary()"
   ]
  },
  {
   "cell_type": "markdown",
   "metadata": {},
   "source": [
    "Looks like we have every row, and off-hand fit looks reasonable.  For sanity, let's visualize this data set being modelled."
   ]
  },
  {
   "cell_type": "code",
   "execution_count": 13,
   "metadata": {},
   "outputs": [
    {
     "data": {
      "text/plain": [
       "<matplotlib.axes._subplots.AxesSubplot at 0xb196b70>"
      ]
     },
     "execution_count": 13,
     "metadata": {},
     "output_type": "execute_result"
    },
    {
     "data": {
      "image/png": "[encoded data removed]",
      "text/plain": [
       "<Figure size 432x288 with 1 Axes>"
      ]
     },
     "metadata": {
      "needs_background": "light"
     },
     "output_type": "display_data"
    }
   ],
   "source": [
    "# Inspect\n",
    "sb.scatterplot(x=make_x_0_if_null(df6['x']), y=df6['y'], hue=create_x_null_ind(df6['x']))"
   ]
  },
  {
   "cell_type": "markdown",
   "metadata": {},
   "source": [
    "It looks like this made a nice line!\n",
    "\n",
    "However, does it really matter which value we pick for x?  Let's find out."
   ]
  },
  {
   "cell_type": "code",
   "execution_count": 14,
   "metadata": {},
   "outputs": [],
   "source": [
    "def sim_null_x_value(k):\n",
    "    def impute_x(x, k):\n",
    "        return [k if np.isnan(a) else a for a in x]\n",
    "    \n",
    "    # Fit model\n",
    "    model6_impute_x = smf.ols(\n",
    "        formula='y ~ impute_x(x, k) + create_x_null_ind(x)',\n",
    "        data=df6\n",
    "    )\n",
    "    \n",
    "    return model6_impute_x.fit()"
   ]
  },
  {
   "cell_type": "code",
   "execution_count": 15,
   "metadata": {
    "scrolled": true
   },
   "outputs": [
    {
     "data": {
      "text/html": [
       "<div>\n",
       "<style scoped>\n",
       "    .dataframe tbody tr th:only-of-type {\n",
       "        vertical-align: middle;\n",
       "    }\n",
       "\n",
       "    .dataframe tbody tr th {\n",
       "        vertical-align: top;\n",
       "    }\n",
       "\n",
       "    .dataframe thead th {\n",
       "        text-align: right;\n",
       "    }\n",
       "</style>\n",
       "<table border=\"1\" class=\"dataframe\">\n",
       "  <thead>\n",
       "    <tr style=\"text-align: right;\">\n",
       "      <th></th>\n",
       "      <th>impute_-97.0</th>\n",
       "      <th>impute_-90.0</th>\n",
       "      <th>impute_-80.0</th>\n",
       "      <th>impute_-17.0</th>\n",
       "      <th>impute_2.0</th>\n",
       "      <th>impute_35.0</th>\n",
       "      <th>impute_40.0</th>\n",
       "      <th>impute_46.0</th>\n",
       "      <th>impute_69.0</th>\n",
       "      <th>impute_90.0</th>\n",
       "    </tr>\n",
       "  </thead>\n",
       "  <tbody>\n",
       "    <tr>\n",
       "      <td>0</td>\n",
       "      <td>2.257359</td>\n",
       "      <td>2.257359</td>\n",
       "      <td>2.257359</td>\n",
       "      <td>2.257359</td>\n",
       "      <td>2.257359</td>\n",
       "      <td>2.257359</td>\n",
       "      <td>2.257359</td>\n",
       "      <td>2.257359</td>\n",
       "      <td>2.257359</td>\n",
       "      <td>2.257359</td>\n",
       "    </tr>\n",
       "    <tr>\n",
       "      <td>1</td>\n",
       "      <td>2.935348</td>\n",
       "      <td>2.935348</td>\n",
       "      <td>2.935348</td>\n",
       "      <td>2.935348</td>\n",
       "      <td>2.935348</td>\n",
       "      <td>2.935348</td>\n",
       "      <td>2.935348</td>\n",
       "      <td>2.935348</td>\n",
       "      <td>2.935348</td>\n",
       "      <td>2.935348</td>\n",
       "    </tr>\n",
       "    <tr>\n",
       "      <td>2</td>\n",
       "      <td>3.083411</td>\n",
       "      <td>3.083411</td>\n",
       "      <td>3.083411</td>\n",
       "      <td>3.083411</td>\n",
       "      <td>3.083411</td>\n",
       "      <td>3.083411</td>\n",
       "      <td>3.083411</td>\n",
       "      <td>3.083411</td>\n",
       "      <td>3.083411</td>\n",
       "      <td>3.083411</td>\n",
       "    </tr>\n",
       "    <tr>\n",
       "      <td>3</td>\n",
       "      <td>3.163406</td>\n",
       "      <td>3.163406</td>\n",
       "      <td>3.163406</td>\n",
       "      <td>3.163406</td>\n",
       "      <td>3.163406</td>\n",
       "      <td>3.163406</td>\n",
       "      <td>3.163406</td>\n",
       "      <td>3.163406</td>\n",
       "      <td>3.163406</td>\n",
       "      <td>3.163406</td>\n",
       "    </tr>\n",
       "    <tr>\n",
       "      <td>4</td>\n",
       "      <td>3.102091</td>\n",
       "      <td>3.102091</td>\n",
       "      <td>3.102091</td>\n",
       "      <td>3.102091</td>\n",
       "      <td>3.102091</td>\n",
       "      <td>3.102091</td>\n",
       "      <td>3.102091</td>\n",
       "      <td>3.102091</td>\n",
       "      <td>3.102091</td>\n",
       "      <td>3.102091</td>\n",
       "    </tr>\n",
       "  </tbody>\n",
       "</table>\n",
       "</div>"
      ],
      "text/plain": [
       "   impute_-97.0  impute_-90.0  impute_-80.0  impute_-17.0  impute_2.0  \\\n",
       "0      2.257359      2.257359      2.257359      2.257359    2.257359   \n",
       "1      2.935348      2.935348      2.935348      2.935348    2.935348   \n",
       "2      3.083411      3.083411      3.083411      3.083411    3.083411   \n",
       "3      3.163406      3.163406      3.163406      3.163406    3.163406   \n",
       "4      3.102091      3.102091      3.102091      3.102091    3.102091   \n",
       "\n",
       "   impute_35.0  impute_40.0  impute_46.0  impute_69.0  impute_90.0  \n",
       "0     2.257359     2.257359     2.257359     2.257359     2.257359  \n",
       "1     2.935348     2.935348     2.935348     2.935348     2.935348  \n",
       "2     3.083411     3.083411     3.083411     3.083411     3.083411  \n",
       "3     3.163406     3.163406     3.163406     3.163406     3.163406  \n",
       "4     3.102091     3.102091     3.102091     3.102091     3.102091  "
      ]
     },
     "execution_count": 15,
     "metadata": {},
     "output_type": "execute_result"
    }
   ],
   "source": [
    "# Sample 10 random and rounded imputation values from -100 to 100.  And sort it for easier inspection.\n",
    "np.random.seed(666)\n",
    "mesh = np.rint(np.random.uniform(-100, 100, 10))\n",
    "mesh = np.sort(mesh)\n",
    "\n",
    "df_prediction = pd.DataFrame()\n",
    "\n",
    "for i, k in enumerate(mesh):\n",
    "    # Generate fit\n",
    "    loop_model_fit = sim_null_x_value(k)\n",
    "    \n",
    "    # Add predictios as a column to the prediction df\n",
    "    df_prediction[f'impute_{k}'] = loop_model_fit.predict(df6)\n",
    "    \n",
    "# Inspect\n",
    "df_prediction.head()"
   ]
  },
  {
   "cell_type": "markdown",
   "metadata": {},
   "source": [
    "All these predictions look the same.  Do a quick correlation check."
   ]
  },
  {
   "cell_type": "code",
   "execution_count": 16,
   "metadata": {},
   "outputs": [
    {
     "data": {
      "text/html": [
       "<div>\n",
       "<style scoped>\n",
       "    .dataframe tbody tr th:only-of-type {\n",
       "        vertical-align: middle;\n",
       "    }\n",
       "\n",
       "    .dataframe tbody tr th {\n",
       "        vertical-align: top;\n",
       "    }\n",
       "\n",
       "    .dataframe thead th {\n",
       "        text-align: right;\n",
       "    }\n",
       "</style>\n",
       "<table border=\"1\" class=\"dataframe\">\n",
       "  <thead>\n",
       "    <tr style=\"text-align: right;\">\n",
       "      <th></th>\n",
       "      <th>impute_-97.0</th>\n",
       "      <th>impute_-90.0</th>\n",
       "      <th>impute_-80.0</th>\n",
       "      <th>impute_-17.0</th>\n",
       "      <th>impute_2.0</th>\n",
       "      <th>impute_35.0</th>\n",
       "      <th>impute_40.0</th>\n",
       "      <th>impute_46.0</th>\n",
       "      <th>impute_69.0</th>\n",
       "      <th>impute_90.0</th>\n",
       "    </tr>\n",
       "  </thead>\n",
       "  <tbody>\n",
       "    <tr>\n",
       "      <td>impute_-97.0</td>\n",
       "      <td>1.0</td>\n",
       "      <td>1.0</td>\n",
       "      <td>1.0</td>\n",
       "      <td>1.0</td>\n",
       "      <td>1.0</td>\n",
       "      <td>1.0</td>\n",
       "      <td>1.0</td>\n",
       "      <td>1.0</td>\n",
       "      <td>1.0</td>\n",
       "      <td>1.0</td>\n",
       "    </tr>\n",
       "    <tr>\n",
       "      <td>impute_-90.0</td>\n",
       "      <td>1.0</td>\n",
       "      <td>1.0</td>\n",
       "      <td>1.0</td>\n",
       "      <td>1.0</td>\n",
       "      <td>1.0</td>\n",
       "      <td>1.0</td>\n",
       "      <td>1.0</td>\n",
       "      <td>1.0</td>\n",
       "      <td>1.0</td>\n",
       "      <td>1.0</td>\n",
       "    </tr>\n",
       "    <tr>\n",
       "      <td>impute_-80.0</td>\n",
       "      <td>1.0</td>\n",
       "      <td>1.0</td>\n",
       "      <td>1.0</td>\n",
       "      <td>1.0</td>\n",
       "      <td>1.0</td>\n",
       "      <td>1.0</td>\n",
       "      <td>1.0</td>\n",
       "      <td>1.0</td>\n",
       "      <td>1.0</td>\n",
       "      <td>1.0</td>\n",
       "    </tr>\n",
       "    <tr>\n",
       "      <td>impute_-17.0</td>\n",
       "      <td>1.0</td>\n",
       "      <td>1.0</td>\n",
       "      <td>1.0</td>\n",
       "      <td>1.0</td>\n",
       "      <td>1.0</td>\n",
       "      <td>1.0</td>\n",
       "      <td>1.0</td>\n",
       "      <td>1.0</td>\n",
       "      <td>1.0</td>\n",
       "      <td>1.0</td>\n",
       "    </tr>\n",
       "    <tr>\n",
       "      <td>impute_2.0</td>\n",
       "      <td>1.0</td>\n",
       "      <td>1.0</td>\n",
       "      <td>1.0</td>\n",
       "      <td>1.0</td>\n",
       "      <td>1.0</td>\n",
       "      <td>1.0</td>\n",
       "      <td>1.0</td>\n",
       "      <td>1.0</td>\n",
       "      <td>1.0</td>\n",
       "      <td>1.0</td>\n",
       "    </tr>\n",
       "    <tr>\n",
       "      <td>impute_35.0</td>\n",
       "      <td>1.0</td>\n",
       "      <td>1.0</td>\n",
       "      <td>1.0</td>\n",
       "      <td>1.0</td>\n",
       "      <td>1.0</td>\n",
       "      <td>1.0</td>\n",
       "      <td>1.0</td>\n",
       "      <td>1.0</td>\n",
       "      <td>1.0</td>\n",
       "      <td>1.0</td>\n",
       "    </tr>\n",
       "    <tr>\n",
       "      <td>impute_40.0</td>\n",
       "      <td>1.0</td>\n",
       "      <td>1.0</td>\n",
       "      <td>1.0</td>\n",
       "      <td>1.0</td>\n",
       "      <td>1.0</td>\n",
       "      <td>1.0</td>\n",
       "      <td>1.0</td>\n",
       "      <td>1.0</td>\n",
       "      <td>1.0</td>\n",
       "      <td>1.0</td>\n",
       "    </tr>\n",
       "    <tr>\n",
       "      <td>impute_46.0</td>\n",
       "      <td>1.0</td>\n",
       "      <td>1.0</td>\n",
       "      <td>1.0</td>\n",
       "      <td>1.0</td>\n",
       "      <td>1.0</td>\n",
       "      <td>1.0</td>\n",
       "      <td>1.0</td>\n",
       "      <td>1.0</td>\n",
       "      <td>1.0</td>\n",
       "      <td>1.0</td>\n",
       "    </tr>\n",
       "    <tr>\n",
       "      <td>impute_69.0</td>\n",
       "      <td>1.0</td>\n",
       "      <td>1.0</td>\n",
       "      <td>1.0</td>\n",
       "      <td>1.0</td>\n",
       "      <td>1.0</td>\n",
       "      <td>1.0</td>\n",
       "      <td>1.0</td>\n",
       "      <td>1.0</td>\n",
       "      <td>1.0</td>\n",
       "      <td>1.0</td>\n",
       "    </tr>\n",
       "    <tr>\n",
       "      <td>impute_90.0</td>\n",
       "      <td>1.0</td>\n",
       "      <td>1.0</td>\n",
       "      <td>1.0</td>\n",
       "      <td>1.0</td>\n",
       "      <td>1.0</td>\n",
       "      <td>1.0</td>\n",
       "      <td>1.0</td>\n",
       "      <td>1.0</td>\n",
       "      <td>1.0</td>\n",
       "      <td>1.0</td>\n",
       "    </tr>\n",
       "  </tbody>\n",
       "</table>\n",
       "</div>"
      ],
      "text/plain": [
       "              impute_-97.0  impute_-90.0  impute_-80.0  impute_-17.0  \\\n",
       "impute_-97.0           1.0           1.0           1.0           1.0   \n",
       "impute_-90.0           1.0           1.0           1.0           1.0   \n",
       "impute_-80.0           1.0           1.0           1.0           1.0   \n",
       "impute_-17.0           1.0           1.0           1.0           1.0   \n",
       "impute_2.0             1.0           1.0           1.0           1.0   \n",
       "impute_35.0            1.0           1.0           1.0           1.0   \n",
       "impute_40.0            1.0           1.0           1.0           1.0   \n",
       "impute_46.0            1.0           1.0           1.0           1.0   \n",
       "impute_69.0            1.0           1.0           1.0           1.0   \n",
       "impute_90.0            1.0           1.0           1.0           1.0   \n",
       "\n",
       "              impute_2.0  impute_35.0  impute_40.0  impute_46.0  impute_69.0  \\\n",
       "impute_-97.0         1.0          1.0          1.0          1.0          1.0   \n",
       "impute_-90.0         1.0          1.0          1.0          1.0          1.0   \n",
       "impute_-80.0         1.0          1.0          1.0          1.0          1.0   \n",
       "impute_-17.0         1.0          1.0          1.0          1.0          1.0   \n",
       "impute_2.0           1.0          1.0          1.0          1.0          1.0   \n",
       "impute_35.0          1.0          1.0          1.0          1.0          1.0   \n",
       "impute_40.0          1.0          1.0          1.0          1.0          1.0   \n",
       "impute_46.0          1.0          1.0          1.0          1.0          1.0   \n",
       "impute_69.0          1.0          1.0          1.0          1.0          1.0   \n",
       "impute_90.0          1.0          1.0          1.0          1.0          1.0   \n",
       "\n",
       "              impute_90.0  \n",
       "impute_-97.0          1.0  \n",
       "impute_-90.0          1.0  \n",
       "impute_-80.0          1.0  \n",
       "impute_-17.0          1.0  \n",
       "impute_2.0            1.0  \n",
       "impute_35.0           1.0  \n",
       "impute_40.0           1.0  \n",
       "impute_46.0           1.0  \n",
       "impute_69.0           1.0  \n",
       "impute_90.0           1.0  "
      ]
     },
     "execution_count": 16,
     "metadata": {},
     "output_type": "execute_result"
    }
   ],
   "source": [
    "df_prediction.corr()"
   ]
  },
  {
   "cell_type": "markdown",
   "metadata": {},
   "source": [
    "Perfect Pearson correlation, so exactly the same predictions.\n",
    "\n",
    "If you're confused about this, I encourage you to pick a couple of these potential values, build the regresion, and write out the predictions for some rows to understand what is happening.  tl;dr the regression is picking up on whatever value you use, and imputing `x` to be 0 makes the regression way easier to interpret than non-0 values!"
   ]
  },
  {
   "cell_type": "markdown",
   "metadata": {},
   "source": [
    "# Data 7"
   ]
  },
  {
   "cell_type": "code",
   "execution_count": 17,
   "metadata": {},
   "outputs": [],
   "source": [
    "# Read in\n",
    "df7 = pd.read_csv('../data/df7.csv')"
   ]
  },
  {
   "cell_type": "code",
   "execution_count": 18,
   "metadata": {},
   "outputs": [
    {
     "data": {
      "text/html": [
       "<div>\n",
       "<style scoped>\n",
       "    .dataframe tbody tr th:only-of-type {\n",
       "        vertical-align: middle;\n",
       "    }\n",
       "\n",
       "    .dataframe tbody tr th {\n",
       "        vertical-align: top;\n",
       "    }\n",
       "\n",
       "    .dataframe thead th {\n",
       "        text-align: right;\n",
       "    }\n",
       "</style>\n",
       "<table border=\"1\" class=\"dataframe\">\n",
       "  <thead>\n",
       "    <tr style=\"text-align: right;\">\n",
       "      <th></th>\n",
       "      <th>x</th>\n",
       "      <th>y</th>\n",
       "    </tr>\n",
       "  </thead>\n",
       "  <tbody>\n",
       "    <tr>\n",
       "      <td>0</td>\n",
       "      <td>A</td>\n",
       "      <td>-0.437663</td>\n",
       "    </tr>\n",
       "    <tr>\n",
       "      <td>1</td>\n",
       "      <td>NaN</td>\n",
       "      <td>-2.953738</td>\n",
       "    </tr>\n",
       "    <tr>\n",
       "      <td>2</td>\n",
       "      <td>A</td>\n",
       "      <td>1.267236</td>\n",
       "    </tr>\n",
       "    <tr>\n",
       "      <td>3</td>\n",
       "      <td>B</td>\n",
       "      <td>2.445026</td>\n",
       "    </tr>\n",
       "    <tr>\n",
       "      <td>4</td>\n",
       "      <td>B</td>\n",
       "      <td>0.525157</td>\n",
       "    </tr>\n",
       "  </tbody>\n",
       "</table>\n",
       "</div>"
      ],
      "text/plain": [
       "     x         y\n",
       "0    A -0.437663\n",
       "1  NaN -2.953738\n",
       "2    A  1.267236\n",
       "3    B  2.445026\n",
       "4    B  0.525157"
      ]
     },
     "execution_count": 18,
     "metadata": {},
     "output_type": "execute_result"
    }
   ],
   "source": [
    "# Inspect\n",
    "df7.head()"
   ]
  },
  {
   "cell_type": "markdown",
   "metadata": {},
   "source": [
    "Aha!  Here we happened to see a missig value right off the bat.\n",
    "\n",
    "Categoricals are much easier when it comes to dealing with missing values.  Missing values never overlap with another value, so we can think of them as just another \"level\" like the other value.  But generally I like to change them to some string value because not all modelling frameworks support missing values.  Here, let's just change np.NaN to \"Missing\".\n",
    "\n",
    "np.NaNs for string columns can be messy because the same logic for numerical varaibles don't apply.  We have a few options:\n",
    "\n",
    "- Modify our read function to not convert specific values to np.NaN (here it's an empty string)\n",
    "- Use `.fillna()`\n",
    "\n",
    "For simplicity we'll just use the latter here."
   ]
  },
  {
   "cell_type": "code",
   "execution_count": 19,
   "metadata": {},
   "outputs": [],
   "source": [
    "def make_x_missing_if_null(x):\n",
    "    return x.fillna('Missing')"
   ]
  },
  {
   "cell_type": "code",
   "execution_count": 20,
   "metadata": {},
   "outputs": [
    {
     "data": {
      "text/plain": [
       "<matplotlib.axes._subplots.AxesSubplot at 0xb239e10>"
      ]
     },
     "execution_count": 20,
     "metadata": {},
     "output_type": "execute_result"
    },
    {
     "data": {
      "image/png": "[encoded data removed]",
      "text/plain": [
       "<Figure size 432x288 with 1 Axes>"
      ]
     },
     "metadata": {
      "needs_background": "light"
     },
     "output_type": "display_data"
    }
   ],
   "source": [
    "# Visualize\n",
    "df7.fillna('Missing').boxplot('y', by='x')"
   ]
  },
  {
   "cell_type": "code",
   "execution_count": 21,
   "metadata": {},
   "outputs": [],
   "source": [
    "# Fit model\n",
    "model7_x_missing = smf.ols(\n",
    "    formula='y ~ make_x_missing_if_null(x)',\n",
    "    data=df7\n",
    ")\n",
    "model7_x_missing_fit = model7_x_missing.fit()"
   ]
  },
  {
   "cell_type": "code",
   "execution_count": 22,
   "metadata": {},
   "outputs": [
    {
     "data": {
      "text/html": [
       "<table class=\"simpletable\">\n",
       "<caption>OLS Regression Results</caption>\n",
       "<tr>\n",
       "  <th>Dep. Variable:</th>            <td>y</td>        <th>  R-squared:         </th> <td>   0.775</td> \n",
       "</tr>\n",
       "<tr>\n",
       "  <th>Model:</th>                   <td>OLS</td>       <th>  Adj. R-squared:    </th> <td>   0.774</td> \n",
       "</tr>\n",
       "<tr>\n",
       "  <th>Method:</th>             <td>Least Squares</td>  <th>  F-statistic:       </th> <td>   1713.</td> \n",
       "</tr>\n",
       "<tr>\n",
       "  <th>Date:</th>             <td>Thu, 28 May 2020</td> <th>  Prob (F-statistic):</th> <td>2.96e-323</td>\n",
       "</tr>\n",
       "<tr>\n",
       "  <th>Time:</th>                 <td>21:52:28</td>     <th>  Log-Likelihood:    </th> <td> -1394.0</td> \n",
       "</tr>\n",
       "<tr>\n",
       "  <th>No. Observations:</th>      <td>  1000</td>      <th>  AIC:               </th> <td>   2794.</td> \n",
       "</tr>\n",
       "<tr>\n",
       "  <th>Df Residuals:</th>          <td>   997</td>      <th>  BIC:               </th> <td>   2809.</td> \n",
       "</tr>\n",
       "<tr>\n",
       "  <th>Df Model:</th>              <td>     2</td>      <th>                     </th>     <td> </td>    \n",
       "</tr>\n",
       "<tr>\n",
       "  <th>Covariance Type:</th>      <td>nonrobust</td>    <th>                     </th>     <td> </td>    \n",
       "</tr>\n",
       "</table>\n",
       "<table class=\"simpletable\">\n",
       "<tr>\n",
       "                    <td></td>                      <th>coef</th>     <th>std err</th>      <th>t</th>      <th>P>|t|</th>  <th>[0.025</th>    <th>0.975]</th>  \n",
       "</tr>\n",
       "<tr>\n",
       "  <th>Intercept</th>                            <td>    0.0248</td> <td>    0.047</td> <td>    0.530</td> <td> 0.596</td> <td>   -0.067</td> <td>    0.117</td>\n",
       "</tr>\n",
       "<tr>\n",
       "  <th>make_x_missing_if_null(x)[T.B]</th>       <td>    2.9976</td> <td>    0.065</td> <td>   45.932</td> <td> 0.000</td> <td>    2.870</td> <td>    3.126</td>\n",
       "</tr>\n",
       "<tr>\n",
       "  <th>make_x_missing_if_null(x)[T.Missing]</th> <td>   -2.1427</td> <td>    0.107</td> <td>  -20.017</td> <td> 0.000</td> <td>   -2.353</td> <td>   -1.933</td>\n",
       "</tr>\n",
       "</table>\n",
       "<table class=\"simpletable\">\n",
       "<tr>\n",
       "  <th>Omnibus:</th>       <td> 8.316</td> <th>  Durbin-Watson:     </th> <td>   1.906</td>\n",
       "</tr>\n",
       "<tr>\n",
       "  <th>Prob(Omnibus):</th> <td> 0.016</td> <th>  Jarque-Bera (JB):  </th> <td>   6.075</td>\n",
       "</tr>\n",
       "<tr>\n",
       "  <th>Skew:</th>          <td> 0.061</td> <th>  Prob(JB):          </th> <td>  0.0480</td>\n",
       "</tr>\n",
       "<tr>\n",
       "  <th>Kurtosis:</th>      <td> 2.638</td> <th>  Cond. No.          </th> <td>    4.13</td>\n",
       "</tr>\n",
       "</table><br/><br/>Warnings:<br/>[1] Standard Errors assume that the covariance matrix of the errors is correctly specified."
      ],
      "text/plain": [
       "<class 'statsmodels.iolib.summary.Summary'>\n",
       "\"\"\"\n",
       "                            OLS Regression Results                            \n",
       "==============================================================================\n",
       "Dep. Variable:                      y   R-squared:                       0.775\n",
       "Model:                            OLS   Adj. R-squared:                  0.774\n",
       "Method:                 Least Squares   F-statistic:                     1713.\n",
       "Date:                Thu, 28 May 2020   Prob (F-statistic):          2.96e-323\n",
       "Time:                        21:52:28   Log-Likelihood:                -1394.0\n",
       "No. Observations:                1000   AIC:                             2794.\n",
       "Df Residuals:                     997   BIC:                             2809.\n",
       "Df Model:                           2                                         \n",
       "Covariance Type:            nonrobust                                         \n",
       "========================================================================================================\n",
       "                                           coef    std err          t      P>|t|      [0.025      0.975]\n",
       "--------------------------------------------------------------------------------------------------------\n",
       "Intercept                                0.0248      0.047      0.530      0.596      -0.067       0.117\n",
       "make_x_missing_if_null(x)[T.B]           2.9976      0.065     45.932      0.000       2.870       3.126\n",
       "make_x_missing_if_null(x)[T.Missing]    -2.1427      0.107    -20.017      0.000      -2.353      -1.933\n",
       "==============================================================================\n",
       "Omnibus:                        8.316   Durbin-Watson:                   1.906\n",
       "Prob(Omnibus):                  0.016   Jarque-Bera (JB):                6.075\n",
       "Skew:                           0.061   Prob(JB):                       0.0480\n",
       "Kurtosis:                       2.638   Cond. No.                         4.13\n",
       "==============================================================================\n",
       "\n",
       "Warnings:\n",
       "[1] Standard Errors assume that the covariance matrix of the errors is correctly specified.\n",
       "\"\"\""
      ]
     },
     "execution_count": 22,
     "metadata": {},
     "output_type": "execute_result"
    }
   ],
   "source": [
    "# Summarize\n",
    "model7_x_missing_fit.summary()"
   ]
  },
  {
   "cell_type": "markdown",
   "metadata": {},
   "source": [
    "So the general order of effect looks to be Missing -> A -> B.  Is it possible to make the reference value \"Missing\" (then A, then B) to have a monotonic measured effect?\n",
    "\n",
    "Let's try pandas Categorical type."
   ]
  },
  {
   "cell_type": "code",
   "execution_count": 23,
   "metadata": {},
   "outputs": [],
   "source": [
    "def make_x_categorical_with_missing_reference(x):\n",
    "    return pd.Categorical(x.fillna('Missing'), categories=['Missing', 'A', 'B'])"
   ]
  },
  {
   "cell_type": "code",
   "execution_count": 24,
   "metadata": {},
   "outputs": [
    {
     "data": {
      "text/html": [
       "<table class=\"simpletable\">\n",
       "<caption>OLS Regression Results</caption>\n",
       "<tr>\n",
       "  <th>Dep. Variable:</th>            <td>y</td>        <th>  R-squared:         </th> <td>   0.775</td> \n",
       "</tr>\n",
       "<tr>\n",
       "  <th>Model:</th>                   <td>OLS</td>       <th>  Adj. R-squared:    </th> <td>   0.774</td> \n",
       "</tr>\n",
       "<tr>\n",
       "  <th>Method:</th>             <td>Least Squares</td>  <th>  F-statistic:       </th> <td>   1713.</td> \n",
       "</tr>\n",
       "<tr>\n",
       "  <th>Date:</th>             <td>Thu, 28 May 2020</td> <th>  Prob (F-statistic):</th> <td>2.96e-323</td>\n",
       "</tr>\n",
       "<tr>\n",
       "  <th>Time:</th>                 <td>21:52:28</td>     <th>  Log-Likelihood:    </th> <td> -1394.0</td> \n",
       "</tr>\n",
       "<tr>\n",
       "  <th>No. Observations:</th>      <td>  1000</td>      <th>  AIC:               </th> <td>   2794.</td> \n",
       "</tr>\n",
       "<tr>\n",
       "  <th>Df Residuals:</th>          <td>   997</td>      <th>  BIC:               </th> <td>   2809.</td> \n",
       "</tr>\n",
       "<tr>\n",
       "  <th>Df Model:</th>              <td>     2</td>      <th>                     </th>     <td> </td>    \n",
       "</tr>\n",
       "<tr>\n",
       "  <th>Covariance Type:</th>      <td>nonrobust</td>    <th>                     </th>     <td> </td>    \n",
       "</tr>\n",
       "</table>\n",
       "<table class=\"simpletable\">\n",
       "<tr>\n",
       "                          <td></td>                             <th>coef</th>     <th>std err</th>      <th>t</th>      <th>P>|t|</th>  <th>[0.025</th>    <th>0.975]</th>  \n",
       "</tr>\n",
       "<tr>\n",
       "  <th>Intercept</th>                                         <td>   -2.1179</td> <td>    0.096</td> <td>  -22.003</td> <td> 0.000</td> <td>   -2.307</td> <td>   -1.929</td>\n",
       "</tr>\n",
       "<tr>\n",
       "  <th>make_x_categorical_with_missing_reference(x)[T.A]</th> <td>    2.1427</td> <td>    0.107</td> <td>   20.017</td> <td> 0.000</td> <td>    1.933</td> <td>    2.353</td>\n",
       "</tr>\n",
       "<tr>\n",
       "  <th>make_x_categorical_with_missing_reference(x)[T.B]</th> <td>    5.1403</td> <td>    0.106</td> <td>   48.292</td> <td> 0.000</td> <td>    4.931</td> <td>    5.349</td>\n",
       "</tr>\n",
       "</table>\n",
       "<table class=\"simpletable\">\n",
       "<tr>\n",
       "  <th>Omnibus:</th>       <td> 8.316</td> <th>  Durbin-Watson:     </th> <td>   1.906</td>\n",
       "</tr>\n",
       "<tr>\n",
       "  <th>Prob(Omnibus):</th> <td> 0.016</td> <th>  Jarque-Bera (JB):  </th> <td>   6.075</td>\n",
       "</tr>\n",
       "<tr>\n",
       "  <th>Skew:</th>          <td> 0.061</td> <th>  Prob(JB):          </th> <td>  0.0480</td>\n",
       "</tr>\n",
       "<tr>\n",
       "  <th>Kurtosis:</th>      <td> 2.638</td> <th>  Cond. No.          </th> <td>    6.59</td>\n",
       "</tr>\n",
       "</table><br/><br/>Warnings:<br/>[1] Standard Errors assume that the covariance matrix of the errors is correctly specified."
      ],
      "text/plain": [
       "<class 'statsmodels.iolib.summary.Summary'>\n",
       "\"\"\"\n",
       "                            OLS Regression Results                            \n",
       "==============================================================================\n",
       "Dep. Variable:                      y   R-squared:                       0.775\n",
       "Model:                            OLS   Adj. R-squared:                  0.774\n",
       "Method:                 Least Squares   F-statistic:                     1713.\n",
       "Date:                Thu, 28 May 2020   Prob (F-statistic):          2.96e-323\n",
       "Time:                        21:52:28   Log-Likelihood:                -1394.0\n",
       "No. Observations:                1000   AIC:                             2794.\n",
       "Df Residuals:                     997   BIC:                             2809.\n",
       "Df Model:                           2                                         \n",
       "Covariance Type:            nonrobust                                         \n",
       "=====================================================================================================================\n",
       "                                                        coef    std err          t      P>|t|      [0.025      0.975]\n",
       "---------------------------------------------------------------------------------------------------------------------\n",
       "Intercept                                            -2.1179      0.096    -22.003      0.000      -2.307      -1.929\n",
       "make_x_categorical_with_missing_reference(x)[T.A]     2.1427      0.107     20.017      0.000       1.933       2.353\n",
       "make_x_categorical_with_missing_reference(x)[T.B]     5.1403      0.106     48.292      0.000       4.931       5.349\n",
       "==============================================================================\n",
       "Omnibus:                        8.316   Durbin-Watson:                   1.906\n",
       "Prob(Omnibus):                  0.016   Jarque-Bera (JB):                6.075\n",
       "Skew:                           0.061   Prob(JB):                       0.0480\n",
       "Kurtosis:                       2.638   Cond. No.                         6.59\n",
       "==============================================================================\n",
       "\n",
       "Warnings:\n",
       "[1] Standard Errors assume that the covariance matrix of the errors is correctly specified.\n",
       "\"\"\""
      ]
     },
     "execution_count": 24,
     "metadata": {},
     "output_type": "execute_result"
    }
   ],
   "source": [
    "# Fit model\n",
    "smf.ols(\n",
    "    formula='y ~ make_x_categorical_with_missing_reference(x)',\n",
    "    data=df7\n",
    ").fit().summary()"
   ]
  },
  {
   "cell_type": "markdown",
   "metadata": {},
   "source": [
    "Looks like it worked!\n",
    "\n",
    "However, generally I prefer to have \"Missing\" be the *last* category (like it was by default here) so that the effect of being missing can be clearly identified.  Otherwise, just looking at the coefficients wouldn't make it obvious that there were missing value."
   ]
  },
  {
   "cell_type": "markdown",
   "metadata": {},
   "source": [
    "# Data 8"
   ]
  },
  {
   "cell_type": "code",
   "execution_count": 25,
   "metadata": {},
   "outputs": [],
   "source": [
    "# Read in\n",
    "df8 = pd.read_csv('../data/df8.csv')"
   ]
  },
  {
   "cell_type": "code",
   "execution_count": 26,
   "metadata": {},
   "outputs": [
    {
     "data": {
      "text/html": [
       "<div>\n",
       "<style scoped>\n",
       "    .dataframe tbody tr th:only-of-type {\n",
       "        vertical-align: middle;\n",
       "    }\n",
       "\n",
       "    .dataframe tbody tr th {\n",
       "        vertical-align: top;\n",
       "    }\n",
       "\n",
       "    .dataframe thead th {\n",
       "        text-align: right;\n",
       "    }\n",
       "</style>\n",
       "<table border=\"1\" class=\"dataframe\">\n",
       "  <thead>\n",
       "    <tr style=\"text-align: right;\">\n",
       "      <th></th>\n",
       "      <th>x1</th>\n",
       "      <th>x2</th>\n",
       "      <th>y</th>\n",
       "    </tr>\n",
       "  </thead>\n",
       "  <tbody>\n",
       "    <tr>\n",
       "      <td>0</td>\n",
       "      <td>2.689212</td>\n",
       "      <td>C</td>\n",
       "      <td>2.194307</td>\n",
       "    </tr>\n",
       "    <tr>\n",
       "      <td>1</td>\n",
       "      <td>1.770311</td>\n",
       "      <td>A</td>\n",
       "      <td>4.538295</td>\n",
       "    </tr>\n",
       "    <tr>\n",
       "      <td>2</td>\n",
       "      <td>2.884945</td>\n",
       "      <td>B</td>\n",
       "      <td>1.717667</td>\n",
       "    </tr>\n",
       "    <tr>\n",
       "      <td>3</td>\n",
       "      <td>3.007989</td>\n",
       "      <td>C</td>\n",
       "      <td>5.219927</td>\n",
       "    </tr>\n",
       "    <tr>\n",
       "      <td>4</td>\n",
       "      <td>4.959291</td>\n",
       "      <td>A</td>\n",
       "      <td>7.623335</td>\n",
       "    </tr>\n",
       "  </tbody>\n",
       "</table>\n",
       "</div>"
      ],
      "text/plain": [
       "         x1 x2         y\n",
       "0  2.689212  C  2.194307\n",
       "1  1.770311  A  4.538295\n",
       "2  2.884945  B  1.717667\n",
       "3  3.007989  C  5.219927\n",
       "4  4.959291  A  7.623335"
      ]
     },
     "execution_count": 26,
     "metadata": {},
     "output_type": "execute_result"
    }
   ],
   "source": [
    "# Inspect\n",
    "df8.head()"
   ]
  },
  {
   "cell_type": "markdown",
   "metadata": {},
   "source": [
    "Two predictors, one numeric and one categorical.  Let's visualize them separately."
   ]
  },
  {
   "cell_type": "code",
   "execution_count": 27,
   "metadata": {},
   "outputs": [
    {
     "data": {
      "text/plain": [
       "<matplotlib.axes._subplots.AxesSubplot at 0xb70b978>"
      ]
     },
     "execution_count": 27,
     "metadata": {},
     "output_type": "execute_result"
    },
    {
     "data": {
      "image/png": "[encoded data removed]",
      "text/plain": [
       "<Figure size 432x288 with 1 Axes>"
      ]
     },
     "metadata": {
      "needs_background": "light"
     },
     "output_type": "display_data"
    }
   ],
   "source": [
    "# Visualize x1\n",
    "df8.plot('x1', 'y', kind='scatter')"
   ]
  },
  {
   "cell_type": "code",
   "execution_count": 28,
   "metadata": {},
   "outputs": [
    {
     "data": {
      "text/plain": [
       "<matplotlib.axes._subplots.AxesSubplot at 0xb6f2e10>"
      ]
     },
     "execution_count": 28,
     "metadata": {},
     "output_type": "execute_result"
    },
    {
     "data": {
      "image/png": "[encoded data removed]",
      "text/plain": [
       "<Figure size 432x288 with 1 Axes>"
      ]
     },
     "metadata": {
      "needs_background": "light"
     },
     "output_type": "display_data"
    }
   ],
   "source": [
    "# Visualize x2\n",
    "df8.boxplot('y', by='x2')"
   ]
  },
  {
   "cell_type": "markdown",
   "metadata": {},
   "source": [
    "Looks relatively linear in x1, x2 values seem to have different means.  Let's fit it all."
   ]
  },
  {
   "cell_type": "code",
   "execution_count": 29,
   "metadata": {},
   "outputs": [],
   "source": [
    "# Fit model\n",
    "model8 = smf.ols(\n",
    "    formula='y ~ x1 + x2',\n",
    "    data=df8\n",
    ")\n",
    "model8_fit = model8.fit()"
   ]
  },
  {
   "cell_type": "code",
   "execution_count": 30,
   "metadata": {},
   "outputs": [
    {
     "data": {
      "text/html": [
       "<table class=\"simpletable\">\n",
       "<caption>OLS Regression Results</caption>\n",
       "<tr>\n",
       "  <th>Dep. Variable:</th>            <td>y</td>        <th>  R-squared:         </th> <td>   0.772</td> \n",
       "</tr>\n",
       "<tr>\n",
       "  <th>Model:</th>                   <td>OLS</td>       <th>  Adj. R-squared:    </th> <td>   0.771</td> \n",
       "</tr>\n",
       "<tr>\n",
       "  <th>Method:</th>             <td>Least Squares</td>  <th>  F-statistic:       </th> <td>   1124.</td> \n",
       "</tr>\n",
       "<tr>\n",
       "  <th>Date:</th>             <td>Thu, 28 May 2020</td> <th>  Prob (F-statistic):</th> <td>3.68e-319</td>\n",
       "</tr>\n",
       "<tr>\n",
       "  <th>Time:</th>                 <td>21:52:28</td>     <th>  Log-Likelihood:    </th> <td> -1571.2</td> \n",
       "</tr>\n",
       "<tr>\n",
       "  <th>No. Observations:</th>      <td>  1000</td>      <th>  AIC:               </th> <td>   3150.</td> \n",
       "</tr>\n",
       "<tr>\n",
       "  <th>Df Residuals:</th>          <td>   996</td>      <th>  BIC:               </th> <td>   3170.</td> \n",
       "</tr>\n",
       "<tr>\n",
       "  <th>Df Model:</th>              <td>     3</td>      <th>                     </th>     <td> </td>    \n",
       "</tr>\n",
       "<tr>\n",
       "  <th>Covariance Type:</th>      <td>nonrobust</td>    <th>                     </th>     <td> </td>    \n",
       "</tr>\n",
       "</table>\n",
       "<table class=\"simpletable\">\n",
       "<tr>\n",
       "      <td></td>         <th>coef</th>     <th>std err</th>      <th>t</th>      <th>P>|t|</th>  <th>[0.025</th>    <th>0.975]</th>  \n",
       "</tr>\n",
       "<tr>\n",
       "  <th>Intercept</th> <td>    0.5821</td> <td>    0.127</td> <td>    4.581</td> <td> 0.000</td> <td>    0.333</td> <td>    0.832</td>\n",
       "</tr>\n",
       "<tr>\n",
       "  <th>x2[T.B]</th>   <td>   -3.8628</td> <td>    0.091</td> <td>  -42.428</td> <td> 0.000</td> <td>   -4.041</td> <td>   -3.684</td>\n",
       "</tr>\n",
       "<tr>\n",
       "  <th>x2[T.C]</th>   <td>   -1.4110</td> <td>    0.091</td> <td>  -15.497</td> <td> 0.000</td> <td>   -1.590</td> <td>   -1.232</td>\n",
       "</tr>\n",
       "<tr>\n",
       "  <th>x1</th>        <td>    1.4525</td> <td>    0.037</td> <td>   39.261</td> <td> 0.000</td> <td>    1.380</td> <td>    1.525</td>\n",
       "</tr>\n",
       "</table>\n",
       "<table class=\"simpletable\">\n",
       "<tr>\n",
       "  <th>Omnibus:</th>       <td> 1.410</td> <th>  Durbin-Watson:     </th> <td>   1.998</td>\n",
       "</tr>\n",
       "<tr>\n",
       "  <th>Prob(Omnibus):</th> <td> 0.494</td> <th>  Jarque-Bera (JB):  </th> <td>   1.280</td>\n",
       "</tr>\n",
       "<tr>\n",
       "  <th>Skew:</th>          <td> 0.054</td> <th>  Prob(JB):          </th> <td>   0.527</td>\n",
       "</tr>\n",
       "<tr>\n",
       "  <th>Kurtosis:</th>      <td> 3.138</td> <th>  Cond. No.          </th> <td>    13.0</td>\n",
       "</tr>\n",
       "</table><br/><br/>Warnings:<br/>[1] Standard Errors assume that the covariance matrix of the errors is correctly specified."
      ],
      "text/plain": [
       "<class 'statsmodels.iolib.summary.Summary'>\n",
       "\"\"\"\n",
       "                            OLS Regression Results                            \n",
       "==============================================================================\n",
       "Dep. Variable:                      y   R-squared:                       0.772\n",
       "Model:                            OLS   Adj. R-squared:                  0.771\n",
       "Method:                 Least Squares   F-statistic:                     1124.\n",
       "Date:                Thu, 28 May 2020   Prob (F-statistic):          3.68e-319\n",
       "Time:                        21:52:28   Log-Likelihood:                -1571.2\n",
       "No. Observations:                1000   AIC:                             3150.\n",
       "Df Residuals:                     996   BIC:                             3170.\n",
       "Df Model:                           3                                         \n",
       "Covariance Type:            nonrobust                                         \n",
       "==============================================================================\n",
       "                 coef    std err          t      P>|t|      [0.025      0.975]\n",
       "------------------------------------------------------------------------------\n",
       "Intercept      0.5821      0.127      4.581      0.000       0.333       0.832\n",
       "x2[T.B]       -3.8628      0.091    -42.428      0.000      -4.041      -3.684\n",
       "x2[T.C]       -1.4110      0.091    -15.497      0.000      -1.590      -1.232\n",
       "x1             1.4525      0.037     39.261      0.000       1.380       1.525\n",
       "==============================================================================\n",
       "Omnibus:                        1.410   Durbin-Watson:                   1.998\n",
       "Prob(Omnibus):                  0.494   Jarque-Bera (JB):                1.280\n",
       "Skew:                           0.054   Prob(JB):                        0.527\n",
       "Kurtosis:                       3.138   Cond. No.                         13.0\n",
       "==============================================================================\n",
       "\n",
       "Warnings:\n",
       "[1] Standard Errors assume that the covariance matrix of the errors is correctly specified.\n",
       "\"\"\""
      ]
     },
     "execution_count": 30,
     "metadata": {},
     "output_type": "execute_result"
    }
   ],
   "source": [
    "# Summarize\n",
    "model8_fit.summary()"
   ]
  },
  {
   "cell_type": "markdown",
   "metadata": {},
   "source": [
    "Fit seems reasonable, all effects significant.  Let's break out that univariate code again."
   ]
  },
  {
   "cell_type": "code",
   "execution_count": 31,
   "metadata": {},
   "outputs": [],
   "source": [
    "def plot_univariate(df, x, y, model_fit):\n",
    "    # Add prediction\n",
    "    df = df.assign(p = model_fit.predict(df))\n",
    "    \n",
    "    # If x is numeric, bin into 5 groups\n",
    "    if df[x].dtype in (np.int64, np.float64):\n",
    "        df[x] = pd.cut(df[x], 5).apply(str)\n",
    "    \n",
    "    # Aggregate\n",
    "    df_agg = (\n",
    "        df\n",
    "        .groupby(x)\n",
    "        .agg(\n",
    "            n=(y, 'count'),\n",
    "            y_mean=(y, 'mean'),\n",
    "            p_mean=('p', 'mean'),\n",
    "        )\n",
    "        .reset_index()\n",
    "    )\n",
    "    \n",
    "    print(df_agg)\n",
    "    \n",
    "    # Plot\n",
    "    fig, (ax1, ax2) = plt.subplots(2, 1, sharex=True, figsize=(10, 6))\n",
    "    \n",
    "    # First plot: Counts\n",
    "    ax1.bar(x, 'n', data=df_agg)\n",
    "    \n",
    "    # Second plot: Average actuals and predicted\n",
    "    ax2.scatter(x, 'y_mean', data=df_agg, label='Actual', marker='.', color='green', linewidth=3)\n",
    "    ax2.scatter(x, 'p_mean', data=df_agg, label='Predicted', marker='.', color='red', linewidth=3)\n",
    "    \n",
    "    plt.legend()\n",
    "    plt.show()"
   ]
  },
  {
   "cell_type": "code",
   "execution_count": 32,
   "metadata": {},
   "outputs": [
    {
     "name": "stdout",
     "output_type": "stream",
     "text": [
      "               x1    n    y_mean    p_mean\n",
      "0  (0.194, 1.339]   53  0.071495  0.135551\n",
      "1  (1.339, 2.478]  267  1.693538  1.745771\n",
      "2  (2.478, 3.617]  411  3.251823  3.189245\n",
      "3  (3.617, 4.756]  237  4.618808  4.600518\n",
      "4  (4.756, 5.895]   32  5.897054  6.294334\n"
     ]
    },
    {
     "data": {
      "image/png": "[encoded data removed]",
      "text/plain": [
       "<Figure size 720x432 with 2 Axes>"
      ]
     },
     "metadata": {
      "needs_background": "light"
     },
     "output_type": "display_data"
    }
   ],
   "source": [
    "# x1\n",
    "plot_univariate(df8, 'x1', 'y', model8_fit)"
   ]
  },
  {
   "cell_type": "code",
   "execution_count": 33,
   "metadata": {},
   "outputs": [
    {
     "name": "stdout",
     "output_type": "stream",
     "text": [
      "  x2    n    y_mean    p_mean\n",
      "0  A  316  4.853987  4.853987\n",
      "1  B  342  1.025649  1.025649\n",
      "2  C  342  3.483024  3.483024\n"
     ]
    },
    {
     "data": {
      "image/png": "[encoded data removed]",
      "text/plain": [
       "<Figure size 720x432 with 2 Axes>"
      ]
     },
     "metadata": {
      "needs_background": "light"
     },
     "output_type": "display_data"
    }
   ],
   "source": [
    "# x2\n",
    "plot_univariate(df8, 'x2', 'y', model8_fit)"
   ]
  },
  {
   "cell_type": "markdown",
   "metadata": {},
   "source": [
    "Looks pretty reasonable!  However, since we only have two variables, let's see if there's any interaction going on."
   ]
  },
  {
   "cell_type": "code",
   "execution_count": 34,
   "metadata": {},
   "outputs": [
    {
     "data": {
      "text/plain": [
       "<matplotlib.axes._subplots.AxesSubplot at 0xc176978>"
      ]
     },
     "execution_count": 34,
     "metadata": {},
     "output_type": "execute_result"
    },
    {
     "data": {
      "image/png": "[encoded data removed]",
      "text/plain": [
       "<Figure size 432x288 with 1 Axes>"
      ]
     },
     "metadata": {
      "needs_background": "light"
     },
     "output_type": "display_data"
    }
   ],
   "source": [
    "# Regraph x1\n",
    "sb.scatterplot(data=df8, x='x1', y='y')"
   ]
  },
  {
   "cell_type": "code",
   "execution_count": 35,
   "metadata": {},
   "outputs": [
    {
     "data": {
      "text/plain": [
       "<matplotlib.axes._subplots.AxesSubplot at 0xc1cdcf8>"
      ]
     },
     "execution_count": 35,
     "metadata": {},
     "output_type": "execute_result"
    },
    {
     "data": {
      "image/png": "[encoded data removed]",
      "text/plain": [
       "<Figure size 432x288 with 1 Axes>"
      ]
     },
     "metadata": {
      "needs_background": "light"
     },
     "output_type": "display_data"
    }
   ],
   "source": [
    "# Color by x2\n",
    "# Inspect by x2 value\n",
    "sb.scatterplot(data=df8, x='x1', y='y', hue='x2')"
   ]
  },
  {
   "cell_type": "markdown",
   "metadata": {},
   "source": [
    "Ah, it does look a bit different for each category.  Let's see how some interaction terms play out."
   ]
  },
  {
   "cell_type": "code",
   "execution_count": 36,
   "metadata": {},
   "outputs": [],
   "source": [
    "# Fit model\n",
    "model8_int = smf.ols(\n",
    "    formula='y ~ x1*x2',\n",
    "    data=df8\n",
    ")\n",
    "model8_int_fit = model8_int.fit()"
   ]
  },
  {
   "cell_type": "code",
   "execution_count": 37,
   "metadata": {},
   "outputs": [
    {
     "data": {
      "text/html": [
       "<table class=\"simpletable\">\n",
       "<caption>OLS Regression Results</caption>\n",
       "<tr>\n",
       "  <th>Dep. Variable:</th>            <td>y</td>        <th>  R-squared:         </th> <td>   0.847</td>\n",
       "</tr>\n",
       "<tr>\n",
       "  <th>Model:</th>                   <td>OLS</td>       <th>  Adj. R-squared:    </th> <td>   0.847</td>\n",
       "</tr>\n",
       "<tr>\n",
       "  <th>Method:</th>             <td>Least Squares</td>  <th>  F-statistic:       </th> <td>   1104.</td>\n",
       "</tr>\n",
       "<tr>\n",
       "  <th>Date:</th>             <td>Thu, 28 May 2020</td> <th>  Prob (F-statistic):</th>  <td>  0.00</td> \n",
       "</tr>\n",
       "<tr>\n",
       "  <th>Time:</th>                 <td>21:52:29</td>     <th>  Log-Likelihood:    </th> <td> -1370.6</td>\n",
       "</tr>\n",
       "<tr>\n",
       "  <th>No. Observations:</th>      <td>  1000</td>      <th>  AIC:               </th> <td>   2753.</td>\n",
       "</tr>\n",
       "<tr>\n",
       "  <th>Df Residuals:</th>          <td>   994</td>      <th>  BIC:               </th> <td>   2783.</td>\n",
       "</tr>\n",
       "<tr>\n",
       "  <th>Df Model:</th>              <td>     5</td>      <th>                     </th>     <td> </td>   \n",
       "</tr>\n",
       "<tr>\n",
       "  <th>Covariance Type:</th>      <td>nonrobust</td>    <th>                     </th>     <td> </td>   \n",
       "</tr>\n",
       "</table>\n",
       "<table class=\"simpletable\">\n",
       "<tr>\n",
       "       <td></td>         <th>coef</th>     <th>std err</th>      <th>t</th>      <th>P>|t|</th>  <th>[0.025</th>    <th>0.975]</th>  \n",
       "</tr>\n",
       "<tr>\n",
       "  <th>Intercept</th>  <td>    1.9916</td> <td>    0.163</td> <td>   12.188</td> <td> 0.000</td> <td>    1.671</td> <td>    2.312</td>\n",
       "</tr>\n",
       "<tr>\n",
       "  <th>x2[T.B]</th>    <td>   -3.9917</td> <td>    0.229</td> <td>  -17.447</td> <td> 0.000</td> <td>   -4.441</td> <td>   -3.543</td>\n",
       "</tr>\n",
       "<tr>\n",
       "  <th>x2[T.C]</th>    <td>   -5.7565</td> <td>    0.235</td> <td>  -24.533</td> <td> 0.000</td> <td>   -6.217</td> <td>   -5.296</td>\n",
       "</tr>\n",
       "<tr>\n",
       "  <th>x1</th>         <td>    0.9733</td> <td>    0.052</td> <td>   18.549</td> <td> 0.000</td> <td>    0.870</td> <td>    1.076</td>\n",
       "</tr>\n",
       "<tr>\n",
       "  <th>x1:x2[T.B]</th> <td>    0.0473</td> <td>    0.073</td> <td>    0.646</td> <td> 0.518</td> <td>   -0.096</td> <td>    0.191</td>\n",
       "</tr>\n",
       "<tr>\n",
       "  <th>x1:x2[T.C]</th> <td>    1.4683</td> <td>    0.075</td> <td>   19.503</td> <td> 0.000</td> <td>    1.321</td> <td>    1.616</td>\n",
       "</tr>\n",
       "</table>\n",
       "<table class=\"simpletable\">\n",
       "<tr>\n",
       "  <th>Omnibus:</th>       <td> 0.978</td> <th>  Durbin-Watson:     </th> <td>   2.008</td>\n",
       "</tr>\n",
       "<tr>\n",
       "  <th>Prob(Omnibus):</th> <td> 0.613</td> <th>  Jarque-Bera (JB):  </th> <td>   1.045</td>\n",
       "</tr>\n",
       "<tr>\n",
       "  <th>Skew:</th>          <td>-0.040</td> <th>  Prob(JB):          </th> <td>   0.593</td>\n",
       "</tr>\n",
       "<tr>\n",
       "  <th>Kurtosis:</th>      <td> 2.864</td> <th>  Cond. No.          </th> <td>    40.0</td>\n",
       "</tr>\n",
       "</table><br/><br/>Warnings:<br/>[1] Standard Errors assume that the covariance matrix of the errors is correctly specified."
      ],
      "text/plain": [
       "<class 'statsmodels.iolib.summary.Summary'>\n",
       "\"\"\"\n",
       "                            OLS Regression Results                            \n",
       "==============================================================================\n",
       "Dep. Variable:                      y   R-squared:                       0.847\n",
       "Model:                            OLS   Adj. R-squared:                  0.847\n",
       "Method:                 Least Squares   F-statistic:                     1104.\n",
       "Date:                Thu, 28 May 2020   Prob (F-statistic):               0.00\n",
       "Time:                        21:52:29   Log-Likelihood:                -1370.6\n",
       "No. Observations:                1000   AIC:                             2753.\n",
       "Df Residuals:                     994   BIC:                             2783.\n",
       "Df Model:                           5                                         \n",
       "Covariance Type:            nonrobust                                         \n",
       "==============================================================================\n",
       "                 coef    std err          t      P>|t|      [0.025      0.975]\n",
       "------------------------------------------------------------------------------\n",
       "Intercept      1.9916      0.163     12.188      0.000       1.671       2.312\n",
       "x2[T.B]       -3.9917      0.229    -17.447      0.000      -4.441      -3.543\n",
       "x2[T.C]       -5.7565      0.235    -24.533      0.000      -6.217      -5.296\n",
       "x1             0.9733      0.052     18.549      0.000       0.870       1.076\n",
       "x1:x2[T.B]     0.0473      0.073      0.646      0.518      -0.096       0.191\n",
       "x1:x2[T.C]     1.4683      0.075     19.503      0.000       1.321       1.616\n",
       "==============================================================================\n",
       "Omnibus:                        0.978   Durbin-Watson:                   2.008\n",
       "Prob(Omnibus):                  0.613   Jarque-Bera (JB):                1.045\n",
       "Skew:                          -0.040   Prob(JB):                        0.593\n",
       "Kurtosis:                       2.864   Cond. No.                         40.0\n",
       "==============================================================================\n",
       "\n",
       "Warnings:\n",
       "[1] Standard Errors assume that the covariance matrix of the errors is correctly specified.\n",
       "\"\"\""
      ]
     },
     "execution_count": 37,
     "metadata": {},
     "output_type": "execute_result"
    }
   ],
   "source": [
    "# Summarize\n",
    "model8_int_fit.summary()"
   ]
  },
  {
   "cell_type": "markdown",
   "metadata": {},
   "source": [
    "Oh wow, off-hand that looks like a much better fit!\n",
    "\n",
    "It looks like the only coefficient that is not signficant is the x1 * x2 = B term.  This is because x2 = A is the reference category, and looking at the graph above it looks like A and B have close to the same slope."
   ]
  },
  {
   "cell_type": "code",
   "execution_count": 38,
   "metadata": {},
   "outputs": [
    {
     "name": "stdout",
     "output_type": "stream",
     "text": [
      "               x1    n    y_mean    p_mean\n",
      "0  (0.194, 1.339]   53  0.071495  0.148461\n",
      "1  (1.339, 2.478]  267  1.693538  1.728830\n",
      "2  (2.478, 3.617]  411  3.251823  3.197196\n",
      "3  (3.617, 4.756]  237  4.618808  4.621825\n",
      "4  (4.756, 5.895]   32  5.897054  6.154386\n"
     ]
    },
    {
     "data": {
      "image/png": "[encoded data removed]",
      "text/plain": [
       "<Figure size 720x432 with 2 Axes>"
      ]
     },
     "metadata": {
      "needs_background": "light"
     },
     "output_type": "display_data"
    }
   ],
   "source": [
    "# Redo x1 univariate\n",
    "plot_univariate(df8, 'x1', 'y', model8_int_fit)"
   ]
  },
  {
   "cell_type": "code",
   "execution_count": 39,
   "metadata": {},
   "outputs": [
    {
     "name": "stdout",
     "output_type": "stream",
     "text": [
      "  x2    n    y_mean    p_mean\n",
      "0  A  316  4.853987  4.853987\n",
      "1  B  342  1.025649  1.025649\n",
      "2  C  342  3.483024  3.483024\n"
     ]
    },
    {
     "data": {
      "image/png": "[encoded data removed]",
      "text/plain": [
       "<Figure size 720x432 with 2 Axes>"
      ]
     },
     "metadata": {
      "needs_background": "light"
     },
     "output_type": "display_data"
    }
   ],
   "source": [
    "# Redo x2 univariate\n",
    "plot_univariate(df8, 'x2', 'y', model8_int_fit)"
   ]
  },
  {
   "cell_type": "markdown",
   "metadata": {},
   "source": [
    "It's a bit hard to tell, but the univariates do look a bit better as well.  The `x1` values (stitched manually):\n",
    "\n",
    "```\n",
    "               x1    n    y_mean  original interaction\n",
    "0  (0.194, 1.339]   53  0.071495  0.135551    0.148461\n",
    "1  (1.339, 2.478]  267  1.693538  1.745771    1.728830\n",
    "2  (2.478, 3.617]  411  3.251823  3.189245    3.197196\n",
    "3  (3.617, 4.756]  237  4.618808  4.600518    4.621825\n",
    "4  (4.756, 5.895]   32  5.897054  6.294334    6.154386\n",
    "```\n",
    "\n",
    "And the `x2` values (which look the same, which can happen because the interaction terms helped the x1 effects more than the x2 effects):\n",
    "\n",
    "```\n",
    "  x2    n    y_mean  original interaction\n",
    "0  A  316  4.853987  4.853987    4.853987\n",
    "1  B  342  1.025649  1.025649    1.025649\n",
    "2  C  342  3.483024  3.483024    3.483024\n",
    "```"
   ]
  },
  {
   "cell_type": "code",
   "execution_count": null,
   "metadata": {},
   "outputs": [],
   "source": []
  }
 ],
 "metadata": {
  "kernelspec": {
   "display_name": "Python [conda env:clearbrain_lastresort] *",
   "language": "python",
   "name": "conda-env-clearbrain_lastresort-py"
  },
  "language_info": {
   "codemirror_mode": {
    "name": "ipython",
    "version": 3
   },
   "file_extension": ".py",
   "mimetype": "text/x-python",
   "name": "python",
   "nbconvert_exporter": "python",
   "pygments_lexer": "ipython3",
   "version": "3.7.0"
  }
 },
 "nbformat": 4,
 "nbformat_minor": 2
}
