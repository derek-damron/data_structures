{
 "cells": [
  {
   "cell_type": "code",
   "execution_count": 1,
   "metadata": {},
   "outputs": [],
   "source": [
    "import pandas as pd\n",
    "import numpy as np\n",
    "import matplotlib.pyplot as plt\n",
    "import seaborn as sb\n",
    "from itertools import product\n",
    "\n",
    "import statsmodels.api as sm\n",
    "import statsmodels.formula.api as smf\n",
    "\n",
    "from sklearn.model_selection import train_test_split, cross_val_score\n",
    "from sklearn.tree import DecisionTreeRegressor\n",
    "from sklearn.ensemble import RandomForestRegressor, GradientBoostingRegressor"
   ]
  },
  {
   "cell_type": "code",
   "execution_count": 2,
   "metadata": {},
   "outputs": [],
   "source": [
    "# Read in \n",
    "df10 = pd.read_csv('../data/df10.csv')"
   ]
  },
  {
   "cell_type": "code",
   "execution_count": 3,
   "metadata": {},
   "outputs": [
    {
     "data": {
      "text/html": [
       "<div>\n",
       "<style scoped>\n",
       "    .dataframe tbody tr th:only-of-type {\n",
       "        vertical-align: middle;\n",
       "    }\n",
       "\n",
       "    .dataframe tbody tr th {\n",
       "        vertical-align: top;\n",
       "    }\n",
       "\n",
       "    .dataframe thead th {\n",
       "        text-align: right;\n",
       "    }\n",
       "</style>\n",
       "<table border=\"1\" class=\"dataframe\">\n",
       "  <thead>\n",
       "    <tr style=\"text-align: right;\">\n",
       "      <th></th>\n",
       "      <th>x1</th>\n",
       "      <th>x2</th>\n",
       "      <th>x3</th>\n",
       "      <th>x4</th>\n",
       "      <th>x5</th>\n",
       "      <th>x6</th>\n",
       "      <th>x7</th>\n",
       "      <th>x8</th>\n",
       "      <th>x9</th>\n",
       "      <th>x10</th>\n",
       "      <th>y</th>\n",
       "    </tr>\n",
       "  </thead>\n",
       "  <tbody>\n",
       "    <tr>\n",
       "      <th>0</th>\n",
       "      <td>0.611402</td>\n",
       "      <td>0.720283</td>\n",
       "      <td>3.165168</td>\n",
       "      <td>0.372100</td>\n",
       "      <td>-0.360194</td>\n",
       "      <td>6.417779</td>\n",
       "      <td>A2</td>\n",
       "      <td>B3</td>\n",
       "      <td>C16</td>\n",
       "      <td>D1</td>\n",
       "      <td>-16.680112</td>\n",
       "    </tr>\n",
       "    <tr>\n",
       "      <th>1</th>\n",
       "      <td>-0.463374</td>\n",
       "      <td>-0.908280</td>\n",
       "      <td>3.046919</td>\n",
       "      <td>0.866590</td>\n",
       "      <td>0.949304</td>\n",
       "      <td>6.142320</td>\n",
       "      <td>A1</td>\n",
       "      <td>B2</td>\n",
       "      <td>C6</td>\n",
       "      <td>D3</td>\n",
       "      <td>-0.347247</td>\n",
       "    </tr>\n",
       "    <tr>\n",
       "      <th>2</th>\n",
       "      <td>-0.004264</td>\n",
       "      <td>-2.710478</td>\n",
       "      <td>3.629876</td>\n",
       "      <td>0.587660</td>\n",
       "      <td>-0.413790</td>\n",
       "      <td>7.196720</td>\n",
       "      <td>A2</td>\n",
       "      <td>B1</td>\n",
       "      <td>C10</td>\n",
       "      <td>D3</td>\n",
       "      <td>-13.192616</td>\n",
       "    </tr>\n",
       "    <tr>\n",
       "      <th>3</th>\n",
       "      <td>0.310406</td>\n",
       "      <td>-0.511657</td>\n",
       "      <td>3.269785</td>\n",
       "      <td>3.036609</td>\n",
       "      <td>-0.430169</td>\n",
       "      <td>6.363889</td>\n",
       "      <td>A2</td>\n",
       "      <td>B5</td>\n",
       "      <td>C33</td>\n",
       "      <td>D2</td>\n",
       "      <td>0.764504</td>\n",
       "    </tr>\n",
       "    <tr>\n",
       "      <th>4</th>\n",
       "      <td>-2.537362</td>\n",
       "      <td>0.594968</td>\n",
       "      <td>1.731083</td>\n",
       "      <td>0.616347</td>\n",
       "      <td>1.753629</td>\n",
       "      <td>3.273066</td>\n",
       "      <td>A1</td>\n",
       "      <td>B1</td>\n",
       "      <td>C6</td>\n",
       "      <td>D3</td>\n",
       "      <td>1.757865</td>\n",
       "    </tr>\n",
       "    <tr>\n",
       "      <th>...</th>\n",
       "      <td>...</td>\n",
       "      <td>...</td>\n",
       "      <td>...</td>\n",
       "      <td>...</td>\n",
       "      <td>...</td>\n",
       "      <td>...</td>\n",
       "      <td>...</td>\n",
       "      <td>...</td>\n",
       "      <td>...</td>\n",
       "      <td>...</td>\n",
       "      <td>...</td>\n",
       "    </tr>\n",
       "    <tr>\n",
       "      <th>9995</th>\n",
       "      <td>0.786519</td>\n",
       "      <td>-0.053336</td>\n",
       "      <td>4.551310</td>\n",
       "      <td>0.503011</td>\n",
       "      <td>-0.332187</td>\n",
       "      <td>8.955659</td>\n",
       "      <td>A2</td>\n",
       "      <td>B4</td>\n",
       "      <td>C48</td>\n",
       "      <td>D2</td>\n",
       "      <td>-5.785166</td>\n",
       "    </tr>\n",
       "    <tr>\n",
       "      <th>9996</th>\n",
       "      <td>-3.341972</td>\n",
       "      <td>-0.603921</td>\n",
       "      <td>2.693938</td>\n",
       "      <td>-0.788320</td>\n",
       "      <td>-0.766215</td>\n",
       "      <td>5.303121</td>\n",
       "      <td>A1</td>\n",
       "      <td>B5</td>\n",
       "      <td>C24</td>\n",
       "      <td>D2</td>\n",
       "      <td>19.692702</td>\n",
       "    </tr>\n",
       "    <tr>\n",
       "      <th>9997</th>\n",
       "      <td>-0.409354</td>\n",
       "      <td>0.337466</td>\n",
       "      <td>3.140098</td>\n",
       "      <td>-1.672133</td>\n",
       "      <td>-0.235241</td>\n",
       "      <td>5.997826</td>\n",
       "      <td>A1</td>\n",
       "      <td>B1</td>\n",
       "      <td>C32</td>\n",
       "      <td>D3</td>\n",
       "      <td>-0.011697</td>\n",
       "    </tr>\n",
       "    <tr>\n",
       "      <th>9998</th>\n",
       "      <td>-2.129938</td>\n",
       "      <td>-0.588379</td>\n",
       "      <td>3.735092</td>\n",
       "      <td>-0.368141</td>\n",
       "      <td>1.876631</td>\n",
       "      <td>7.281910</td>\n",
       "      <td>A2</td>\n",
       "      <td>B1</td>\n",
       "      <td>C16</td>\n",
       "      <td>D3</td>\n",
       "      <td>-17.691367</td>\n",
       "    </tr>\n",
       "    <tr>\n",
       "      <th>9999</th>\n",
       "      <td>1.453831</td>\n",
       "      <td>0.816154</td>\n",
       "      <td>2.819129</td>\n",
       "      <td>0.995390</td>\n",
       "      <td>0.413975</td>\n",
       "      <td>5.655734</td>\n",
       "      <td>A1</td>\n",
       "      <td>B3</td>\n",
       "      <td>C2</td>\n",
       "      <td>D1</td>\n",
       "      <td>-1.421560</td>\n",
       "    </tr>\n",
       "  </tbody>\n",
       "</table>\n",
       "<p>10000 rows × 11 columns</p>\n",
       "</div>"
      ],
      "text/plain": [
       "            x1        x2        x3        x4        x5        x6  x7  x8   x9  \\\n",
       "0     0.611402  0.720283  3.165168  0.372100 -0.360194  6.417779  A2  B3  C16   \n",
       "1    -0.463374 -0.908280  3.046919  0.866590  0.949304  6.142320  A1  B2   C6   \n",
       "2    -0.004264 -2.710478  3.629876  0.587660 -0.413790  7.196720  A2  B1  C10   \n",
       "3     0.310406 -0.511657  3.269785  3.036609 -0.430169  6.363889  A2  B5  C33   \n",
       "4    -2.537362  0.594968  1.731083  0.616347  1.753629  3.273066  A1  B1   C6   \n",
       "...        ...       ...       ...       ...       ...       ...  ..  ..  ...   \n",
       "9995  0.786519 -0.053336  4.551310  0.503011 -0.332187  8.955659  A2  B4  C48   \n",
       "9996 -3.341972 -0.603921  2.693938 -0.788320 -0.766215  5.303121  A1  B5  C24   \n",
       "9997 -0.409354  0.337466  3.140098 -1.672133 -0.235241  5.997826  A1  B1  C32   \n",
       "9998 -2.129938 -0.588379  3.735092 -0.368141  1.876631  7.281910  A2  B1  C16   \n",
       "9999  1.453831  0.816154  2.819129  0.995390  0.413975  5.655734  A1  B3   C2   \n",
       "\n",
       "     x10          y  \n",
       "0     D1 -16.680112  \n",
       "1     D3  -0.347247  \n",
       "2     D3 -13.192616  \n",
       "3     D2   0.764504  \n",
       "4     D3   1.757865  \n",
       "...   ..        ...  \n",
       "9995  D2  -5.785166  \n",
       "9996  D2  19.692702  \n",
       "9997  D3  -0.011697  \n",
       "9998  D3 -17.691367  \n",
       "9999  D1  -1.421560  \n",
       "\n",
       "[10000 rows x 11 columns]"
      ]
     },
     "execution_count": 3,
     "metadata": {},
     "output_type": "execute_result"
    }
   ],
   "source": [
    "# Inspect\n",
    "df10"
   ]
  },
  {
   "cell_type": "markdown",
   "metadata": {},
   "source": [
    "# First attempt\n",
    "\n",
    "- Ignore x9\n",
    "- 60/20/20 train/test/holdout [6k/2k/2k rows]\n",
    "- Within train, 6-fold cross-validation to optimize hyperparameters:\n",
    "    - `max_depth` = 2-8\n",
    "    - `max_features` = 'auto', 'sqrt', 'log2'\n",
    "    - `subsample` = 0.5, 0.67, 0.75\n",
    "    - Static parameters\n",
    "        - `n_estimators` = 1k\n",
    "        - `validation_fraction` = 0.2\n",
    "        - `n_iter_no_change` = 1\n",
    "        - `tol` = 1e-4\n",
    "        \n",
    "Also, will not include x3 and x6 because they were not found to have much relationship with y."
   ]
  },
  {
   "cell_type": "code",
   "execution_count": 4,
   "metadata": {},
   "outputs": [],
   "source": [
    "# Train/test/holdout vars\n",
    "p_train = 0.6\n",
    "p_test = 0.2\n",
    "p_test_relative = p_test / (p_train + p_test)\n",
    "p_holdout = 0.2\n",
    "k_folds = 6\n",
    "\n",
    "# Static hyperparameters\n",
    "s_n_estimators = 1000\n",
    "s_validation_fraction = 0.2\n",
    "s_n_iter_no_change = 1\n",
    "s_tol = 1e-4\n",
    "\n",
    "# Lists of hyperparameters to optimize\n",
    "l_max_depth = [2, 3, 4, 5, 6, 7, 8]\n",
    "l_max_features = ['auto', 'sqrt', 'log2']\n",
    "l_subsample = [0.5, 0.67, 0.75]"
   ]
  },
  {
   "cell_type": "code",
   "execution_count": 5,
   "metadata": {},
   "outputs": [
    {
     "name": "stdout",
     "output_type": "stream",
     "text": [
      "\n",
      "Train: (6000, 16)\n",
      "Test: (2000, 16)\n",
      "Holdout: (2000, 16)\n",
      "\n"
     ]
    }
   ],
   "source": [
    "# Add some x2 predictors\n",
    "df10['x2_abs'] = abs(df10['x2'])\n",
    "df10['x2_sign'] = np.sign(df10['x2'])\n",
    "\n",
    "# Create X/y\n",
    "predictors_1 = ['x1', 'x2', 'x2_abs', 'x2_sign', 'x4', 'x5', 'x7', 'x8', 'x10']\n",
    "X, y = pd.get_dummies(df10[predictors_1], prefix=['x7', 'x8', 'x10']), df10['y']\n",
    "\n",
    "# Split train/test/holdout\n",
    "X_train, X_holdout, y_train, y_holdout = train_test_split(X, y, test_size=p_holdout, random_state=1)\n",
    "X_train, X_test, y_train, y_test = train_test_split(X_train, y_train, test_size=p_test_relative, random_state=2)\n",
    "\n",
    "# Check counts\n",
    "print(f'''\n",
    "Train: {X_train.shape}\n",
    "Test: {X_test.shape}\n",
    "Holdout: {X_holdout.shape}\n",
    "''')"
   ]
  },
  {
   "cell_type": "code",
   "execution_count": 6,
   "metadata": {},
   "outputs": [],
   "source": [
    "# Set random seed for everything that follows\n",
    "np.random.seed(666)"
   ]
  },
  {
   "cell_type": "code",
   "execution_count": 7,
   "metadata": {},
   "outputs": [
    {
     "data": {
      "text/plain": [
       "63"
      ]
     },
     "execution_count": 7,
     "metadata": {},
     "output_type": "execute_result"
    }
   ],
   "source": [
    "# How many iterations of cross-validation?\n",
    "hp_sets = list(product(l_max_depth, l_max_features, l_subsample))\n",
    "\n",
    "len(hp_sets)"
   ]
  },
  {
   "cell_type": "code",
   "execution_count": 8,
   "metadata": {},
   "outputs": [
    {
     "name": "stdout",
     "output_type": "stream",
     "text": [
      "Fitting max_depth=2, max_features=auto, subsample=0.5\n",
      "Fitting max_depth=2, max_features=auto, subsample=0.67\n",
      "Fitting max_depth=2, max_features=auto, subsample=0.75\n",
      "Fitting max_depth=2, max_features=sqrt, subsample=0.5\n",
      "Fitting max_depth=2, max_features=sqrt, subsample=0.67\n",
      "Fitting max_depth=2, max_features=sqrt, subsample=0.75\n",
      "Fitting max_depth=2, max_features=log2, subsample=0.5\n",
      "Fitting max_depth=2, max_features=log2, subsample=0.67\n",
      "Fitting max_depth=2, max_features=log2, subsample=0.75\n",
      "Fitting max_depth=3, max_features=auto, subsample=0.5\n",
      "Fitting max_depth=3, max_features=auto, subsample=0.67\n",
      "Fitting max_depth=3, max_features=auto, subsample=0.75\n",
      "Fitting max_depth=3, max_features=sqrt, subsample=0.5\n",
      "Fitting max_depth=3, max_features=sqrt, subsample=0.67\n",
      "Fitting max_depth=3, max_features=sqrt, subsample=0.75\n",
      "Fitting max_depth=3, max_features=log2, subsample=0.5\n",
      "Fitting max_depth=3, max_features=log2, subsample=0.67\n",
      "Fitting max_depth=3, max_features=log2, subsample=0.75\n",
      "Fitting max_depth=4, max_features=auto, subsample=0.5\n",
      "Fitting max_depth=4, max_features=auto, subsample=0.67\n",
      "Fitting max_depth=4, max_features=auto, subsample=0.75\n",
      "Fitting max_depth=4, max_features=sqrt, subsample=0.5\n",
      "Fitting max_depth=4, max_features=sqrt, subsample=0.67\n",
      "Fitting max_depth=4, max_features=sqrt, subsample=0.75\n",
      "Fitting max_depth=4, max_features=log2, subsample=0.5\n",
      "Fitting max_depth=4, max_features=log2, subsample=0.67\n",
      "Fitting max_depth=4, max_features=log2, subsample=0.75\n",
      "Fitting max_depth=5, max_features=auto, subsample=0.5\n",
      "Fitting max_depth=5, max_features=auto, subsample=0.67\n",
      "Fitting max_depth=5, max_features=auto, subsample=0.75\n",
      "Fitting max_depth=5, max_features=sqrt, subsample=0.5\n",
      "Fitting max_depth=5, max_features=sqrt, subsample=0.67\n",
      "Fitting max_depth=5, max_features=sqrt, subsample=0.75\n",
      "Fitting max_depth=5, max_features=log2, subsample=0.5\n",
      "Fitting max_depth=5, max_features=log2, subsample=0.67\n",
      "Fitting max_depth=5, max_features=log2, subsample=0.75\n",
      "Fitting max_depth=6, max_features=auto, subsample=0.5\n",
      "Fitting max_depth=6, max_features=auto, subsample=0.67\n",
      "Fitting max_depth=6, max_features=auto, subsample=0.75\n",
      "Fitting max_depth=6, max_features=sqrt, subsample=0.5\n",
      "Fitting max_depth=6, max_features=sqrt, subsample=0.67\n",
      "Fitting max_depth=6, max_features=sqrt, subsample=0.75\n",
      "Fitting max_depth=6, max_features=log2, subsample=0.5\n",
      "Fitting max_depth=6, max_features=log2, subsample=0.67\n",
      "Fitting max_depth=6, max_features=log2, subsample=0.75\n",
      "Fitting max_depth=7, max_features=auto, subsample=0.5\n",
      "Fitting max_depth=7, max_features=auto, subsample=0.67\n",
      "Fitting max_depth=7, max_features=auto, subsample=0.75\n",
      "Fitting max_depth=7, max_features=sqrt, subsample=0.5\n",
      "Fitting max_depth=7, max_features=sqrt, subsample=0.67\n",
      "Fitting max_depth=7, max_features=sqrt, subsample=0.75\n",
      "Fitting max_depth=7, max_features=log2, subsample=0.5\n",
      "Fitting max_depth=7, max_features=log2, subsample=0.67\n",
      "Fitting max_depth=7, max_features=log2, subsample=0.75\n",
      "Fitting max_depth=8, max_features=auto, subsample=0.5\n",
      "Fitting max_depth=8, max_features=auto, subsample=0.67\n",
      "Fitting max_depth=8, max_features=auto, subsample=0.75\n",
      "Fitting max_depth=8, max_features=sqrt, subsample=0.5\n",
      "Fitting max_depth=8, max_features=sqrt, subsample=0.67\n",
      "Fitting max_depth=8, max_features=sqrt, subsample=0.75\n",
      "Fitting max_depth=8, max_features=log2, subsample=0.5\n",
      "Fitting max_depth=8, max_features=log2, subsample=0.67\n",
      "Fitting max_depth=8, max_features=log2, subsample=0.75\n"
     ]
    }
   ],
   "source": [
    "scores_1 = []\n",
    "for md, mf, ss in hp_sets:\n",
    "    # Print status\n",
    "    print(f'Fitting max_depth={md}, max_features={mf}, subsample={ss}')\n",
    "    \n",
    "    # Initialize gbm\n",
    "    gbm = GradientBoostingRegressor(\n",
    "        # Static hyperparameters\n",
    "        n_estimators = s_n_estimators,\n",
    "        validation_fraction = s_validation_fraction,\n",
    "        n_iter_no_change = s_n_iter_no_change,\n",
    "        tol = s_tol,\n",
    "        # Dynamic hyperparameters\n",
    "        max_depth = md,\n",
    "        max_features = mf,\n",
    "        subsample = ss,\n",
    "    )\n",
    "\n",
    "    # Get scores\n",
    "    cv_score = cross_val_score(\n",
    "        gbm,\n",
    "        X_train,\n",
    "        y_train,\n",
    "        cv = k_folds,\n",
    "        scoring = 'neg_mean_squared_error',\n",
    "    ) \n",
    "\n",
    "    # Save the score means and standard deviations\n",
    "    for i, k in enumerate(cv_score):\n",
    "        scores_1 += [((md, mf, ss), i, k, np.mean(cv_score))]\n",
    "    \n",
    "    del gbm, cv_score"
   ]
  },
  {
   "cell_type": "code",
   "execution_count": 9,
   "metadata": {},
   "outputs": [
    {
     "data": {
      "text/html": [
       "<div>\n",
       "<style scoped>\n",
       "    .dataframe tbody tr th:only-of-type {\n",
       "        vertical-align: middle;\n",
       "    }\n",
       "\n",
       "    .dataframe tbody tr th {\n",
       "        vertical-align: top;\n",
       "    }\n",
       "\n",
       "    .dataframe thead th {\n",
       "        text-align: right;\n",
       "    }\n",
       "</style>\n",
       "<table border=\"1\" class=\"dataframe\">\n",
       "  <thead>\n",
       "    <tr style=\"text-align: right;\">\n",
       "      <th></th>\n",
       "      <th>index</th>\n",
       "      <th>hp</th>\n",
       "      <th>k</th>\n",
       "      <th>score_k</th>\n",
       "      <th>score_hp_mean</th>\n",
       "    </tr>\n",
       "  </thead>\n",
       "  <tbody>\n",
       "    <tr>\n",
       "      <th>0</th>\n",
       "      <td>54</td>\n",
       "      <td>(3, auto, 0.5)</td>\n",
       "      <td>0</td>\n",
       "      <td>-58.767970</td>\n",
       "      <td>-61.442002</td>\n",
       "    </tr>\n",
       "    <tr>\n",
       "      <th>1</th>\n",
       "      <td>55</td>\n",
       "      <td>(3, auto, 0.5)</td>\n",
       "      <td>1</td>\n",
       "      <td>-60.447642</td>\n",
       "      <td>-61.442002</td>\n",
       "    </tr>\n",
       "    <tr>\n",
       "      <th>2</th>\n",
       "      <td>56</td>\n",
       "      <td>(3, auto, 0.5)</td>\n",
       "      <td>2</td>\n",
       "      <td>-62.722003</td>\n",
       "      <td>-61.442002</td>\n",
       "    </tr>\n",
       "    <tr>\n",
       "      <th>3</th>\n",
       "      <td>57</td>\n",
       "      <td>(3, auto, 0.5)</td>\n",
       "      <td>3</td>\n",
       "      <td>-59.750933</td>\n",
       "      <td>-61.442002</td>\n",
       "    </tr>\n",
       "    <tr>\n",
       "      <th>4</th>\n",
       "      <td>58</td>\n",
       "      <td>(3, auto, 0.5)</td>\n",
       "      <td>4</td>\n",
       "      <td>-64.310454</td>\n",
       "      <td>-61.442002</td>\n",
       "    </tr>\n",
       "    <tr>\n",
       "      <th>5</th>\n",
       "      <td>59</td>\n",
       "      <td>(3, auto, 0.5)</td>\n",
       "      <td>5</td>\n",
       "      <td>-62.653007</td>\n",
       "      <td>-61.442002</td>\n",
       "    </tr>\n",
       "    <tr>\n",
       "      <th>6</th>\n",
       "      <td>120</td>\n",
       "      <td>(4, auto, 0.75)</td>\n",
       "      <td>0</td>\n",
       "      <td>-58.105505</td>\n",
       "      <td>-61.562716</td>\n",
       "    </tr>\n",
       "    <tr>\n",
       "      <th>7</th>\n",
       "      <td>121</td>\n",
       "      <td>(4, auto, 0.75)</td>\n",
       "      <td>1</td>\n",
       "      <td>-59.772739</td>\n",
       "      <td>-61.562716</td>\n",
       "    </tr>\n",
       "    <tr>\n",
       "      <th>8</th>\n",
       "      <td>122</td>\n",
       "      <td>(4, auto, 0.75)</td>\n",
       "      <td>2</td>\n",
       "      <td>-63.162058</td>\n",
       "      <td>-61.562716</td>\n",
       "    </tr>\n",
       "    <tr>\n",
       "      <th>9</th>\n",
       "      <td>123</td>\n",
       "      <td>(4, auto, 0.75)</td>\n",
       "      <td>3</td>\n",
       "      <td>-58.412828</td>\n",
       "      <td>-61.562716</td>\n",
       "    </tr>\n",
       "    <tr>\n",
       "      <th>10</th>\n",
       "      <td>124</td>\n",
       "      <td>(4, auto, 0.75)</td>\n",
       "      <td>4</td>\n",
       "      <td>-63.810895</td>\n",
       "      <td>-61.562716</td>\n",
       "    </tr>\n",
       "    <tr>\n",
       "      <th>11</th>\n",
       "      <td>125</td>\n",
       "      <td>(4, auto, 0.75)</td>\n",
       "      <td>5</td>\n",
       "      <td>-66.112274</td>\n",
       "      <td>-61.562716</td>\n",
       "    </tr>\n",
       "    <tr>\n",
       "      <th>12</th>\n",
       "      <td>114</td>\n",
       "      <td>(4, auto, 0.67)</td>\n",
       "      <td>0</td>\n",
       "      <td>-57.575113</td>\n",
       "      <td>-61.575908</td>\n",
       "    </tr>\n",
       "    <tr>\n",
       "      <th>13</th>\n",
       "      <td>115</td>\n",
       "      <td>(4, auto, 0.67)</td>\n",
       "      <td>1</td>\n",
       "      <td>-60.604635</td>\n",
       "      <td>-61.575908</td>\n",
       "    </tr>\n",
       "    <tr>\n",
       "      <th>14</th>\n",
       "      <td>116</td>\n",
       "      <td>(4, auto, 0.67)</td>\n",
       "      <td>2</td>\n",
       "      <td>-62.711767</td>\n",
       "      <td>-61.575908</td>\n",
       "    </tr>\n",
       "    <tr>\n",
       "      <th>15</th>\n",
       "      <td>117</td>\n",
       "      <td>(4, auto, 0.67)</td>\n",
       "      <td>3</td>\n",
       "      <td>-58.795019</td>\n",
       "      <td>-61.575908</td>\n",
       "    </tr>\n",
       "    <tr>\n",
       "      <th>16</th>\n",
       "      <td>118</td>\n",
       "      <td>(4, auto, 0.67)</td>\n",
       "      <td>4</td>\n",
       "      <td>-66.281132</td>\n",
       "      <td>-61.575908</td>\n",
       "    </tr>\n",
       "    <tr>\n",
       "      <th>17</th>\n",
       "      <td>119</td>\n",
       "      <td>(4, auto, 0.67)</td>\n",
       "      <td>5</td>\n",
       "      <td>-63.487784</td>\n",
       "      <td>-61.575908</td>\n",
       "    </tr>\n",
       "    <tr>\n",
       "      <th>18</th>\n",
       "      <td>12</td>\n",
       "      <td>(2, auto, 0.75)</td>\n",
       "      <td>0</td>\n",
       "      <td>-58.003074</td>\n",
       "      <td>-61.600365</td>\n",
       "    </tr>\n",
       "    <tr>\n",
       "      <th>19</th>\n",
       "      <td>13</td>\n",
       "      <td>(2, auto, 0.75)</td>\n",
       "      <td>1</td>\n",
       "      <td>-60.250849</td>\n",
       "      <td>-61.600365</td>\n",
       "    </tr>\n",
       "  </tbody>\n",
       "</table>\n",
       "</div>"
      ],
      "text/plain": [
       "    index               hp  k    score_k  score_hp_mean\n",
       "0      54   (3, auto, 0.5)  0 -58.767970     -61.442002\n",
       "1      55   (3, auto, 0.5)  1 -60.447642     -61.442002\n",
       "2      56   (3, auto, 0.5)  2 -62.722003     -61.442002\n",
       "3      57   (3, auto, 0.5)  3 -59.750933     -61.442002\n",
       "4      58   (3, auto, 0.5)  4 -64.310454     -61.442002\n",
       "5      59   (3, auto, 0.5)  5 -62.653007     -61.442002\n",
       "6     120  (4, auto, 0.75)  0 -58.105505     -61.562716\n",
       "7     121  (4, auto, 0.75)  1 -59.772739     -61.562716\n",
       "8     122  (4, auto, 0.75)  2 -63.162058     -61.562716\n",
       "9     123  (4, auto, 0.75)  3 -58.412828     -61.562716\n",
       "10    124  (4, auto, 0.75)  4 -63.810895     -61.562716\n",
       "11    125  (4, auto, 0.75)  5 -66.112274     -61.562716\n",
       "12    114  (4, auto, 0.67)  0 -57.575113     -61.575908\n",
       "13    115  (4, auto, 0.67)  1 -60.604635     -61.575908\n",
       "14    116  (4, auto, 0.67)  2 -62.711767     -61.575908\n",
       "15    117  (4, auto, 0.67)  3 -58.795019     -61.575908\n",
       "16    118  (4, auto, 0.67)  4 -66.281132     -61.575908\n",
       "17    119  (4, auto, 0.67)  5 -63.487784     -61.575908\n",
       "18     12  (2, auto, 0.75)  0 -58.003074     -61.600365\n",
       "19     13  (2, auto, 0.75)  1 -60.250849     -61.600365"
      ]
     },
     "execution_count": 9,
     "metadata": {},
     "output_type": "execute_result"
    }
   ],
   "source": [
    "# Save results as a dataframe\n",
    "scores_1_df = pd.DataFrame(\n",
    "    scores_1,\n",
    "    columns = ['hp', 'k', 'score_k', 'score_hp_mean']\n",
    ")\n",
    "\n",
    "# Order by score_hp_mean and k\n",
    "scores_1_df = scores_1_df.sort_values(['score_hp_mean', 'k'], ascending=[False, True]).reset_index()\n",
    "\n",
    "scores_1_df.head(20)"
   ]
  },
  {
   "cell_type": "code",
   "execution_count": 10,
   "metadata": {},
   "outputs": [
    {
     "data": {
      "text/plain": [
       "<matplotlib.axes._subplots.AxesSubplot at 0xbdaeb20>"
      ]
     },
     "execution_count": 10,
     "metadata": {},
     "output_type": "execute_result"
    },
    {
     "data": {
      "image/png": "[encoded data removed]",
      "text/plain": [
       "<Figure size 720x360 with 1 Axes>"
      ]
     },
     "metadata": {
      "needs_background": "light"
     },
     "output_type": "display_data"
    }
   ],
   "source": [
    "# Boxplot of performance for each parameter set\n",
    "plt.figure(figsize=(10, 5))\n",
    "sb.boxplot(\n",
    "    data = scores_1_df,\n",
    "    x = 'hp',\n",
    "    y = 'score_k',\n",
    ")"
   ]
  },
  {
   "cell_type": "code",
   "execution_count": 11,
   "metadata": {},
   "outputs": [
    {
     "data": {
      "text/plain": [
       "array([(3, 'auto', 0.5), (4, 'auto', 0.75), (4, 'auto', 0.67),\n",
       "       (2, 'auto', 0.75), (4, 'auto', 0.5), (3, 'auto', 0.67),\n",
       "       (3, 'auto', 0.75), (2, 'auto', 0.67), (4, 'log2', 0.5),\n",
       "       (2, 'auto', 0.5), (3, 'sqrt', 0.75), (5, 'sqrt', 0.75),\n",
       "       (6, 'auto', 0.5), (5, 'auto', 0.75), (6, 'auto', 0.75),\n",
       "       (5, 'auto', 0.5), (5, 'log2', 0.67), (6, 'auto', 0.67),\n",
       "       (4, 'log2', 0.67), (4, 'log2', 0.75), (3, 'log2', 0.67),\n",
       "       (4, 'sqrt', 0.67), (5, 'log2', 0.5), (3, 'sqrt', 0.5),\n",
       "       (6, 'log2', 0.5), (3, 'log2', 0.5), (4, 'sqrt', 0.75),\n",
       "       (7, 'auto', 0.5), (3, 'sqrt', 0.67), (4, 'sqrt', 0.5),\n",
       "       (7, 'auto', 0.75), (6, 'sqrt', 0.5), (5, 'sqrt', 0.67),\n",
       "       (5, 'log2', 0.75), (6, 'log2', 0.67), (3, 'log2', 0.75),\n",
       "       (5, 'auto', 0.67), (8, 'auto', 0.5), (6, 'sqrt', 0.67),\n",
       "       (2, 'log2', 0.67), (7, 'auto', 0.67), (6, 'log2', 0.75),\n",
       "       (6, 'sqrt', 0.75), (7, 'log2', 0.67), (8, 'auto', 0.67),\n",
       "       (7, 'sqrt', 0.67), (5, 'sqrt', 0.5), (8, 'auto', 0.75),\n",
       "       (7, 'log2', 0.75), (7, 'sqrt', 0.5), (2, 'sqrt', 0.75),\n",
       "       (7, 'log2', 0.5), (8, 'log2', 0.75), (2, 'log2', 0.75),\n",
       "       (7, 'sqrt', 0.75), (8, 'sqrt', 0.67), (8, 'log2', 0.67),\n",
       "       (8, 'sqrt', 0.5), (8, 'sqrt', 0.75), (8, 'log2', 0.5),\n",
       "       (2, 'sqrt', 0.67), (2, 'sqrt', 0.5), (2, 'log2', 0.5)],\n",
       "      dtype=object)"
      ]
     },
     "execution_count": 11,
     "metadata": {},
     "output_type": "execute_result"
    }
   ],
   "source": [
    "# Hyperparameter sets in order\n",
    "scores_1_df.hp.unique()"
   ]
  },
  {
   "cell_type": "markdown",
   "metadata": {},
   "source": [
    "Quite a few of the unique combinations at the beginning are very similar and have rather similar distributional behavior in the boxplot.  In absense of a clear winner, let's proceed with the following parameter sets to provide some variety in models that may fit well on the test set.\n",
    "\n",
    "- (3, 'auto', 0.5)  # Best overall performance\n",
    "- (4, 'auto', 0.75)  # Best 4 depth performance\n",
    "- (2, 'auto', 0.75)  # Best 2 depth performance\n",
    "- (6, 'auto', 0.5)  # Best 6 depth performance\n",
    "- (4, 'log2', 0.5)  # Best log2 performance\n",
    "- (3, 'sqrt', 0.75)  # Best sqrt performance"
   ]
  },
  {
   "cell_type": "code",
   "execution_count": 12,
   "metadata": {},
   "outputs": [
    {
     "name": "stdout",
     "output_type": "stream",
     "text": [
      "Fitting (3, 'auto', 0.5)\n",
      "      Iter       Train Loss      OOB Improve   Remaining Time \n",
      "         1         193.8273          23.6282            5.99s\n",
      "         2         174.5759          18.0584            5.49s\n",
      "         3         154.7038          15.9782            5.32s\n",
      "         4         142.3474          13.2838            5.23s\n",
      "         5         121.6135          10.8358            5.17s\n",
      "         6         121.0939           7.9826            4.97s\n",
      "         7         110.6244           7.1636            4.97s\n",
      "         8         110.5274           5.8996            4.96s\n",
      "         9         100.7621           4.8021            4.85s\n",
      "        10          99.4296           4.2763            4.85s\n",
      "        20          75.4519           0.9234            4.61s\n",
      "        30          64.8321           0.6094            4.53s\n",
      "        40          62.8841           0.2072            5.83s\n",
      "        50          58.0436           0.0773            5.49s\n",
      "        60          55.8973           0.0633            5.23s\n",
      "        70          55.7681          -0.0111            5.04s\n",
      "Fitting (4, 'auto', 0.75)\n",
      "      Iter       Train Loss      OOB Improve   Remaining Time \n",
      "         1         185.6969          25.5068            7.99s\n",
      "         2         166.4922          19.4346            8.48s\n",
      "         3         150.1074          16.1708            8.31s\n",
      "         4         133.6461          14.0247            8.22s\n",
      "         5         123.6269          11.0921            8.16s\n",
      "         6         112.4532           8.9289            8.12s\n",
      "         7         106.3740           7.2944            8.09s\n",
      "         8          99.3531           6.2867            8.06s\n",
      "         9          94.9306           4.9545            8.04s\n",
      "        10          90.7811           3.8972            8.02s\n",
      "        20          67.8981           1.1872            7.74s\n",
      "        30          59.1131           0.5061            7.73s\n",
      "        40          53.7641           0.1257            7.70s\n",
      "Fitting (2, 'auto', 0.75)\n",
      "      Iter       Train Loss      OOB Improve   Remaining Time \n",
      "         1         187.6701          20.6064            4.00s\n",
      "         2         174.1911          15.3910            4.49s\n",
      "         3         157.4408          14.0228            4.65s\n",
      "         4         144.7719          11.5104            4.73s\n",
      "         5         138.2072           8.7218            4.78s\n",
      "         6         126.8873           8.0854            4.80s\n",
      "         7         119.1676           6.6012            4.82s\n",
      "         8         115.9044           5.2441            4.84s\n",
      "         9         109.3852           4.4852            4.85s\n",
      "        10         107.4888           3.8996            4.85s\n",
      "        20          87.3436           1.1056            4.66s\n",
      "        30          77.1095           0.6107            4.56s\n",
      "        40          70.0967           0.2770            4.46s\n",
      "        50          66.7236           0.3011            4.43s\n",
      "        60          62.5899           0.0874            4.37s\n",
      "        70          60.4125           0.1270            4.33s\n",
      "        80          58.7294           0.0083            4.28s\n",
      "Fitting (6, 'auto', 0.5)\n",
      "      Iter       Train Loss      OOB Improve   Remaining Time \n",
      "         1         182.9802          24.9661            7.99s\n",
      "         2         162.3413          20.6288            7.98s\n",
      "         3         145.3167          16.3776            7.98s\n",
      "         4         131.3888          13.6916            7.72s\n",
      "         5         118.2427          11.0396            7.76s\n",
      "         6         104.7423           9.5221            7.79s\n",
      "         7          93.3714           7.8905            7.66s\n",
      "         8          93.6922           6.0220            7.69s\n",
      "         9          82.6311           5.2609            7.60s\n",
      "        10          78.8754           3.7725            7.62s\n",
      "        20          55.9842           0.5951            7.45s\n",
      "        30          49.0071           0.0233            7.40s\n",
      "Fitting (4, 'log2', 0.5)\n",
      "      Iter       Train Loss      OOB Improve   Remaining Time \n",
      "         1         186.2640          20.5690            3.00s\n",
      "         2         170.6345          19.8997            2.99s\n",
      "         3         150.3519          15.1584            2.66s\n",
      "         4         142.7767          12.2659            2.49s\n",
      "         5         136.9708           9.5332            2.59s\n",
      "         6         117.3669           8.0533            2.49s\n",
      "         7         117.3585           8.6163            2.55s\n",
      "         8         110.1682           6.0543            2.48s\n",
      "         9         100.4475           4.7474            2.42s\n",
      "        10          98.7073           4.5420            2.48s\n",
      "        20          77.2040           1.1939            2.35s\n",
      "        30          66.2033           0.4962            2.26s\n",
      "        40          61.0702           0.1425            2.26s\n",
      "        50          60.0553           0.0429            2.22s\n",
      "        60          54.4654           0.0213            2.21s\n",
      "Fitting (3, 'sqrt', 0.75)\n",
      "      Iter       Train Loss      OOB Improve   Remaining Time \n",
      "         1         186.4889          20.7068            2.00s\n",
      "         2         171.5930          15.5832            2.99s\n",
      "         3         156.8468          15.7317            2.99s\n",
      "         4         147.6950           9.2553            2.99s\n",
      "         5         133.1542          10.8162            2.99s\n",
      "         6         127.5772           6.3956            2.98s\n",
      "         7         117.0035           9.1791            2.98s\n",
      "         8         112.5296           6.1684            2.85s\n",
      "         9         107.4800           5.2277            2.86s\n",
      "        10         103.7930           2.5769            2.77s\n",
      "        20          79.7434           1.1117            2.50s\n",
      "        30          70.2227           0.7664            2.43s\n",
      "        40          65.8674           0.1126            2.38s\n",
      "        50          59.8309           0.2861            2.38s\n",
      "        60          57.8200           0.1493            2.38s\n",
      "        70          56.7043           0.0486            2.35s\n",
      "        80          55.4858          -0.0345            2.30s\n"
     ]
    }
   ],
   "source": [
    "# Fit new models on whole training data set\n",
    "best_hp_sets = [\n",
    "    (3, 'auto', 0.5),\n",
    "    (4, 'auto', 0.75),\n",
    "    (2, 'auto', 0.75),\n",
    "    (6, 'auto', 0.5),\n",
    "    (4, 'log2', 0.5),\n",
    "    (3, 'sqrt', 0.75),\n",
    "]\n",
    "models_train_1 = {}\n",
    "\n",
    "for hp in best_hp_sets:\n",
    "    print(f'Fitting {hp}')\n",
    "    \n",
    "    # Fit gbm\n",
    "    gbm = GradientBoostingRegressor(\n",
    "        # Static hyperparameters\n",
    "        n_estimators = s_n_estimators,\n",
    "        validation_fraction = s_validation_fraction,\n",
    "        n_iter_no_change = s_n_iter_no_change,\n",
    "        tol = s_tol,\n",
    "        # Dynamic hyperparameters\n",
    "        max_depth = hp[0],\n",
    "        max_features = hp[1],\n",
    "        subsample = hp[2],\n",
    "        # Print status\n",
    "        verbose = 1\n",
    "    ).fit(X_train, y_train)\n",
    "    \n",
    "    # Save predictions\n",
    "    models_train_1[hp] = {\n",
    "        'model': gbm,\n",
    "        'train_err': y_train - gbm.predict(X_train),\n",
    "        'test_err': y_test - gbm.predict(X_test)\n",
    "    }\n",
    "    \n",
    "    del gbm"
   ]
  },
  {
   "cell_type": "code",
   "execution_count": 13,
   "metadata": {},
   "outputs": [
    {
     "data": {
      "text/plain": [
       "{'model': GradientBoostingRegressor(alpha=0.9, ccp_alpha=0.0, criterion='friedman_mse',\n",
       "                           init=None, learning_rate=0.1, loss='ls', max_depth=3,\n",
       "                           max_features='auto', max_leaf_nodes=None,\n",
       "                           min_impurity_decrease=0.0, min_impurity_split=None,\n",
       "                           min_samples_leaf=1, min_samples_split=2,\n",
       "                           min_weight_fraction_leaf=0.0, n_estimators=1000,\n",
       "                           n_iter_no_change=1, presort='deprecated',\n",
       "                           random_state=None, subsample=0.5, tol=0.0001,\n",
       "                           validation_fraction=0.2, verbose=1, warm_start=False),\n",
       " 'train_err': 7820     9.672609\n",
       " 5815     9.543877\n",
       " 7309     1.267136\n",
       " 7163     8.463699\n",
       " 2674     3.448749\n",
       "           ...    \n",
       " 9907     3.579428\n",
       " 485     10.282737\n",
       " 264     -3.273636\n",
       " 8577     9.489622\n",
       " 6415    -6.455033\n",
       " Name: y, Length: 6000, dtype: float64,\n",
       " 'test_err': 369      3.297786\n",
       " 2608     7.890276\n",
       " 2832     0.917351\n",
       " 488     -4.010031\n",
       " 7536   -11.315114\n",
       "           ...    \n",
       " 7913    -0.906215\n",
       " 2189     1.021750\n",
       " 3580    12.853274\n",
       " 8165    -8.532202\n",
       " 7788    -2.289720\n",
       " Name: y, Length: 2000, dtype: float64}"
      ]
     },
     "execution_count": 13,
     "metadata": {},
     "output_type": "execute_result"
    }
   ],
   "source": [
    "# Inspect one model\n",
    "models_train_1[best_hp_sets[0]]"
   ]
  },
  {
   "cell_type": "code",
   "execution_count": 14,
   "metadata": {},
   "outputs": [
    {
     "name": "stdout",
     "output_type": "stream",
     "text": [
      "(3, 'auto', 0.5)\n",
      "    Train error: 55.85550998414562\n",
      "    Test error: 61.00050293780984\n",
      "    \n",
      "(4, 'auto', 0.75)\n",
      "    Train error: 54.67761893971596\n",
      "    Test error: 61.89817815684133\n",
      "    \n",
      "(2, 'auto', 0.75)\n",
      "    Train error: 59.10038609290541\n",
      "    Test error: 61.51941030646799\n",
      "    \n",
      "(6, 'auto', 0.5)\n",
      "    Train error: 49.89897269536989\n",
      "    Test error: 63.25383654655704\n",
      "    \n",
      "(4, 'log2', 0.5)\n",
      "    Train error: 55.86745600893135\n",
      "    Test error: 63.82775123164213\n",
      "    \n",
      "(3, 'sqrt', 0.75)\n",
      "    Train error: 57.54332592430789\n",
      "    Test error: 62.68087445771355\n",
      "    \n"
     ]
    }
   ],
   "source": [
    "# Compare average mean squared errors\n",
    "def amse(err):\n",
    "    return (err ** 2).sum() / len(err)\n",
    "\n",
    "for hp in best_hp_sets:\n",
    "    print(f'''{hp}\n",
    "    Train error: {amse(models_train_1[hp]['train_err'])}\n",
    "    Test error: {amse(models_train_1[hp]['test_err'])}\n",
    "    ''')"
   ]
  },
  {
   "cell_type": "code",
   "execution_count": 15,
   "metadata": {},
   "outputs": [
    {
     "data": {
      "image/png": "[encoded data removed]",
      "text/plain": [
       "<Figure size 720x360 with 1 Axes>"
      ]
     },
     "metadata": {
      "needs_background": "light"
     },
     "output_type": "display_data"
    }
   ],
   "source": [
    "# Plot error distributions on test data for the better models\n",
    "plt.figure(figsize=(10, 5))\n",
    "plt.axvline(0, color='black')\n",
    "colors = ['blue', 'red', 'purple', 'green']\n",
    "models_to_plot = best_hp_sets[:4]\n",
    "for i, hp in enumerate(models_to_plot):\n",
    "    sb.distplot(models_train_1[hp]['test_err'], hist=False, color=colors[i], label=hp)"
   ]
  },
  {
   "cell_type": "code",
   "execution_count": 16,
   "metadata": {},
   "outputs": [
    {
     "data": {
      "image/png": "[encoded data removed]",
      "text/plain": [
       "<Figure size 720x360 with 1 Axes>"
      ]
     },
     "metadata": {
      "needs_background": "light"
     },
     "output_type": "display_data"
    }
   ],
   "source": [
    "# Learning curves\n",
    "def plot_lc(model):\n",
    "    lc_train = [amse(y_train - x) for x in models_train_1[model]['model'].staged_predict(X_train)]\n",
    "    lc_test = [amse(y_test - x) for x in models_train_1[model]['model'].staged_predict(X_test)]\n",
    "    lc_x = list(range(len(lc_train)))\n",
    "\n",
    "    plt.figure(figsize=(10, 5))\n",
    "    sb.lineplot(x=lc_x, y=lc_train, color='blue', label='Training')\n",
    "    sb.lineplot(x=lc_x, y=lc_test, color='red', label='Test')\n",
    "    plt.xlabel('Number of Trees')\n",
    "    plt.ylabel('AMSE')\n",
    "\n",
    "# \"Best\" model\n",
    "plot_lc(best_hp_sets[0])"
   ]
  },
  {
   "cell_type": "markdown",
   "metadata": {},
   "source": [
    "All of the 'auto' models look similar on the test data but have rather different performance on the training data.\n",
    "\n",
    "We'll gloss over that for now to see how x9 changes things."
   ]
  },
  {
   "cell_type": "markdown",
   "metadata": {},
   "source": [
    "# Now incorporate x9\n",
    "\n",
    "x9 presents a unique problem with cross-validation.\n",
    "\n",
    "Say we wanted to replace x9 with its group average.  If we use the averages over the **whole** training set, we introduce signal leakage in the folds being held out for test predictions (i.e. we're using the target variable in folds we're trying to predict to create predictors).  So if we really wanted to pair that with cross-validation to estimate hyperparameters we need to write custom code to derive that new `x9_group_mean` variable separately for each of the k iterations before fitting.  Which is possible but didn't want to go through that process here.\n",
    "\n",
    "For simplicity, let's say we feel comfortable assuming that we only need to consider our current \"best\" sets of hyperparameters and evaluate using train/test splitting (i.e. use `hp_sets`)."
   ]
  },
  {
   "cell_type": "code",
   "execution_count": 17,
   "metadata": {
    "scrolled": true
   },
   "outputs": [
    {
     "data": {
      "text/plain": [
       "{'C0': -12.550545491454224,\n",
       " 'C1': -9.252183967097219,\n",
       " 'C10': -11.874918948335889,\n",
       " 'C11': -8.63342443235809,\n",
       " 'C12': -3.2905650551499805,\n",
       " 'C13': 2.6235323895338065,\n",
       " 'C14': 6.946319618866108,\n",
       " 'C15': -13.182659212196892,\n",
       " 'C16': -10.152773274469075,\n",
       " 'C17': -3.4395587673656705,\n",
       " 'C18': 3.3170700477142803,\n",
       " 'C19': 7.075608381198373,\n",
       " 'C2': -3.5889660458730774,\n",
       " 'C20': -13.916275105691916,\n",
       " 'C21': -8.31959324621824,\n",
       " 'C22': -4.135303059457785,\n",
       " 'C23': 2.9709295700649276,\n",
       " 'C24': 5.9591054131246795,\n",
       " 'C25': -14.32246506863715,\n",
       " 'C26': -7.906035950428199,\n",
       " 'C27': -2.6114647009541208,\n",
       " 'C28': 1.1181376879798735,\n",
       " 'C29': 7.722661411636184,\n",
       " 'C3': 1.0857749609042813,\n",
       " 'C30': -11.426574875982407,\n",
       " 'C31': -6.398988853074895,\n",
       " 'C32': -1.6113243931614731,\n",
       " 'C33': 0.5515965167014896,\n",
       " 'C34': 6.564164642448199,\n",
       " 'C35': -14.71709847484338,\n",
       " 'C36': -7.765675422905011,\n",
       " 'C37': -3.3844724541610676,\n",
       " 'C38': 2.806667202987631,\n",
       " 'C39': 6.052058720698373,\n",
       " 'C4': 6.667386127185435,\n",
       " 'C40': -14.125310847541645,\n",
       " 'C41': -8.256855111273135,\n",
       " 'C42': -3.2655182864469308,\n",
       " 'C43': 2.0867778294754835,\n",
       " 'C44': 8.635888896168144,\n",
       " 'C45': -15.098841276339208,\n",
       " 'C46': -7.106786073166625,\n",
       " 'C47': -3.0077227817188743,\n",
       " 'C48': 3.6845324793285776,\n",
       " 'C49': 5.4922691085203725,\n",
       " 'C5': -13.670794857300837,\n",
       " 'C6': -4.8090976892532185,\n",
       " 'C7': -2.2683737312315864,\n",
       " 'C8': 2.807147679503891,\n",
       " 'C9': 7.968710985273828}"
      ]
     },
     "execution_count": 17,
     "metadata": {},
     "output_type": "execute_result"
    }
   ],
   "source": [
    "# Get group means on training data\n",
    "dict_x9_means = df10.iloc[X_train.index].groupby('x9').agg(y_mean=('y', 'mean'))['y_mean'].to_dict()\n",
    "dict_x9_means"
   ]
  },
  {
   "cell_type": "code",
   "execution_count": 18,
   "metadata": {},
   "outputs": [
    {
     "name": "stdout",
     "output_type": "stream",
     "text": [
      "\n",
      "Train: (6000, 17)\n",
      "Test: (2000, 17)\n",
      "Holdout: (2000, 17)\n",
      "\n"
     ]
    }
   ],
   "source": [
    "# Add some x2 predictors\n",
    "df10['x9_group_mean'] = df10['x9'].map(dict_x9_means)\n",
    "\n",
    "# Create X/y\n",
    "predictors_2 = ['x1', 'x2', 'x2_abs', 'x2_sign', 'x4', 'x5', 'x7', 'x8', 'x9_group_mean', 'x10']\n",
    "X, y = pd.get_dummies(df10[predictors_2], prefix=['x7', 'x8', 'x10']), df10['y']\n",
    "\n",
    "# Split train/test/holdout\n",
    "X_train, X_holdout, y_train, y_holdout = train_test_split(X, y, test_size=p_holdout, random_state=1)\n",
    "X_train, X_test, y_train, y_test = train_test_split(X_train, y_train, test_size=p_test_relative, random_state=2)\n",
    "\n",
    "# Check counts\n",
    "print(f'''\n",
    "Train: {X_train.shape}\n",
    "Test: {X_test.shape}\n",
    "Holdout: {X_holdout.shape}\n",
    "''')"
   ]
  },
  {
   "cell_type": "code",
   "execution_count": 19,
   "metadata": {},
   "outputs": [
    {
     "name": "stdout",
     "output_type": "stream",
     "text": [
      "Fitting (3, 'auto', 0.5)\n",
      "      Iter       Train Loss      OOB Improve   Remaining Time \n",
      "         1         184.8052          26.0784            5.00s\n",
      "         2         166.2424          22.5922            5.49s\n",
      "         3         142.6964          18.4610            5.32s\n",
      "         4         132.2905          15.4993            5.23s\n",
      "         5         118.6902          12.5769            5.17s\n",
      "         6         105.2398          10.9880            5.14s\n",
      "         7          90.2852           9.2608            4.97s\n",
      "         8          80.3695           7.8219            4.96s\n",
      "         9          82.6819           5.5383            4.96s\n",
      "        10          74.2277           6.2037            4.95s\n",
      "        20          40.1889           1.7613            4.80s\n",
      "        30          29.2698           0.8867            4.69s\n",
      "        40          22.0997           0.3947            4.63s\n",
      "        50          16.9878           0.1896            4.58s\n",
      "        60          12.9308           0.1689            4.53s\n",
      "        70          11.7252           0.0979            4.46s\n",
      "        80          10.3984           0.0554            4.42s\n",
      "        90           9.7257           0.0417            4.37s\n",
      "       100           8.8173           0.0228            4.32s\n",
      "Fitting (4, 'auto', 0.75)\n",
      "      Iter       Train Loss      OOB Improve   Remaining Time \n",
      "         1         172.0879          31.2342            8.99s\n",
      "         2         152.6718          24.6993            8.48s\n",
      "         3         134.3348          20.2549            8.64s\n",
      "         4         118.1288          16.3569            8.72s\n",
      "         5         102.6218          14.4023            8.56s\n",
      "         6          91.3255          12.0294            8.62s\n",
      "         7          80.9288           8.8544            8.65s\n",
      "         8          71.9901           8.0371            8.56s\n",
      "         9          66.1964           6.1472            8.59s\n",
      "        10          61.7546           4.4032            8.51s\n",
      "        20          30.9180           1.3659            8.28s\n",
      "        30          19.5382           0.6982            8.21s\n",
      "        40          13.9789           0.2509            8.14s\n",
      "        50          10.2987           0.2355            8.02s\n",
      "        60           8.7346           0.0970            7.96s\n",
      "        70           7.9437           0.0514            7.88s\n",
      "        80           7.3654           0.0041            7.80s\n",
      "        90           7.0699          -0.0075            7.72s\n",
      "Fitting (2, 'auto', 0.75)\n",
      "      Iter       Train Loss      OOB Improve   Remaining Time \n",
      "         1         182.8249          23.1672            5.00s\n",
      "         2         167.5256          18.8483            5.49s\n",
      "         3         144.0642          15.8562            5.32s\n",
      "         4         135.7054          13.1500            5.23s\n",
      "         5         129.9520          10.6859            5.37s\n",
      "         6         117.6756           7.8011            5.30s\n",
      "         7         109.7184           7.2525            5.39s\n",
      "         8         104.9809           6.0856            5.46s\n",
      "         9          96.2135           6.0607            5.40s\n",
      "        10          94.4798           4.2342            5.35s\n",
      "        20          53.0983           2.2008            5.29s\n",
      "        30          41.8299           0.9840            5.27s\n",
      "        40          32.8949           0.5488            5.09s\n",
      "        50          26.3884           0.5788            4.98s\n",
      "        60          21.0857           0.4852            4.86s\n",
      "        70          18.3048           0.1662            4.77s\n",
      "        80          15.6604           0.1237            4.68s\n",
      "        90          14.4599           0.1970            4.61s\n",
      "       100          12.9017           0.0600            4.54s\n",
      "Fitting (6, 'auto', 0.5)\n",
      "      Iter       Train Loss      OOB Improve   Remaining Time \n",
      "         1         174.3884          33.3044            7.99s\n",
      "         2         150.6962          26.8271            7.98s\n",
      "         3         125.8470          21.7781            7.98s\n",
      "         4         104.0983          17.8412            7.97s\n",
      "         5          90.2767          14.4705            7.96s\n",
      "         6          75.4054          12.2158            7.95s\n",
      "         7          67.3670          10.0803            7.94s\n",
      "         8          59.9062           7.9170            7.94s\n",
      "         9          49.8531           7.0485            7.93s\n",
      "        10          45.0875           6.0628            7.92s\n",
      "        20          18.2260           1.1988            7.79s\n",
      "        30          10.4982           0.3899            7.73s\n",
      "        40           7.8146           0.1112            7.70s\n",
      "        50           6.0319           0.0387            7.64s\n",
      "        60           5.4014           0.0075            7.61s\n",
      "Fitting (4, 'log2', 0.5)\n",
      "      Iter       Train Loss      OOB Improve   Remaining Time \n",
      "         1         194.4471          25.8170            3.00s\n",
      "         2         170.1973          22.6246            2.99s\n",
      "         3         147.0541          18.0819            2.66s\n",
      "         4         132.6860          16.3663            2.49s\n",
      "         5         117.9053          10.0443            2.59s\n",
      "         6         111.1813           9.6394            2.49s\n",
      "         7          98.7910           8.3288            2.41s\n",
      "         8          89.0922           9.0377            2.48s\n",
      "         9          87.7602           6.9090            2.42s\n",
      "        10          73.5892           7.7341            2.48s\n",
      "        20          38.7006           1.2106            2.35s\n",
      "        30          24.8860           1.0007            2.30s\n",
      "        40          18.7936           0.3713            2.26s\n",
      "        50          14.8139           0.1584            2.22s\n",
      "        60          11.7468           0.1377            2.21s\n",
      "        70          10.9983           0.0614            2.19s\n",
      "        80           9.5179           0.0533            2.16s\n",
      "Fitting (3, 'sqrt', 0.75)\n",
      "      Iter       Train Loss      OOB Improve   Remaining Time \n",
      "         1         186.8454          22.1946            2.00s\n",
      "         2         179.6132          11.4753            2.00s\n",
      "         3         163.5731          16.8599            2.33s\n",
      "         4         142.8809          17.0101            2.24s\n",
      "         5         140.6669           6.5584            2.19s\n",
      "         6         122.7779          11.9934            2.32s\n",
      "         7         120.9353           8.5856            2.27s\n",
      "         8         109.1500           7.5343            2.36s\n",
      "         9          97.3621           7.7188            2.42s\n",
      "        10          91.7326           7.9900            2.48s\n",
      "        20          50.1547           1.8067            2.40s\n",
      "        30          35.6343           1.0443            2.39s\n",
      "        40          26.6439           1.1121            2.35s\n",
      "        50          21.9518           0.1315            2.30s\n",
      "        60          18.0638           0.1197            2.29s\n",
      "        70          15.3684           0.1406            2.25s\n",
      "        80          13.5370           0.1252            2.22s\n",
      "        90          11.9013           0.0620            2.20s\n",
      "       100          11.5423           0.0371            2.19s\n"
     ]
    }
   ],
   "source": [
    "# Fit new models on whole training data set\n",
    "models_train_2 = {}\n",
    "\n",
    "for hp in best_hp_sets:\n",
    "    print(f'Fitting {hp}')\n",
    "    \n",
    "    # Fit gbm\n",
    "    gbm = GradientBoostingRegressor(\n",
    "        # Static hyperparameters\n",
    "        n_estimators = s_n_estimators,\n",
    "        validation_fraction = s_validation_fraction,\n",
    "        n_iter_no_change = s_n_iter_no_change,\n",
    "        tol = s_tol,\n",
    "        # Dynamic hyperparameters\n",
    "        max_depth = hp[0],\n",
    "        max_features = hp[1],\n",
    "        subsample = hp[2],\n",
    "        # Print status\n",
    "        verbose = 1\n",
    "    ).fit(X_train, y_train)\n",
    "    \n",
    "    # Save predictions\n",
    "    models_train_2[hp] = {\n",
    "        'model': gbm,\n",
    "        'train_err': y_train - gbm.predict(X_train),\n",
    "        'test_err': y_test - gbm.predict(X_test)\n",
    "    }\n",
    "    \n",
    "    del gbm"
   ]
  },
  {
   "cell_type": "code",
   "execution_count": 20,
   "metadata": {},
   "outputs": [
    {
     "name": "stdout",
     "output_type": "stream",
     "text": [
      "(3, 'auto', 0.5)\n",
      "    Train error: 8.703520684750925\n",
      "    Test error: 10.829724668373245\n",
      "    \n",
      "(4, 'auto', 0.75)\n",
      "    Train error: 7.521834247141668\n",
      "    Test error: 10.940467446104144\n",
      "    \n",
      "(2, 'auto', 0.75)\n",
      "    Train error: 10.411193100825082\n",
      "    Test error: 11.86420199966372\n",
      "    \n",
      "(6, 'auto', 0.5)\n",
      "    Train error: 8.407072583927029\n",
      "    Test error: 12.291085278012579\n",
      "    \n",
      "(4, 'log2', 0.5)\n",
      "    Train error: 9.471611670116214\n",
      "    Test error: 12.918625005941681\n",
      "    \n",
      "(3, 'sqrt', 0.75)\n",
      "    Train error: 9.942241661585951\n",
      "    Test error: 12.563745167567566\n",
      "    \n"
     ]
    }
   ],
   "source": [
    "# Compare average mean squared errors\n",
    "for hp in best_hp_sets:\n",
    "    print(f'''{hp}\n",
    "    Train error: {amse(models_train_2[hp]['train_err'])}\n",
    "    Test error: {amse(models_train_2[hp]['test_err'])}\n",
    "    ''')"
   ]
  },
  {
   "cell_type": "markdown",
   "metadata": {},
   "source": [
    "Best fit on test seems to be (3, 'auto', 0.5), even though it doesn't have the lowest training error and doesn't look better by much (10.8 versus 10.9 for the next best).\n",
    "\n",
    "My initial suspicion is that the training error is low on (6, 'auto', 0.5) due to overfitting on the training data.  Probably because we aren't using any type of tree regularization (e.g. pruning, requiring a certain sample size) to simplify the trees that get built.\n",
    "\n",
    "### Plot univariates to see if any other sort of modification might improve model fit"
   ]
  },
  {
   "cell_type": "code",
   "execution_count": 21,
   "metadata": {},
   "outputs": [],
   "source": [
    "def plot_univariate(df, x, y, filter_x7=None, model_fit=models_train_2[best_hp_sets[0]], n_bins=10):\n",
    "    # Create copy of dataframe\n",
    "    df = df.copy()\n",
    "    \n",
    "    # Subset to test rows\n",
    "    df = df.iloc[X_test.index]\n",
    "    \n",
    "    # Add prediction\n",
    "    df = df.assign(p = model_fit['model'].predict(X_test))\n",
    "    \n",
    "    # Apply filter_x7\n",
    "    if filter_x7:\n",
    "        df = df[df10.x7 == filter_x7]\n",
    "    \n",
    "    # If x is numeric, bin into groups\n",
    "    if df[x].dtype in (np.int64, np.float64):\n",
    "        df[x] = pd.cut(df[x], n_bins).apply(str)\n",
    "    \n",
    "    # Aggregate\n",
    "    df_agg = (\n",
    "        df\n",
    "        .groupby(x)\n",
    "        .agg(\n",
    "            n=(y, 'count'),\n",
    "            y_mean=(y, 'mean'),\n",
    "            y_sd=(y, 'std'),\n",
    "            p_mean=('p', 'mean'),\n",
    "            p_sd=('p', 'std'),\n",
    "        )\n",
    "        .reset_index()\n",
    "    )\n",
    "    \n",
    "    print(df_agg)\n",
    "    \n",
    "    # Plot\n",
    "    fig, (ax1, ax2) = plt.subplots(2, 1, sharex=True, figsize=(20, 10))\n",
    "    \n",
    "    # First plot: Counts\n",
    "    ax1.bar(x, 'n', data=df_agg)\n",
    "    \n",
    "    # Second plot: Average actuals and predicted\n",
    "    ax2.errorbar(x, 'y_mean', yerr='y_sd', data=df_agg, label='Actual', fmt='o', capsize=10, color='green')\n",
    "    ax2.errorbar(x, 'p_mean', yerr='p_sd', data=df_agg, label='Predicted', fmt='o', capsize=10, color='red')\n",
    "    \n",
    "    plt.legend()\n",
    "    plt.show()"
   ]
  },
  {
   "cell_type": "code",
   "execution_count": 22,
   "metadata": {},
   "outputs": [
    {
     "name": "stdout",
     "output_type": "stream",
     "text": [
      "                 x1    n     y_mean       y_sd    p_mean       p_sd\n",
      "0  (-3.349, -2.656]   14 -10.483115  15.085686 -9.254707  14.350153\n",
      "1  (-2.656, -1.971]   40  -5.783603  12.650469 -4.954046  11.616450\n",
      "2  (-1.971, -1.285]  121  -4.694796  14.911796 -4.586458  14.478559\n",
      "3  (-1.285, -0.599]  361  -2.241680  14.686556 -2.167567  13.723625\n",
      "4  (-0.599, 0.0864]  531  -0.921520  14.677675 -1.473981  13.960364\n",
      "5   (0.0864, 0.772]  479  -5.907316  13.252324 -5.773941  12.280966\n",
      "6    (0.772, 1.458]  303  -5.421904  15.098284 -5.131359  14.163994\n",
      "7    (1.458, 2.143]  114  -4.513584  13.897776 -4.427469  13.189477\n",
      "8    (2.143, 2.829]   32  -3.624521  13.091653 -3.172135  12.563339\n",
      "9    (2.829, 3.515]    5   3.827210  15.228232  4.299056  14.127327\n"
     ]
    },
    {
     "data": {
      "image/png": "[encoded data removed]",
      "text/plain": [
       "<Figure size 1440x720 with 2 Axes>"
      ]
     },
     "metadata": {
      "needs_background": "light"
     },
     "output_type": "display_data"
    }
   ],
   "source": [
    "# x1\n",
    "plot_univariate(df10, 'x1', 'y')"
   ]
  },
  {
   "cell_type": "code",
   "execution_count": 23,
   "metadata": {},
   "outputs": [
    {
     "name": "stdout",
     "output_type": "stream",
     "text": [
      "                 x2    n    y_mean       y_sd    p_mean       p_sd\n",
      "0  (-3.279, -2.595]   11 -8.963161   8.915807 -8.882874   9.977144\n",
      "1  (-2.595, -1.917]   51 -2.583432   9.656766 -2.712373  10.157666\n",
      "2   (-1.917, -1.24]  148 -3.944287  12.748935 -4.062307  12.694058\n",
      "3   (-1.24, -0.562]  324 -3.311579  16.481169 -3.101425  15.256426\n",
      "4   (-0.562, 0.115]  516 -3.096149  15.152012 -3.139425  13.846404\n",
      "5    (0.115, 0.793]  502 -4.007994  14.113056 -3.958108  13.084485\n",
      "6    (0.793, 1.471]  308 -3.565381  13.985441 -3.785707  13.443933\n",
      "7    (1.471, 2.148]  105 -6.141877  13.036458 -6.086238  13.317610\n",
      "8    (2.148, 2.826]   29 -4.510177   8.878486 -4.931191  10.088877\n",
      "9    (2.826, 3.503]    6  6.986870  13.642510  7.327919  14.084908\n"
     ]
    },
    {
     "data": {
      "image/png": "[encoded data removed]",
      "text/plain": [
       "<Figure size 1440x720 with 2 Axes>"
      ]
     },
     "metadata": {
      "needs_background": "light"
     },
     "output_type": "display_data"
    }
   ],
   "source": [
    "# x2\n",
    "plot_univariate(df10, 'x2', 'y')"
   ]
  },
  {
   "cell_type": "code",
   "execution_count": 24,
   "metadata": {},
   "outputs": [
    {
     "name": "stderr",
     "output_type": "stream",
     "text": [
      "<ipython-input-21-aae3c8e7af56>:13: UserWarning: Boolean Series key will be reindexed to match DataFrame index.\n",
      "  df = df[df10.x7 == filter_x7]\n"
     ]
    },
    {
     "name": "stdout",
     "output_type": "stream",
     "text": [
      "                 x2    n    y_mean       y_sd    p_mean       p_sd\n",
      "0  (-3.271, -2.591]    5 -8.106606   8.415644 -4.577277   7.058366\n",
      "1  (-2.591, -1.917]   24 -0.454520  10.475494  2.106401   9.997446\n",
      "2  (-1.917, -1.243]   66  5.468557   9.691468  5.900804   9.047827\n",
      "3  (-1.243, -0.569]  143  7.990921  12.138608  7.855556  10.219910\n",
      "4   (-0.569, 0.105]  245  7.707951  12.060639  6.807718  10.861414\n",
      "5    (0.105, 0.778]  226  7.482381   9.601512  6.478605   9.000973\n",
      "6    (0.778, 1.452]  157  5.186901  10.571099  4.921974   9.588582\n",
      "7    (1.452, 2.126]   53  2.455858  10.313153  3.140891   9.659800\n",
      "8      (2.126, 2.8]    9 -5.622920   6.225904 -2.048294   6.894958\n",
      "9      (2.8, 3.474]    3  4.351880  11.060596  7.135297  10.869113\n"
     ]
    },
    {
     "data": {
      "image/png": "[encoded data removed]",
      "text/plain": [
       "<Figure size 1440x720 with 2 Axes>"
      ]
     },
     "metadata": {
      "needs_background": "light"
     },
     "output_type": "display_data"
    }
   ],
   "source": [
    "# x2 * x7 == A1\n",
    "plot_univariate(df10, 'x2', 'y', filter_x7='A1')"
   ]
  },
  {
   "cell_type": "code",
   "execution_count": 25,
   "metadata": {},
   "outputs": [
    {
     "name": "stderr",
     "output_type": "stream",
     "text": [
      "<ipython-input-21-aae3c8e7af56>:13: UserWarning: Boolean Series key will be reindexed to match DataFrame index.\n",
      "  df = df[df10.x7 == filter_x7]\n"
     ]
    },
    {
     "name": "stdout",
     "output_type": "stream",
     "text": [
      "                 x2    n     y_mean       y_sd     p_mean       p_sd\n",
      "0  (-3.279, -2.595]    6  -9.676958  10.048865 -12.470871  11.191236\n",
      "1  (-2.595, -1.917]   27  -4.475799   8.623015  -6.995727   8.337629\n",
      "2   (-1.917, -1.24]   82 -11.520478   9.449803 -12.081397   8.986869\n",
      "3   (-1.24, -0.562]  178 -12.621042  13.489726 -12.118688  12.563336\n",
      "4   (-0.562, 0.115]  269 -13.150621   9.761618 -12.389801   8.971748\n",
      "5    (0.115, 0.793]  279 -12.984273  10.235272 -12.108241   9.738740\n",
      "6    (0.793, 1.471]  148 -13.208319  10.359310 -13.348078  10.070436\n",
      "7    (1.471, 2.148]   57 -12.820662  11.315906 -13.469252  11.283851\n",
      "8    (2.148, 2.826]   20  -4.009443   9.949655  -6.228494  11.147831\n",
      "9    (2.826, 3.503]    3   9.621860  17.947949   7.520540  19.434831\n"
     ]
    },
    {
     "data": {
      "image/png": "[encoded data removed]",
      "text/plain": [
       "<Figure size 1440x720 with 2 Axes>"
      ]
     },
     "metadata": {
      "needs_background": "light"
     },
     "output_type": "display_data"
    }
   ],
   "source": [
    "# x2 * x7 == A2\n",
    "plot_univariate(df10, 'x2', 'y', filter_x7='A2')"
   ]
  },
  {
   "cell_type": "code",
   "execution_count": 26,
   "metadata": {},
   "outputs": [
    {
     "name": "stdout",
     "output_type": "stream",
     "text": [
      "                x3    n     y_mean       y_sd     p_mean       p_sd\n",
      "0  (-0.323, 0.366]    9 -11.805981  10.815292 -10.317243  10.764086\n",
      "1   (0.366, 1.048]   43  -0.902139  16.096326  -1.531529  15.621301\n",
      "2    (1.048, 1.73]  165  -4.245541  13.734647  -4.399199  13.236572\n",
      "3    (1.73, 2.412]  362  -2.600431  14.504536  -2.464310  13.465721\n",
      "4   (2.412, 3.094]  530  -4.319000  14.038637  -4.173901  13.260953\n",
      "5   (3.094, 3.776]  462  -3.946593  14.129089  -4.104081  13.484870\n",
      "6   (3.776, 4.458]  288  -2.848500  15.211305  -2.986631  13.857547\n",
      "7    (4.458, 5.14]  113  -3.893005  16.089874  -4.100243  15.175697\n",
      "8    (5.14, 5.822]   25  -5.653557  14.065525  -4.743391  12.724448\n",
      "9   (5.822, 6.504]    3  -9.220591  19.771726  -8.718256  18.020923\n"
     ]
    },
    {
     "data": {
      "image/png": "[encoded data removed]",
      "text/plain": [
       "<Figure size 1440x720 with 2 Axes>"
      ]
     },
     "metadata": {
      "needs_background": "light"
     },
     "output_type": "display_data"
    }
   ],
   "source": [
    "# x3\n",
    "plot_univariate(df10, 'x3', 'y')"
   ]
  },
  {
   "cell_type": "code",
   "execution_count": 27,
   "metadata": {},
   "outputs": [
    {
     "name": "stdout",
     "output_type": "stream",
     "text": [
      "                 x4    n     y_mean       y_sd     p_mean       p_sd\n",
      "0  (-3.336, -2.646]    6 -10.930331  12.006297 -12.564523  13.973415\n",
      "1  (-2.646, -1.964]   37  -5.186150  19.615593  -5.130619  18.078145\n",
      "2  (-1.964, -1.281]  136  -6.879913  13.236798  -6.641158  12.700757\n",
      "3  (-1.281, -0.598]  358  -5.059908  15.377327  -4.884628  14.641840\n",
      "4  (-0.598, 0.0847]  511  -4.743645  13.660591  -4.737330  12.669892\n",
      "5   (0.0847, 0.767]  508  -2.253742  14.386944  -2.342864  13.464504\n",
      "6     (0.767, 1.45]  305  -1.745711  14.430397  -1.512769  13.498047\n",
      "7     (1.45, 2.133]  108  -1.684101  13.362159  -2.626998  12.814857\n",
      "8    (2.133, 2.816]   23  -0.794036  15.371043  -1.528996  14.581240\n",
      "9    (2.816, 3.499]    8  -2.814282  15.805801  -5.598334  14.397097\n"
     ]
    },
    {
     "data": {
      "image/png": "[encoded data removed]",
      "text/plain": [
       "<Figure size 1440x720 with 2 Axes>"
      ]
     },
     "metadata": {
      "needs_background": "light"
     },
     "output_type": "display_data"
    }
   ],
   "source": [
    "# x4\n",
    "plot_univariate(df10, 'x4', 'y')"
   ]
  },
  {
   "cell_type": "code",
   "execution_count": 28,
   "metadata": {},
   "outputs": [
    {
     "name": "stdout",
     "output_type": "stream",
     "text": [
      "                 x5    n     y_mean       y_sd     p_mean       p_sd\n",
      "0  (-3.852, -3.123]    2 -50.635420  13.284488 -33.205622  22.153181\n",
      "1  (-3.123, -2.402]   19 -17.244148  13.685882 -16.398568  12.998512\n",
      "2   (-2.402, -1.68]   89  -4.393372  12.563297  -3.763966  12.103042\n",
      "3   (-1.68, -0.958]  215   0.895493  12.860241   0.018180  11.835497\n",
      "4  (-0.958, -0.236]  502  -2.165445  13.036187  -2.438991  12.278219\n",
      "5   (-0.236, 0.486]  558  -6.025738  13.261995  -5.955473  12.666892\n",
      "6    (0.486, 1.207]  394  -7.183013  13.656944  -6.785776  12.882621\n",
      "7    (1.207, 1.929]  177  -1.962756  15.046731  -2.114022  13.955202\n",
      "8    (1.929, 2.651]   36  14.132880  15.216990  15.682202  13.186467\n",
      "9    (2.651, 3.373]    8  52.118193  18.582697  48.335697  15.479677\n"
     ]
    },
    {
     "data": {
      "image/png": "[encoded data removed]",
      "text/plain": [
       "<Figure size 1440x720 with 2 Axes>"
      ]
     },
     "metadata": {
      "needs_background": "light"
     },
     "output_type": "display_data"
    }
   ],
   "source": [
    "# x5\n",
    "plot_univariate(df10, 'x5', 'y')"
   ]
  },
  {
   "cell_type": "code",
   "execution_count": 29,
   "metadata": {},
   "outputs": [
    {
     "name": "stdout",
     "output_type": "stream",
     "text": [
      "                 x6    n     y_mean       y_sd     p_mean       p_sd\n",
      "0   (-0.968, 0.459]    6 -14.542230   4.385183 -12.331048   5.889802\n",
      "1    (0.459, 1.871]   34   1.585852  15.082694   0.986782  14.601042\n",
      "2    (1.871, 3.284]  146  -4.745006  14.198404  -5.144856  13.748450\n",
      "3    (3.284, 4.697]  358  -3.081514  14.421713  -2.893038  13.489596\n",
      "4    (4.697, 6.109]  523  -3.785036  14.272484  -3.703559  13.363623\n",
      "5    (6.109, 7.522]  494  -4.211936  13.714992  -4.189745  13.096624\n",
      "6    (7.522, 8.934]  298  -3.055536  15.420581  -3.298907  14.157809\n",
      "7   (8.934, 10.347]  114  -3.306535  16.295409  -3.555499  15.306594\n",
      "8  (10.347, 11.759]   24  -5.302985  13.386852  -4.497070  12.216284\n",
      "9  (11.759, 13.172]    3  -8.088833  18.924234  -7.603382  17.247820\n"
     ]
    },
    {
     "data": {
      "image/png": "[encoded data removed]",
      "text/plain": [
       "<Figure size 1440x720 with 2 Axes>"
      ]
     },
     "metadata": {
      "needs_background": "light"
     },
     "output_type": "display_data"
    }
   ],
   "source": [
    "# x6\n",
    "plot_univariate(df10, 'x6', 'y')"
   ]
  },
  {
   "cell_type": "code",
   "execution_count": 30,
   "metadata": {},
   "outputs": [
    {
     "name": "stdout",
     "output_type": "stream",
     "text": [
      "   x7     n     y_mean       y_sd     p_mean       p_sd\n",
      "0  A1   931   6.378737  11.131655   6.030837   9.962587\n",
      "1  A2  1069 -12.410846  10.906534 -12.130812  10.282227\n"
     ]
    },
    {
     "data": {
      "image/png": "[encoded data removed]",
      "text/plain": [
       "<Figure size 1440x720 with 2 Axes>"
      ]
     },
     "metadata": {
      "needs_background": "light"
     },
     "output_type": "display_data"
    }
   ],
   "source": [
    "# x7\n",
    "plot_univariate(df10, 'x7', 'y')"
   ]
  },
  {
   "cell_type": "code",
   "execution_count": 31,
   "metadata": {},
   "outputs": [
    {
     "name": "stdout",
     "output_type": "stream",
     "text": [
      "   x8    n    y_mean       y_sd    p_mean       p_sd\n",
      "0  B1  408 -9.870796  14.827481 -9.558853  13.865532\n",
      "1  B2  384 -9.155140  13.449646 -9.010555  12.492406\n",
      "2  B3  439  0.319236  13.723353  0.086674  12.837350\n",
      "3  B4  365 -0.198614  13.249155 -0.270108  12.432604\n",
      "4  B5  404  0.362915  12.953490  0.167020  12.346337\n"
     ]
    },
    {
     "data": {
      "image/png": "[encoded data removed]",
      "text/plain": [
       "<Figure size 1440x720 with 2 Axes>"
      ]
     },
     "metadata": {
      "needs_background": "light"
     },
     "output_type": "display_data"
    }
   ],
   "source": [
    "# x8\n",
    "plot_univariate(df10, 'x8', 'y')"
   ]
  },
  {
   "cell_type": "code",
   "execution_count": 32,
   "metadata": {},
   "outputs": [
    {
     "name": "stdout",
     "output_type": "stream",
     "text": [
      "     x9   n     y_mean       y_sd     p_mean       p_sd\n",
      "0    C0  44 -11.449154  11.865423 -12.832936  11.138705\n",
      "1    C1  39  -7.403877  11.560906  -8.198854  10.807495\n",
      "2   C10  41  -8.399086  15.627309  -7.621894  14.788294\n",
      "3   C11  41  -8.086080  12.148196  -8.626845  12.049628\n",
      "4   C12  42  -8.241409  12.543559  -8.582386  11.330741\n",
      "5   C13  48  -2.180046  14.542123  -0.976496  11.864689\n",
      "6   C14  44   3.727839  12.759579   3.689955  12.080002\n",
      "7   C15  43 -12.738585  11.075329 -12.621274  11.097161\n",
      "8   C16  47  -9.826713  11.958178 -10.529575  11.171875\n",
      "9   C17  47  -3.939025  12.629985  -4.807873  11.447767\n",
      "10  C18  51  -3.557728  10.818493  -2.535203  10.558583\n",
      "11  C19  35   7.096602  12.006954   7.015767  11.248909\n",
      "12   C2  34  -2.137282  12.039587  -3.143877  11.181596\n",
      "13  C20  40 -11.236139  12.753242 -11.816540  12.823951\n",
      "14  C21  34  -7.729983  14.700335  -8.114359  14.759360\n",
      "15  C22  30  -8.004749  11.753302  -8.208667  11.003565\n",
      "16  C23  25  -1.158287  11.773694  -0.908927  10.710869\n",
      "17  C24  42   4.606401  13.112757   4.556470  11.955501\n",
      "18  C25  32 -12.132659   9.929150 -12.084809   9.973080\n",
      "19  C26  40 -11.754238  12.320034 -11.065960  11.215662\n",
      "20  C27  52  -2.684759  13.514872  -1.711810  11.768315\n",
      "21  C28  43  -0.707418  12.674504  -0.392478  11.707163\n",
      "22  C29  45   4.507751  12.062009   4.372103  10.664571\n",
      "23   C3  43   7.086339  12.471185   5.594026  11.430310\n",
      "24  C30  41 -13.611573  13.107950 -12.519667  12.208225\n",
      "25  C31  54  -6.903154  12.426081  -6.639168  12.057654\n",
      "26  C32  40  -0.902354  12.298373  -0.235649  10.575770\n",
      "27  C33  33   0.418164  12.742362   0.030424  10.992535\n",
      "28  C34  45   5.832799  11.444282   5.142982  11.112553\n",
      "29  C35  42 -12.317755  13.491357 -12.270111  13.346275\n",
      "30  C36  45  -8.643750  14.443367  -8.280861  12.631397\n",
      "31  C37  31  -2.337754  13.643381  -3.020466  12.881321\n",
      "32  C38  40   3.497553  10.850633   3.722016   9.829040\n",
      "33  C39  37   6.020325  11.849876   6.796915  11.387383\n",
      "34   C4  36   6.218592  13.595671   5.205480  11.590682\n",
      "35  C40  43 -15.356908  15.448294 -15.025617  14.972644\n",
      "36  C41  35  -6.798625  11.281974  -7.185755  10.390632\n",
      "37  C42  35  -5.808361  10.295035  -6.038547  11.078656\n",
      "38  C43  39  -1.514269  12.083968  -1.587614  12.297610\n",
      "39  C44  35   9.533682  12.527620   8.728753  11.660777\n",
      "40  C45  40 -15.794303  10.952866 -15.576498  10.052321\n",
      "41  C46  40  -5.928572  19.451952  -5.889757  17.562014\n",
      "42  C47  33   0.578860  12.066342   0.163830  10.911104\n",
      "43  C48  36   2.659406  13.413776   2.924077  12.601113\n",
      "44  C49  43   2.922198  12.435955   2.538574  10.823418\n",
      "45   C5  31 -15.953260  13.097772 -14.850069  12.426670\n",
      "46   C6  39  -6.990416  15.241824  -6.028805  13.400980\n",
      "47   C7  47  -3.062693  13.019236  -1.466942  11.487881\n",
      "48   C8  37   1.436576  11.238910   0.919447  11.183030\n",
      "49   C9  41   8.100273  15.951240   7.268811  14.392052\n"
     ]
    },
    {
     "data": {
      "image/png": "[encoded data removed]",
      "text/plain": [
       "<Figure size 1440x720 with 2 Axes>"
      ]
     },
     "metadata": {
      "needs_background": "light"
     },
     "output_type": "display_data"
    }
   ],
   "source": [
    "# x9\n",
    "plot_univariate(df10, 'x9', 'y')"
   ]
  },
  {
   "cell_type": "code",
   "execution_count": 33,
   "metadata": {},
   "outputs": [
    {
     "name": "stdout",
     "output_type": "stream",
     "text": [
      "  x10    n    y_mean       y_sd    p_mean       p_sd\n",
      "0  D1  421  0.256379  13.741910  0.011397  12.863994\n",
      "1  D2  826 -0.427810  13.260177 -0.428542  12.470163\n",
      "2  D3  753 -9.406580  14.293531 -9.301397  13.313836\n"
     ]
    },
    {
     "data": {
      "image/png": "[encoded data removed]",
      "text/plain": [
       "<Figure size 1440x720 with 2 Axes>"
      ]
     },
     "metadata": {
      "needs_background": "light"
     },
     "output_type": "display_data"
    }
   ],
   "source": [
    "# x10\n",
    "plot_univariate(df10, 'x10', 'y')"
   ]
  },
  {
   "cell_type": "markdown",
   "metadata": {},
   "source": [
    "The only thing that really sticks out is relatively extreme x5 values, but we'd be affected ~10 rows by doing anything.  So let's leave the model as is.\n",
    "\n",
    "# Evaluate on holdout\n",
    "\n",
    "Let's evaluate all of our \"best\" hyperparameter sets to see how the holdout results compare to train/test results."
   ]
  },
  {
   "cell_type": "code",
   "execution_count": 34,
   "metadata": {},
   "outputs": [
    {
     "name": "stdout",
     "output_type": "stream",
     "text": [
      "Fitting (3, 'auto', 0.5)\n",
      "      Iter       Train Loss      OOB Improve   Remaining Time \n",
      "         1         185.6021          26.3758            5.99s\n",
      "         2         164.2667          22.0185            6.49s\n",
      "         3         142.9581          18.0369            6.65s\n",
      "         4         122.2121          15.7537            6.72s\n",
      "         5         107.4169          13.1402            6.77s\n",
      "         6         100.6832          10.7196            6.63s\n",
      "         7          93.3017           8.9085            6.67s\n",
      "         8          82.8316           7.6082            6.70s\n",
      "         9          78.5671           6.3188            6.61s\n",
      "        10          71.1476           5.8965            6.63s\n",
      "        20          41.9048           1.5380            6.32s\n",
      "        30          29.0225           1.0296            6.21s\n",
      "        40          20.5329           0.7775            6.14s\n",
      "        50          15.4417           0.3207            6.06s\n",
      "        60          13.6697           0.1474            5.99s\n",
      "        70          11.3369           0.1289            5.93s\n",
      "        80           9.6947           0.0697            5.87s\n",
      "        90           8.6953           0.0417            5.78s\n",
      "       100           8.7991           0.0301            6.38s\n",
      "Fitting (4, 'auto', 0.75)\n",
      "      Iter       Train Loss      OOB Improve   Remaining Time \n",
      "         1         183.6754          28.6751           10.99s\n",
      "         2         153.0826          24.9488           10.98s\n",
      "         3         135.3711          19.7460           11.30s\n",
      "         4         118.5031          16.8533           11.21s\n",
      "         5         103.2014          13.0324           11.14s\n",
      "         6          92.0520          11.1910           11.27s\n",
      "         7          83.4859           8.7541           11.21s\n",
      "         8          72.3743           8.2903           11.28s\n",
      "         9          67.1990           6.6559           11.23s\n",
      "        10          60.6796           4.7597           11.29s\n",
      "        20          32.5389           1.2516           10.98s\n",
      "        30          20.2385           0.8008           10.99s\n",
      "        40          14.3444           0.3591           10.87s\n",
      "        50          10.9062           0.2173           10.77s\n",
      "        60           9.5290           0.0910           10.67s\n",
      "        70           8.1374           0.0693           10.58s\n",
      "        80           7.7323           0.0224           10.45s\n",
      "        90           7.1869           0.0176           10.34s\n",
      "       100           6.9988           0.0074           10.24s\n",
      "Fitting (2, 'auto', 0.75)\n",
      "      Iter       Train Loss      OOB Improve   Remaining Time \n",
      "         1         187.1617          23.3205            5.99s\n",
      "         2         168.3064          19.0797            6.49s\n",
      "         3         150.9154          15.8132            6.65s\n",
      "         4         141.0346          13.0194            6.47s\n",
      "         5         126.7959          11.2434            6.57s\n",
      "         6         119.9226           8.8517            6.46s\n",
      "         7         111.0465           8.0737            6.53s\n",
      "         8         103.4116           6.6835            6.57s\n",
      "         9          96.7423           6.0745            6.50s\n",
      "        10          93.0217           4.9879            6.53s\n",
      "        20          57.2838           1.9313            6.37s\n",
      "        30          41.6380           1.1223            6.27s\n",
      "        40          31.7858           1.2300            6.19s\n",
      "        50          27.8262           0.4208            6.12s\n",
      "        60          22.3130           0.4504            6.05s\n",
      "        70          19.1736           0.1292            5.99s\n",
      "        80          16.4425           0.1295            5.92s\n",
      "        90          14.4023           0.0996            5.84s\n",
      "       100          13.0610           0.2332            5.79s\n",
      "Fitting (6, 'auto', 0.5)\n",
      "      Iter       Train Loss      OOB Improve   Remaining Time \n",
      "         1         170.8216          32.5992            9.99s\n",
      "         2         141.5452          26.3602           10.48s\n",
      "         3         126.4914          21.6020           10.64s\n",
      "         4         109.1355          17.3088           10.46s\n",
      "         5          96.5227          14.1176           10.55s\n",
      "         6          81.6384          11.1855           10.60s\n",
      "         7          70.4167           9.6762           10.50s\n",
      "         8          63.9380           7.6849           10.54s\n",
      "         9          54.6068           6.4558           10.57s\n",
      "        10          48.1259           5.5131           10.59s\n",
      "        20          19.5352           1.2672           10.39s\n",
      "        30          11.5625           0.4017           10.35s\n",
      "        40           8.9366           0.1507           10.27s\n",
      "        50           6.7719           0.0476           10.22s\n",
      "        60           6.2730           0.0034           10.15s\n",
      "        70           5.8344          -0.0046           10.07s\n",
      "Fitting (4, 'log2', 0.5)\n",
      "      Iter       Train Loss      OOB Improve   Remaining Time \n",
      "         1         180.0633          27.9252            2.00s\n",
      "         2         165.9103          18.8333            2.50s\n",
      "         3         148.9579          15.0502            2.66s\n",
      "         4         137.7146          15.8134            2.99s\n",
      "         5         118.9635          12.8017            2.99s\n",
      "         6         111.4708           9.6123            2.98s\n",
      "         7         105.4240           9.7095            3.12s\n",
      "         8          89.5573           8.4992            3.10s\n",
      "         9          82.6669           7.0379            3.08s\n",
      "        10          71.0527           7.0216            3.17s\n",
      "        20          42.7854           1.9774            3.04s\n",
      "        30          25.6196           1.3166            3.01s\n",
      "        40          18.2392           0.2778            2.93s\n",
      "        50          14.8982           0.1449            2.89s\n",
      "        60          11.8473           0.1406            2.84s\n",
      "        70          10.7396           0.0741            2.79s\n",
      "        80           9.4284           0.0595            2.77s\n",
      "        90           9.0345           0.0788            2.73s\n",
      "       100           7.6229           0.0643            2.70s\n",
      "Fitting (3, 'sqrt', 0.75)\n",
      "      Iter       Train Loss      OOB Improve   Remaining Time \n",
      "         1         188.6917          24.2681            3.00s\n",
      "         2         167.6630          22.0983            2.99s\n",
      "         3         159.6752           9.0206            2.99s\n",
      "         4         142.1760          13.4109            3.24s\n",
      "         5         130.7906          12.7514            3.18s\n",
      "         6         122.1944           9.6931            3.31s\n",
      "         7         110.9333           9.3059            3.26s\n",
      "         8         102.8865           5.1261            3.22s\n",
      "         9          99.2609           7.0310            3.19s\n",
      "        10          88.7117           5.4229            3.17s\n",
      "        20          56.9357           1.9278            3.09s\n",
      "        30          37.2060           0.9143            2.97s\n",
      "        40          30.4451           0.3680            2.93s\n",
      "        50          23.4276           0.1985            2.96s\n",
      "        60          20.2532           0.1863            2.90s\n",
      "        70          17.5053           0.2333            2.84s\n",
      "        80          15.4090           0.0122            2.82s\n",
      "        90          14.0258           0.1271            2.79s\n",
      "       100          12.8386           0.0366            2.75s\n"
     ]
    }
   ],
   "source": [
    "# Refit models on train and test data together\n",
    "models_traintest = {}\n",
    "\n",
    "for hp in best_hp_sets:\n",
    "    print(f'Fitting {hp}')\n",
    "    \n",
    "    # Get train+test data\n",
    "    X = X_train.append(X_test)\n",
    "    y = y_train.append(y_test)\n",
    "    \n",
    "    # Fit gbm\n",
    "    gbm = GradientBoostingRegressor(\n",
    "        # Static hyperparameters\n",
    "        n_estimators = s_n_estimators,\n",
    "        validation_fraction = s_validation_fraction,\n",
    "        n_iter_no_change = s_n_iter_no_change,\n",
    "        tol = s_tol,\n",
    "        # Dynamic hyperparameters\n",
    "        max_depth = hp[0],\n",
    "        max_features = hp[1],\n",
    "        subsample = hp[2],\n",
    "        # Print status\n",
    "        verbose = 1\n",
    "    ).fit(X, y)\n",
    "    \n",
    "    # Save predictions\n",
    "    models_traintest[hp] = {\n",
    "        'model': gbm,\n",
    "        'err': y - gbm.predict(X),\n",
    "        'holdout_err': y_holdout - gbm.predict(X_holdout)\n",
    "    }\n",
    "    \n",
    "    del X, y, gbm"
   ]
  },
  {
   "cell_type": "code",
   "execution_count": 35,
   "metadata": {},
   "outputs": [
    {
     "data": {
      "text/html": [
       "<div>\n",
       "<style scoped>\n",
       "    .dataframe tbody tr th:only-of-type {\n",
       "        vertical-align: middle;\n",
       "    }\n",
       "\n",
       "    .dataframe tbody tr th {\n",
       "        vertical-align: top;\n",
       "    }\n",
       "\n",
       "    .dataframe thead th {\n",
       "        text-align: right;\n",
       "    }\n",
       "</style>\n",
       "<table border=\"1\" class=\"dataframe\">\n",
       "  <thead>\n",
       "    <tr style=\"text-align: right;\">\n",
       "      <th></th>\n",
       "      <th>index</th>\n",
       "      <th>train</th>\n",
       "      <th>test</th>\n",
       "      <th>train+test</th>\n",
       "      <th>holdout</th>\n",
       "    </tr>\n",
       "  </thead>\n",
       "  <tbody>\n",
       "    <tr>\n",
       "      <th>0</th>\n",
       "      <td>(3, auto, 0.5)</td>\n",
       "      <td>8.703521</td>\n",
       "      <td>10.829725</td>\n",
       "      <td>8.989635</td>\n",
       "      <td>12.461160</td>\n",
       "    </tr>\n",
       "    <tr>\n",
       "      <th>1</th>\n",
       "      <td>(4, auto, 0.75)</td>\n",
       "      <td>7.521834</td>\n",
       "      <td>10.940467</td>\n",
       "      <td>7.222175</td>\n",
       "      <td>10.421275</td>\n",
       "    </tr>\n",
       "    <tr>\n",
       "      <th>2</th>\n",
       "      <td>(2, auto, 0.75)</td>\n",
       "      <td>10.411193</td>\n",
       "      <td>11.864202</td>\n",
       "      <td>9.456520</td>\n",
       "      <td>11.249991</td>\n",
       "    </tr>\n",
       "    <tr>\n",
       "      <th>3</th>\n",
       "      <td>(6, auto, 0.5)</td>\n",
       "      <td>8.407073</td>\n",
       "      <td>12.291085</td>\n",
       "      <td>7.054994</td>\n",
       "      <td>12.057749</td>\n",
       "    </tr>\n",
       "    <tr>\n",
       "      <th>4</th>\n",
       "      <td>(4, log2, 0.5)</td>\n",
       "      <td>9.471612</td>\n",
       "      <td>12.918625</td>\n",
       "      <td>8.367248</td>\n",
       "      <td>13.132174</td>\n",
       "    </tr>\n",
       "    <tr>\n",
       "      <th>5</th>\n",
       "      <td>(3, sqrt, 0.75)</td>\n",
       "      <td>9.942242</td>\n",
       "      <td>12.563745</td>\n",
       "      <td>9.266201</td>\n",
       "      <td>14.100427</td>\n",
       "    </tr>\n",
       "  </tbody>\n",
       "</table>\n",
       "</div>"
      ],
      "text/plain": [
       "             index      train       test  train+test    holdout\n",
       "0   (3, auto, 0.5)   8.703521  10.829725    8.989635  12.461160\n",
       "1  (4, auto, 0.75)   7.521834  10.940467    7.222175  10.421275\n",
       "2  (2, auto, 0.75)  10.411193  11.864202    9.456520  11.249991\n",
       "3   (6, auto, 0.5)   8.407073  12.291085    7.054994  12.057749\n",
       "4   (4, log2, 0.5)   9.471612  12.918625    8.367248  13.132174\n",
       "5  (3, sqrt, 0.75)   9.942242  12.563745    9.266201  14.100427"
      ]
     },
     "execution_count": 35,
     "metadata": {},
     "output_type": "execute_result"
    }
   ],
   "source": [
    "# Create df of train, test, train+test, and holdout performance for each best hyperparameter space\n",
    "all_performance = dict()\n",
    "for hp in best_hp_sets:\n",
    "    all_performance[hp] = [\n",
    "        amse(models_train_2[hp]['train_err']),\n",
    "        amse(models_train_2[hp]['test_err']),\n",
    "        amse(models_traintest[hp]['err']),\n",
    "        amse(models_traintest[hp]['holdout_err']),\n",
    "    ]\n",
    "    \n",
    "all_performance_df = pd.DataFrame.from_dict(\n",
    "    all_performance,\n",
    "    orient='index',\n",
    "    columns=['train', 'test', 'train+test', 'holdout']\n",
    ").reset_index()\n",
    "\n",
    "all_performance_df"
   ]
  },
  {
   "cell_type": "code",
   "execution_count": 36,
   "metadata": {},
   "outputs": [
    {
     "data": {
      "text/html": [
       "<div>\n",
       "<style scoped>\n",
       "    .dataframe tbody tr th:only-of-type {\n",
       "        vertical-align: middle;\n",
       "    }\n",
       "\n",
       "    .dataframe tbody tr th {\n",
       "        vertical-align: top;\n",
       "    }\n",
       "\n",
       "    .dataframe thead th {\n",
       "        text-align: right;\n",
       "    }\n",
       "</style>\n",
       "<table border=\"1\" class=\"dataframe\">\n",
       "  <thead>\n",
       "    <tr style=\"text-align: right;\">\n",
       "      <th></th>\n",
       "      <th>index</th>\n",
       "      <th>variable</th>\n",
       "      <th>value</th>\n",
       "    </tr>\n",
       "  </thead>\n",
       "  <tbody>\n",
       "    <tr>\n",
       "      <th>0</th>\n",
       "      <td>(3, auto, 0.5)</td>\n",
       "      <td>train</td>\n",
       "      <td>8.703521</td>\n",
       "    </tr>\n",
       "    <tr>\n",
       "      <th>1</th>\n",
       "      <td>(4, auto, 0.75)</td>\n",
       "      <td>train</td>\n",
       "      <td>7.521834</td>\n",
       "    </tr>\n",
       "    <tr>\n",
       "      <th>2</th>\n",
       "      <td>(2, auto, 0.75)</td>\n",
       "      <td>train</td>\n",
       "      <td>10.411193</td>\n",
       "    </tr>\n",
       "    <tr>\n",
       "      <th>3</th>\n",
       "      <td>(6, auto, 0.5)</td>\n",
       "      <td>train</td>\n",
       "      <td>8.407073</td>\n",
       "    </tr>\n",
       "    <tr>\n",
       "      <th>4</th>\n",
       "      <td>(4, log2, 0.5)</td>\n",
       "      <td>train</td>\n",
       "      <td>9.471612</td>\n",
       "    </tr>\n",
       "    <tr>\n",
       "      <th>5</th>\n",
       "      <td>(3, sqrt, 0.75)</td>\n",
       "      <td>train</td>\n",
       "      <td>9.942242</td>\n",
       "    </tr>\n",
       "    <tr>\n",
       "      <th>6</th>\n",
       "      <td>(3, auto, 0.5)</td>\n",
       "      <td>test</td>\n",
       "      <td>10.829725</td>\n",
       "    </tr>\n",
       "    <tr>\n",
       "      <th>7</th>\n",
       "      <td>(4, auto, 0.75)</td>\n",
       "      <td>test</td>\n",
       "      <td>10.940467</td>\n",
       "    </tr>\n",
       "    <tr>\n",
       "      <th>8</th>\n",
       "      <td>(2, auto, 0.75)</td>\n",
       "      <td>test</td>\n",
       "      <td>11.864202</td>\n",
       "    </tr>\n",
       "    <tr>\n",
       "      <th>9</th>\n",
       "      <td>(6, auto, 0.5)</td>\n",
       "      <td>test</td>\n",
       "      <td>12.291085</td>\n",
       "    </tr>\n",
       "    <tr>\n",
       "      <th>10</th>\n",
       "      <td>(4, log2, 0.5)</td>\n",
       "      <td>test</td>\n",
       "      <td>12.918625</td>\n",
       "    </tr>\n",
       "    <tr>\n",
       "      <th>11</th>\n",
       "      <td>(3, sqrt, 0.75)</td>\n",
       "      <td>test</td>\n",
       "      <td>12.563745</td>\n",
       "    </tr>\n",
       "    <tr>\n",
       "      <th>12</th>\n",
       "      <td>(3, auto, 0.5)</td>\n",
       "      <td>train+test</td>\n",
       "      <td>8.989635</td>\n",
       "    </tr>\n",
       "    <tr>\n",
       "      <th>13</th>\n",
       "      <td>(4, auto, 0.75)</td>\n",
       "      <td>train+test</td>\n",
       "      <td>7.222175</td>\n",
       "    </tr>\n",
       "    <tr>\n",
       "      <th>14</th>\n",
       "      <td>(2, auto, 0.75)</td>\n",
       "      <td>train+test</td>\n",
       "      <td>9.456520</td>\n",
       "    </tr>\n",
       "    <tr>\n",
       "      <th>15</th>\n",
       "      <td>(6, auto, 0.5)</td>\n",
       "      <td>train+test</td>\n",
       "      <td>7.054994</td>\n",
       "    </tr>\n",
       "    <tr>\n",
       "      <th>16</th>\n",
       "      <td>(4, log2, 0.5)</td>\n",
       "      <td>train+test</td>\n",
       "      <td>8.367248</td>\n",
       "    </tr>\n",
       "    <tr>\n",
       "      <th>17</th>\n",
       "      <td>(3, sqrt, 0.75)</td>\n",
       "      <td>train+test</td>\n",
       "      <td>9.266201</td>\n",
       "    </tr>\n",
       "    <tr>\n",
       "      <th>18</th>\n",
       "      <td>(3, auto, 0.5)</td>\n",
       "      <td>holdout</td>\n",
       "      <td>12.461160</td>\n",
       "    </tr>\n",
       "    <tr>\n",
       "      <th>19</th>\n",
       "      <td>(4, auto, 0.75)</td>\n",
       "      <td>holdout</td>\n",
       "      <td>10.421275</td>\n",
       "    </tr>\n",
       "    <tr>\n",
       "      <th>20</th>\n",
       "      <td>(2, auto, 0.75)</td>\n",
       "      <td>holdout</td>\n",
       "      <td>11.249991</td>\n",
       "    </tr>\n",
       "    <tr>\n",
       "      <th>21</th>\n",
       "      <td>(6, auto, 0.5)</td>\n",
       "      <td>holdout</td>\n",
       "      <td>12.057749</td>\n",
       "    </tr>\n",
       "    <tr>\n",
       "      <th>22</th>\n",
       "      <td>(4, log2, 0.5)</td>\n",
       "      <td>holdout</td>\n",
       "      <td>13.132174</td>\n",
       "    </tr>\n",
       "    <tr>\n",
       "      <th>23</th>\n",
       "      <td>(3, sqrt, 0.75)</td>\n",
       "      <td>holdout</td>\n",
       "      <td>14.100427</td>\n",
       "    </tr>\n",
       "  </tbody>\n",
       "</table>\n",
       "</div>"
      ],
      "text/plain": [
       "              index    variable      value\n",
       "0    (3, auto, 0.5)       train   8.703521\n",
       "1   (4, auto, 0.75)       train   7.521834\n",
       "2   (2, auto, 0.75)       train  10.411193\n",
       "3    (6, auto, 0.5)       train   8.407073\n",
       "4    (4, log2, 0.5)       train   9.471612\n",
       "5   (3, sqrt, 0.75)       train   9.942242\n",
       "6    (3, auto, 0.5)        test  10.829725\n",
       "7   (4, auto, 0.75)        test  10.940467\n",
       "8   (2, auto, 0.75)        test  11.864202\n",
       "9    (6, auto, 0.5)        test  12.291085\n",
       "10   (4, log2, 0.5)        test  12.918625\n",
       "11  (3, sqrt, 0.75)        test  12.563745\n",
       "12   (3, auto, 0.5)  train+test   8.989635\n",
       "13  (4, auto, 0.75)  train+test   7.222175\n",
       "14  (2, auto, 0.75)  train+test   9.456520\n",
       "15   (6, auto, 0.5)  train+test   7.054994\n",
       "16   (4, log2, 0.5)  train+test   8.367248\n",
       "17  (3, sqrt, 0.75)  train+test   9.266201\n",
       "18   (3, auto, 0.5)     holdout  12.461160\n",
       "19  (4, auto, 0.75)     holdout  10.421275\n",
       "20  (2, auto, 0.75)     holdout  11.249991\n",
       "21   (6, auto, 0.5)     holdout  12.057749\n",
       "22   (4, log2, 0.5)     holdout  13.132174\n",
       "23  (3, sqrt, 0.75)     holdout  14.100427"
      ]
     },
     "execution_count": 36,
     "metadata": {},
     "output_type": "execute_result"
    }
   ],
   "source": [
    "# Melt for proper group bargraphing\n",
    "all_performance_df_melt = pd.melt(all_performance_df, id_vars='index')\n",
    "\n",
    "all_performance_df_melt"
   ]
  },
  {
   "cell_type": "code",
   "execution_count": 37,
   "metadata": {},
   "outputs": [
    {
     "data": {
      "text/plain": [
       "Text(0, 0.5, 'AMSE')"
      ]
     },
     "execution_count": 37,
     "metadata": {},
     "output_type": "execute_result"
    },
    {
     "data": {
      "image/png": "[encoded data removed]",
      "text/plain": [
       "<Figure size 1440x360 with 1 Axes>"
      ]
     },
     "metadata": {
      "needs_background": "light"
     },
     "output_type": "display_data"
    }
   ],
   "source": [
    "# Plot\n",
    "plt.figure(figsize=(20, 5))\n",
    "sb.barplot(\n",
    "    data=all_performance_df_melt,\n",
    "    x='index',\n",
    "    y='value',\n",
    "    hue='variable',\n",
    ")\n",
    "plt.xlabel('Hyperparameter set')\n",
    "plt.ylabel('AMSE')"
   ]
  },
  {
   "cell_type": "code",
   "execution_count": 38,
   "metadata": {},
   "outputs": [
    {
     "data": {
      "text/plain": [
       "Text(0, 0.5, 'AMSE')"
      ]
     },
     "execution_count": 38,
     "metadata": {},
     "output_type": "execute_result"
    },
    {
     "data": {
      "image/png": "[encoded data removed]",
      "text/plain": [
       "<Figure size 1440x360 with 1 Axes>"
      ]
     },
     "metadata": {
      "needs_background": "light"
     },
     "output_type": "display_data"
    }
   ],
   "source": [
    "# Plot just holdout performance\n",
    "plt.figure(figsize=(20, 5))\n",
    "sb.barplot(\n",
    "    data=all_performance_df_melt[all_performance_df_melt.variable == 'holdout'],\n",
    "    x='index',\n",
    "    y='value',\n",
    ")\n",
    "plt.xlabel('Hyperparameter set')\n",
    "plt.ylabel('AMSE')"
   ]
  },
  {
   "cell_type": "markdown",
   "metadata": {},
   "source": [
    "(4, auto, 0.75) seems like the best all-around fit:\n",
    "\n",
    "- Second best performance on the test data (though incredibly close to the best) and best performance on the holdout data\n",
    "    - There's a lot of room for muddiness in picking between models that seem to be performing similarly, so \"average\" performance across test/holdout is something I usually use in making final decisions on which model to use\n",
    "    - But, sometimes, the best thing to do is run multiple models in parallel in a \"staging\" type setup to see how they perform on new data and then make a final decision\n",
    "- Similar performance on holdout set compared to test set\n",
    "    - I generally index highly on having similar result in test/holdout unless there is a good reason for them to be different\n",
    "\n",
    "Some other notes:\n",
    "\n",
    "- (6, auto, 0.5) had the best performances on train-only and train/test-only data but worse performance on test and holdout (i.e. overfitting!)\n",
    "    - As stated previously in the notebook, this is likely due to not having any sort of regularization (e.g. pruning, requiring a certain sample size) to balance tree complexity with accuracy\n",
    "- The 'sqrt' and 'log' models don't do as well (they usually do right out of the box)\n",
    "    - This is likely due to us restricting to only strong predictors at the outset, so when we sample those predictors we are excluding information that would likely be helpful"
   ]
  },
  {
   "cell_type": "code",
   "execution_count": null,
   "metadata": {},
   "outputs": [],
   "source": []
  }
 ],
 "metadata": {
  "kernelspec": {
   "display_name": "Python 3",
   "language": "python",
   "name": "python3"
  },
  "language_info": {
   "codemirror_mode": {
    "name": "ipython",
    "version": 3
   },
   "file_extension": ".py",
   "mimetype": "text/x-python",
   "name": "python",
   "nbconvert_exporter": "python",
   "pygments_lexer": "ipython3",
   "version": "3.8.1"
  }
 },
 "nbformat": 4,
 "nbformat_minor": 4
}
