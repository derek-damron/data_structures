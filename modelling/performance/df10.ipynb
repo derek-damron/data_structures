{
 "cells": [
  {
   "cell_type": "code",
   "execution_count": 1,
   "metadata": {},
   "outputs": [],
   "source": [
    "import pandas as pd\n",
    "import numpy as np\n",
    "import matplotlib.pyplot as plt\n",
    "import seaborn as sb\n",
    "from itertools import product\n",
    "\n",
    "import statsmodels.api as sm\n",
    "import statsmodels.formula.api as smf\n",
    "\n",
    "from sklearn.model_selection import train_test_split, cross_val_score\n",
    "from sklearn.tree import DecisionTreeRegressor\n",
    "from sklearn.ensemble import RandomForestRegressor, GradientBoostingRegressor"
   ]
  },
  {
   "cell_type": "code",
   "execution_count": 2,
   "metadata": {},
   "outputs": [],
   "source": [
    "# Read in \n",
    "df10 = pd.read_csv('../data/df10.csv')"
   ]
  },
  {
   "cell_type": "code",
   "execution_count": 3,
   "metadata": {},
   "outputs": [
    {
     "data": {
      "text/html": [
       "<div>\n",
       "<style scoped>\n",
       "    .dataframe tbody tr th:only-of-type {\n",
       "        vertical-align: middle;\n",
       "    }\n",
       "\n",
       "    .dataframe tbody tr th {\n",
       "        vertical-align: top;\n",
       "    }\n",
       "\n",
       "    .dataframe thead th {\n",
       "        text-align: right;\n",
       "    }\n",
       "</style>\n",
       "<table border=\"1\" class=\"dataframe\">\n",
       "  <thead>\n",
       "    <tr style=\"text-align: right;\">\n",
       "      <th></th>\n",
       "      <th>x1</th>\n",
       "      <th>x2</th>\n",
       "      <th>x3</th>\n",
       "      <th>x4</th>\n",
       "      <th>x5</th>\n",
       "      <th>x6</th>\n",
       "      <th>x7</th>\n",
       "      <th>x8</th>\n",
       "      <th>x9</th>\n",
       "      <th>x10</th>\n",
       "      <th>y</th>\n",
       "    </tr>\n",
       "  </thead>\n",
       "  <tbody>\n",
       "    <tr>\n",
       "      <th>0</th>\n",
       "      <td>0.611402</td>\n",
       "      <td>0.720283</td>\n",
       "      <td>3.165168</td>\n",
       "      <td>0.372100</td>\n",
       "      <td>-0.360194</td>\n",
       "      <td>6.417779</td>\n",
       "      <td>A2</td>\n",
       "      <td>B3</td>\n",
       "      <td>C16</td>\n",
       "      <td>D1</td>\n",
       "      <td>-16.680112</td>\n",
       "    </tr>\n",
       "    <tr>\n",
       "      <th>1</th>\n",
       "      <td>-0.463374</td>\n",
       "      <td>-0.908280</td>\n",
       "      <td>3.046919</td>\n",
       "      <td>0.866590</td>\n",
       "      <td>0.949304</td>\n",
       "      <td>6.142320</td>\n",
       "      <td>A1</td>\n",
       "      <td>B2</td>\n",
       "      <td>C6</td>\n",
       "      <td>D3</td>\n",
       "      <td>-0.347247</td>\n",
       "    </tr>\n",
       "    <tr>\n",
       "      <th>2</th>\n",
       "      <td>-0.004264</td>\n",
       "      <td>-2.710478</td>\n",
       "      <td>3.629876</td>\n",
       "      <td>0.587660</td>\n",
       "      <td>-0.413790</td>\n",
       "      <td>7.196720</td>\n",
       "      <td>A2</td>\n",
       "      <td>B1</td>\n",
       "      <td>C10</td>\n",
       "      <td>D3</td>\n",
       "      <td>-13.192616</td>\n",
       "    </tr>\n",
       "    <tr>\n",
       "      <th>3</th>\n",
       "      <td>0.310406</td>\n",
       "      <td>-0.511657</td>\n",
       "      <td>3.269785</td>\n",
       "      <td>3.036609</td>\n",
       "      <td>-0.430169</td>\n",
       "      <td>6.363889</td>\n",
       "      <td>A2</td>\n",
       "      <td>B5</td>\n",
       "      <td>C33</td>\n",
       "      <td>D2</td>\n",
       "      <td>0.764504</td>\n",
       "    </tr>\n",
       "    <tr>\n",
       "      <th>4</th>\n",
       "      <td>-2.537362</td>\n",
       "      <td>0.594968</td>\n",
       "      <td>1.731083</td>\n",
       "      <td>0.616347</td>\n",
       "      <td>1.753629</td>\n",
       "      <td>3.273066</td>\n",
       "      <td>A1</td>\n",
       "      <td>B1</td>\n",
       "      <td>C6</td>\n",
       "      <td>D3</td>\n",
       "      <td>1.757865</td>\n",
       "    </tr>\n",
       "    <tr>\n",
       "      <th>...</th>\n",
       "      <td>...</td>\n",
       "      <td>...</td>\n",
       "      <td>...</td>\n",
       "      <td>...</td>\n",
       "      <td>...</td>\n",
       "      <td>...</td>\n",
       "      <td>...</td>\n",
       "      <td>...</td>\n",
       "      <td>...</td>\n",
       "      <td>...</td>\n",
       "      <td>...</td>\n",
       "    </tr>\n",
       "    <tr>\n",
       "      <th>9995</th>\n",
       "      <td>0.786519</td>\n",
       "      <td>-0.053336</td>\n",
       "      <td>4.551310</td>\n",
       "      <td>0.503011</td>\n",
       "      <td>-0.332187</td>\n",
       "      <td>8.955659</td>\n",
       "      <td>A2</td>\n",
       "      <td>B4</td>\n",
       "      <td>C48</td>\n",
       "      <td>D2</td>\n",
       "      <td>-5.785166</td>\n",
       "    </tr>\n",
       "    <tr>\n",
       "      <th>9996</th>\n",
       "      <td>-3.341972</td>\n",
       "      <td>-0.603921</td>\n",
       "      <td>2.693938</td>\n",
       "      <td>-0.788320</td>\n",
       "      <td>-0.766215</td>\n",
       "      <td>5.303121</td>\n",
       "      <td>A1</td>\n",
       "      <td>B5</td>\n",
       "      <td>C24</td>\n",
       "      <td>D2</td>\n",
       "      <td>19.692702</td>\n",
       "    </tr>\n",
       "    <tr>\n",
       "      <th>9997</th>\n",
       "      <td>-0.409354</td>\n",
       "      <td>0.337466</td>\n",
       "      <td>3.140098</td>\n",
       "      <td>-1.672133</td>\n",
       "      <td>-0.235241</td>\n",
       "      <td>5.997826</td>\n",
       "      <td>A1</td>\n",
       "      <td>B1</td>\n",
       "      <td>C32</td>\n",
       "      <td>D3</td>\n",
       "      <td>-0.011697</td>\n",
       "    </tr>\n",
       "    <tr>\n",
       "      <th>9998</th>\n",
       "      <td>-2.129938</td>\n",
       "      <td>-0.588379</td>\n",
       "      <td>3.735092</td>\n",
       "      <td>-0.368141</td>\n",
       "      <td>1.876631</td>\n",
       "      <td>7.281910</td>\n",
       "      <td>A2</td>\n",
       "      <td>B1</td>\n",
       "      <td>C16</td>\n",
       "      <td>D3</td>\n",
       "      <td>-17.691367</td>\n",
       "    </tr>\n",
       "    <tr>\n",
       "      <th>9999</th>\n",
       "      <td>1.453831</td>\n",
       "      <td>0.816154</td>\n",
       "      <td>2.819129</td>\n",
       "      <td>0.995390</td>\n",
       "      <td>0.413975</td>\n",
       "      <td>5.655734</td>\n",
       "      <td>A1</td>\n",
       "      <td>B3</td>\n",
       "      <td>C2</td>\n",
       "      <td>D1</td>\n",
       "      <td>-1.421560</td>\n",
       "    </tr>\n",
       "  </tbody>\n",
       "</table>\n",
       "<p>10000 rows × 11 columns</p>\n",
       "</div>"
      ],
      "text/plain": [
       "            x1        x2        x3        x4        x5        x6  x7  x8   x9  \\\n",
       "0     0.611402  0.720283  3.165168  0.372100 -0.360194  6.417779  A2  B3  C16   \n",
       "1    -0.463374 -0.908280  3.046919  0.866590  0.949304  6.142320  A1  B2   C6   \n",
       "2    -0.004264 -2.710478  3.629876  0.587660 -0.413790  7.196720  A2  B1  C10   \n",
       "3     0.310406 -0.511657  3.269785  3.036609 -0.430169  6.363889  A2  B5  C33   \n",
       "4    -2.537362  0.594968  1.731083  0.616347  1.753629  3.273066  A1  B1   C6   \n",
       "...        ...       ...       ...       ...       ...       ...  ..  ..  ...   \n",
       "9995  0.786519 -0.053336  4.551310  0.503011 -0.332187  8.955659  A2  B4  C48   \n",
       "9996 -3.341972 -0.603921  2.693938 -0.788320 -0.766215  5.303121  A1  B5  C24   \n",
       "9997 -0.409354  0.337466  3.140098 -1.672133 -0.235241  5.997826  A1  B1  C32   \n",
       "9998 -2.129938 -0.588379  3.735092 -0.368141  1.876631  7.281910  A2  B1  C16   \n",
       "9999  1.453831  0.816154  2.819129  0.995390  0.413975  5.655734  A1  B3   C2   \n",
       "\n",
       "     x10          y  \n",
       "0     D1 -16.680112  \n",
       "1     D3  -0.347247  \n",
       "2     D3 -13.192616  \n",
       "3     D2   0.764504  \n",
       "4     D3   1.757865  \n",
       "...   ..        ...  \n",
       "9995  D2  -5.785166  \n",
       "9996  D2  19.692702  \n",
       "9997  D3  -0.011697  \n",
       "9998  D3 -17.691367  \n",
       "9999  D1  -1.421560  \n",
       "\n",
       "[10000 rows x 11 columns]"
      ]
     },
     "execution_count": 3,
     "metadata": {},
     "output_type": "execute_result"
    }
   ],
   "source": [
    "# Inspect\n",
    "df10"
   ]
  },
  {
   "cell_type": "code",
   "execution_count": 4,
   "metadata": {},
   "outputs": [],
   "source": [
    "# Set random seed\n",
    "np.random.seed(666)"
   ]
  },
  {
   "cell_type": "markdown",
   "metadata": {},
   "source": [
    "# First attempt\n",
    "\n",
    "- Ignore x9\n",
    "- 60/20/20 train/test/holdout [6k/2k/2k rows]\n",
    "- Within train, 6-fold cross-validation to optimize hyperparameters:\n",
    "    - `max_depth` = 2-8\n",
    "    - `max_features` = 'auto', 'sqrt', 'log2'\n",
    "    - `subsample` = 0.5, 0.67, 0.75\n",
    "    - Static parameters\n",
    "        - `n_estimators` = 1k\n",
    "        - `validation_fraction` = 0.2\n",
    "        - `n_iter_no_change` = 1\n",
    "        - `tol` = 1e-4\n",
    "        \n",
    "Also, will not include x3 and x6 because they were not found to have much relationship with y."
   ]
  },
  {
   "cell_type": "code",
   "execution_count": 5,
   "metadata": {},
   "outputs": [],
   "source": [
    "# Train/test/holdout vars\n",
    "p_train = 0.6\n",
    "p_test = 0.2\n",
    "p_test_relative = p_test / (p_train + p_test)\n",
    "p_holdout = 0.2\n",
    "k_folds = 6\n",
    "\n",
    "# Static hyperparameters\n",
    "s_n_estimators = 1000\n",
    "s_validation_fraction = 0.2\n",
    "s_n_iter_no_change = 1\n",
    "s_tol = 1e-4\n",
    "\n",
    "# Lists of hyperparameters to optimize\n",
    "l_max_depth = [2, 3, 4, 5, 6, 7, 8]\n",
    "l_max_features = ['auto', 'sqrt', 'log2']\n",
    "l_subsample = [0.5, 0.67, 0.75]"
   ]
  },
  {
   "cell_type": "code",
   "execution_count": 6,
   "metadata": {},
   "outputs": [
    {
     "name": "stdout",
     "output_type": "stream",
     "text": [
      "\n",
      "Train: (6000, 16)\n",
      "Test: (2000, 16)\n",
      "Holdout: (2000, 16)\n",
      "\n"
     ]
    }
   ],
   "source": [
    "# Add some x2 predictors\n",
    "df10['x2_abs'] = abs(df10['x2'])\n",
    "df10['x2_sign'] = np.sign(df10['x2'])\n",
    "\n",
    "# Create X/y\n",
    "predictors_1 = ['x1', 'x2', 'x2_abs', 'x2_sign', 'x4', 'x5', 'x7', 'x8', 'x10']\n",
    "X, y = pd.get_dummies(df10[predictors_1], prefix=['x7', 'x8', 'x10']), df10['y']\n",
    "\n",
    "# Split train/test/holdout\n",
    "X_train, X_holdout, y_train, y_holdout = train_test_split(X, y, test_size=p_holdout, random_state=1)\n",
    "X_train, X_test, y_train, y_test = train_test_split(X_train, y_train, test_size=p_test_relative, random_state=2)\n",
    "\n",
    "# Check counts\n",
    "print(f'''\n",
    "Train: {X_train.shape}\n",
    "Test: {X_test.shape}\n",
    "Holdout: {X_holdout.shape}\n",
    "''')"
   ]
  },
  {
   "cell_type": "code",
   "execution_count": 7,
   "metadata": {},
   "outputs": [
    {
     "data": {
      "text/plain": [
       "63"
      ]
     },
     "execution_count": 7,
     "metadata": {},
     "output_type": "execute_result"
    }
   ],
   "source": [
    "# How many iterations of cross-validation?\n",
    "hp_sets = list(product(l_max_depth, l_max_features, l_subsample))\n",
    "\n",
    "len(hp_sets)"
   ]
  },
  {
   "cell_type": "code",
   "execution_count": 8,
   "metadata": {},
   "outputs": [
    {
     "name": "stdout",
     "output_type": "stream",
     "text": [
      "Fitting max_depth=2, max_features=auto, subsample=0.5\n",
      "Fitting max_depth=2, max_features=auto, subsample=0.67\n",
      "Fitting max_depth=2, max_features=auto, subsample=0.75\n",
      "Fitting max_depth=2, max_features=sqrt, subsample=0.5\n",
      "Fitting max_depth=2, max_features=sqrt, subsample=0.67\n",
      "Fitting max_depth=2, max_features=sqrt, subsample=0.75\n",
      "Fitting max_depth=2, max_features=log2, subsample=0.5\n",
      "Fitting max_depth=2, max_features=log2, subsample=0.67\n",
      "Fitting max_depth=2, max_features=log2, subsample=0.75\n",
      "Fitting max_depth=3, max_features=auto, subsample=0.5\n",
      "Fitting max_depth=3, max_features=auto, subsample=0.67\n",
      "Fitting max_depth=3, max_features=auto, subsample=0.75\n",
      "Fitting max_depth=3, max_features=sqrt, subsample=0.5\n",
      "Fitting max_depth=3, max_features=sqrt, subsample=0.67\n",
      "Fitting max_depth=3, max_features=sqrt, subsample=0.75\n",
      "Fitting max_depth=3, max_features=log2, subsample=0.5\n",
      "Fitting max_depth=3, max_features=log2, subsample=0.67\n",
      "Fitting max_depth=3, max_features=log2, subsample=0.75\n",
      "Fitting max_depth=4, max_features=auto, subsample=0.5\n",
      "Fitting max_depth=4, max_features=auto, subsample=0.67\n",
      "Fitting max_depth=4, max_features=auto, subsample=0.75\n",
      "Fitting max_depth=4, max_features=sqrt, subsample=0.5\n",
      "Fitting max_depth=4, max_features=sqrt, subsample=0.67\n",
      "Fitting max_depth=4, max_features=sqrt, subsample=0.75\n",
      "Fitting max_depth=4, max_features=log2, subsample=0.5\n",
      "Fitting max_depth=4, max_features=log2, subsample=0.67\n",
      "Fitting max_depth=4, max_features=log2, subsample=0.75\n",
      "Fitting max_depth=5, max_features=auto, subsample=0.5\n",
      "Fitting max_depth=5, max_features=auto, subsample=0.67\n",
      "Fitting max_depth=5, max_features=auto, subsample=0.75\n",
      "Fitting max_depth=5, max_features=sqrt, subsample=0.5\n",
      "Fitting max_depth=5, max_features=sqrt, subsample=0.67\n",
      "Fitting max_depth=5, max_features=sqrt, subsample=0.75\n",
      "Fitting max_depth=5, max_features=log2, subsample=0.5\n",
      "Fitting max_depth=5, max_features=log2, subsample=0.67\n",
      "Fitting max_depth=5, max_features=log2, subsample=0.75\n",
      "Fitting max_depth=6, max_features=auto, subsample=0.5\n",
      "Fitting max_depth=6, max_features=auto, subsample=0.67\n",
      "Fitting max_depth=6, max_features=auto, subsample=0.75\n",
      "Fitting max_depth=6, max_features=sqrt, subsample=0.5\n",
      "Fitting max_depth=6, max_features=sqrt, subsample=0.67\n",
      "Fitting max_depth=6, max_features=sqrt, subsample=0.75\n",
      "Fitting max_depth=6, max_features=log2, subsample=0.5\n",
      "Fitting max_depth=6, max_features=log2, subsample=0.67\n",
      "Fitting max_depth=6, max_features=log2, subsample=0.75\n",
      "Fitting max_depth=7, max_features=auto, subsample=0.5\n",
      "Fitting max_depth=7, max_features=auto, subsample=0.67\n",
      "Fitting max_depth=7, max_features=auto, subsample=0.75\n",
      "Fitting max_depth=7, max_features=sqrt, subsample=0.5\n",
      "Fitting max_depth=7, max_features=sqrt, subsample=0.67\n",
      "Fitting max_depth=7, max_features=sqrt, subsample=0.75\n",
      "Fitting max_depth=7, max_features=log2, subsample=0.5\n",
      "Fitting max_depth=7, max_features=log2, subsample=0.67\n",
      "Fitting max_depth=7, max_features=log2, subsample=0.75\n",
      "Fitting max_depth=8, max_features=auto, subsample=0.5\n",
      "Fitting max_depth=8, max_features=auto, subsample=0.67\n",
      "Fitting max_depth=8, max_features=auto, subsample=0.75\n",
      "Fitting max_depth=8, max_features=sqrt, subsample=0.5\n",
      "Fitting max_depth=8, max_features=sqrt, subsample=0.67\n",
      "Fitting max_depth=8, max_features=sqrt, subsample=0.75\n",
      "Fitting max_depth=8, max_features=log2, subsample=0.5\n",
      "Fitting max_depth=8, max_features=log2, subsample=0.67\n",
      "Fitting max_depth=8, max_features=log2, subsample=0.75\n"
     ]
    }
   ],
   "source": [
    "scores_1 = []\n",
    "for md, mf, ss in hp_sets:\n",
    "    # Print status\n",
    "    print(f'Fitting max_depth={md}, max_features={mf}, subsample={ss}')\n",
    "    \n",
    "    # Initialize gbm\n",
    "    gbm = GradientBoostingRegressor(\n",
    "        # Static hyperparameters\n",
    "        n_estimators = s_n_estimators,\n",
    "        validation_fraction = s_validation_fraction,\n",
    "        n_iter_no_change = s_n_iter_no_change,\n",
    "        tol = s_tol,\n",
    "        # Dynamic hyperparameters\n",
    "        max_depth = md,\n",
    "        max_features = mf,\n",
    "        subsample = ss,\n",
    "    )\n",
    "\n",
    "    # Get scores\n",
    "    cv_score = cross_val_score(\n",
    "        gbm,\n",
    "        X_train,\n",
    "        y_train,\n",
    "        cv = k_folds,\n",
    "        scoring = 'neg_mean_squared_error',\n",
    "        n_jobs = -1\n",
    "    ) \n",
    "\n",
    "    # Save the score means and standard deviations\n",
    "    for i, k in enumerate(cv_score):\n",
    "        scores_1 += [((md, mf, ss), i, k, np.mean(cv_score))]\n",
    "    \n",
    "    del gbm, cv_score"
   ]
  },
  {
   "cell_type": "code",
   "execution_count": 9,
   "metadata": {},
   "outputs": [
    {
     "data": {
      "text/html": [
       "<div>\n",
       "<style scoped>\n",
       "    .dataframe tbody tr th:only-of-type {\n",
       "        vertical-align: middle;\n",
       "    }\n",
       "\n",
       "    .dataframe tbody tr th {\n",
       "        vertical-align: top;\n",
       "    }\n",
       "\n",
       "    .dataframe thead th {\n",
       "        text-align: right;\n",
       "    }\n",
       "</style>\n",
       "<table border=\"1\" class=\"dataframe\">\n",
       "  <thead>\n",
       "    <tr style=\"text-align: right;\">\n",
       "      <th></th>\n",
       "      <th>index</th>\n",
       "      <th>hp</th>\n",
       "      <th>k</th>\n",
       "      <th>score_k</th>\n",
       "      <th>score_hp_mean</th>\n",
       "    </tr>\n",
       "  </thead>\n",
       "  <tbody>\n",
       "    <tr>\n",
       "      <th>0</th>\n",
       "      <td>66</td>\n",
       "      <td>(3, auto, 0.75)</td>\n",
       "      <td>0</td>\n",
       "      <td>-57.627726</td>\n",
       "      <td>-61.303416</td>\n",
       "    </tr>\n",
       "    <tr>\n",
       "      <th>1</th>\n",
       "      <td>67</td>\n",
       "      <td>(3, auto, 0.75)</td>\n",
       "      <td>1</td>\n",
       "      <td>-59.927675</td>\n",
       "      <td>-61.303416</td>\n",
       "    </tr>\n",
       "    <tr>\n",
       "      <th>2</th>\n",
       "      <td>68</td>\n",
       "      <td>(3, auto, 0.75)</td>\n",
       "      <td>2</td>\n",
       "      <td>-62.608862</td>\n",
       "      <td>-61.303416</td>\n",
       "    </tr>\n",
       "    <tr>\n",
       "      <th>3</th>\n",
       "      <td>69</td>\n",
       "      <td>(3, auto, 0.75)</td>\n",
       "      <td>3</td>\n",
       "      <td>-58.605912</td>\n",
       "      <td>-61.303416</td>\n",
       "    </tr>\n",
       "    <tr>\n",
       "      <th>4</th>\n",
       "      <td>70</td>\n",
       "      <td>(3, auto, 0.75)</td>\n",
       "      <td>4</td>\n",
       "      <td>-64.853921</td>\n",
       "      <td>-61.303416</td>\n",
       "    </tr>\n",
       "    <tr>\n",
       "      <th>5</th>\n",
       "      <td>71</td>\n",
       "      <td>(3, auto, 0.75)</td>\n",
       "      <td>5</td>\n",
       "      <td>-64.196400</td>\n",
       "      <td>-61.303416</td>\n",
       "    </tr>\n",
       "    <tr>\n",
       "      <th>6</th>\n",
       "      <td>108</td>\n",
       "      <td>(4, auto, 0.5)</td>\n",
       "      <td>0</td>\n",
       "      <td>-59.429643</td>\n",
       "      <td>-61.668906</td>\n",
       "    </tr>\n",
       "    <tr>\n",
       "      <th>7</th>\n",
       "      <td>109</td>\n",
       "      <td>(4, auto, 0.5)</td>\n",
       "      <td>1</td>\n",
       "      <td>-60.317286</td>\n",
       "      <td>-61.668906</td>\n",
       "    </tr>\n",
       "    <tr>\n",
       "      <th>8</th>\n",
       "      <td>110</td>\n",
       "      <td>(4, auto, 0.5)</td>\n",
       "      <td>2</td>\n",
       "      <td>-63.072704</td>\n",
       "      <td>-61.668906</td>\n",
       "    </tr>\n",
       "    <tr>\n",
       "      <th>9</th>\n",
       "      <td>111</td>\n",
       "      <td>(4, auto, 0.5)</td>\n",
       "      <td>3</td>\n",
       "      <td>-59.374377</td>\n",
       "      <td>-61.668906</td>\n",
       "    </tr>\n",
       "    <tr>\n",
       "      <th>10</th>\n",
       "      <td>112</td>\n",
       "      <td>(4, auto, 0.5)</td>\n",
       "      <td>4</td>\n",
       "      <td>-64.341029</td>\n",
       "      <td>-61.668906</td>\n",
       "    </tr>\n",
       "    <tr>\n",
       "      <th>11</th>\n",
       "      <td>113</td>\n",
       "      <td>(4, auto, 0.5)</td>\n",
       "      <td>5</td>\n",
       "      <td>-63.478398</td>\n",
       "      <td>-61.668906</td>\n",
       "    </tr>\n",
       "    <tr>\n",
       "      <th>12</th>\n",
       "      <td>12</td>\n",
       "      <td>(2, auto, 0.75)</td>\n",
       "      <td>0</td>\n",
       "      <td>-57.707249</td>\n",
       "      <td>-61.944021</td>\n",
       "    </tr>\n",
       "    <tr>\n",
       "      <th>13</th>\n",
       "      <td>13</td>\n",
       "      <td>(2, auto, 0.75)</td>\n",
       "      <td>1</td>\n",
       "      <td>-60.111109</td>\n",
       "      <td>-61.944021</td>\n",
       "    </tr>\n",
       "    <tr>\n",
       "      <th>14</th>\n",
       "      <td>14</td>\n",
       "      <td>(2, auto, 0.75)</td>\n",
       "      <td>2</td>\n",
       "      <td>-63.732541</td>\n",
       "      <td>-61.944021</td>\n",
       "    </tr>\n",
       "    <tr>\n",
       "      <th>15</th>\n",
       "      <td>15</td>\n",
       "      <td>(2, auto, 0.75)</td>\n",
       "      <td>3</td>\n",
       "      <td>-58.680675</td>\n",
       "      <td>-61.944021</td>\n",
       "    </tr>\n",
       "    <tr>\n",
       "      <th>16</th>\n",
       "      <td>16</td>\n",
       "      <td>(2, auto, 0.75)</td>\n",
       "      <td>4</td>\n",
       "      <td>-64.796574</td>\n",
       "      <td>-61.944021</td>\n",
       "    </tr>\n",
       "    <tr>\n",
       "      <th>17</th>\n",
       "      <td>17</td>\n",
       "      <td>(2, auto, 0.75)</td>\n",
       "      <td>5</td>\n",
       "      <td>-66.635977</td>\n",
       "      <td>-61.944021</td>\n",
       "    </tr>\n",
       "    <tr>\n",
       "      <th>18</th>\n",
       "      <td>54</td>\n",
       "      <td>(3, auto, 0.5)</td>\n",
       "      <td>0</td>\n",
       "      <td>-57.872219</td>\n",
       "      <td>-61.982729</td>\n",
       "    </tr>\n",
       "    <tr>\n",
       "      <th>19</th>\n",
       "      <td>55</td>\n",
       "      <td>(3, auto, 0.5)</td>\n",
       "      <td>1</td>\n",
       "      <td>-60.618030</td>\n",
       "      <td>-61.982729</td>\n",
       "    </tr>\n",
       "  </tbody>\n",
       "</table>\n",
       "</div>"
      ],
      "text/plain": [
       "    index               hp  k    score_k  score_hp_mean\n",
       "0      66  (3, auto, 0.75)  0 -57.627726     -61.303416\n",
       "1      67  (3, auto, 0.75)  1 -59.927675     -61.303416\n",
       "2      68  (3, auto, 0.75)  2 -62.608862     -61.303416\n",
       "3      69  (3, auto, 0.75)  3 -58.605912     -61.303416\n",
       "4      70  (3, auto, 0.75)  4 -64.853921     -61.303416\n",
       "5      71  (3, auto, 0.75)  5 -64.196400     -61.303416\n",
       "6     108   (4, auto, 0.5)  0 -59.429643     -61.668906\n",
       "7     109   (4, auto, 0.5)  1 -60.317286     -61.668906\n",
       "8     110   (4, auto, 0.5)  2 -63.072704     -61.668906\n",
       "9     111   (4, auto, 0.5)  3 -59.374377     -61.668906\n",
       "10    112   (4, auto, 0.5)  4 -64.341029     -61.668906\n",
       "11    113   (4, auto, 0.5)  5 -63.478398     -61.668906\n",
       "12     12  (2, auto, 0.75)  0 -57.707249     -61.944021\n",
       "13     13  (2, auto, 0.75)  1 -60.111109     -61.944021\n",
       "14     14  (2, auto, 0.75)  2 -63.732541     -61.944021\n",
       "15     15  (2, auto, 0.75)  3 -58.680675     -61.944021\n",
       "16     16  (2, auto, 0.75)  4 -64.796574     -61.944021\n",
       "17     17  (2, auto, 0.75)  5 -66.635977     -61.944021\n",
       "18     54   (3, auto, 0.5)  0 -57.872219     -61.982729\n",
       "19     55   (3, auto, 0.5)  1 -60.618030     -61.982729"
      ]
     },
     "execution_count": 9,
     "metadata": {},
     "output_type": "execute_result"
    }
   ],
   "source": [
    "# Save results as a dataframe\n",
    "scores_1_df = pd.DataFrame(\n",
    "    scores_1,\n",
    "    columns = ['hp', 'k', 'score_k', 'score_hp_mean']\n",
    ")\n",
    "\n",
    "# Order by score_hp_mean and k\n",
    "scores_1_df = scores_1_df.sort_values(['score_hp_mean', 'k'], ascending=[False, True]).reset_index()\n",
    "\n",
    "scores_1_df.head(20)"
   ]
  },
  {
   "cell_type": "code",
   "execution_count": 10,
   "metadata": {},
   "outputs": [
    {
     "data": {
      "text/plain": [
       "<matplotlib.axes._subplots.AxesSubplot at 0xbde0a90>"
      ]
     },
     "execution_count": 10,
     "metadata": {},
     "output_type": "execute_result"
    },
    {
     "data": {
      "image/png": "[encoded data removed]",
      "text/plain": [
       "<Figure size 720x360 with 1 Axes>"
      ]
     },
     "metadata": {
      "needs_background": "light"
     },
     "output_type": "display_data"
    }
   ],
   "source": [
    "# Boxplot of performance for each parameter set\n",
    "plt.figure(figsize=(10, 5))\n",
    "sb.boxplot(\n",
    "    data = scores_1_df,\n",
    "    x = 'hp',\n",
    "    y = 'score_k',\n",
    ")"
   ]
  },
  {
   "cell_type": "code",
   "execution_count": 11,
   "metadata": {},
   "outputs": [
    {
     "data": {
      "text/plain": [
       "array([(3, 'auto', 0.75), (4, 'auto', 0.5), (2, 'auto', 0.75),\n",
       "       (3, 'auto', 0.5), (4, 'auto', 0.75), (3, 'auto', 0.67),\n",
       "       (2, 'auto', 0.5), (2, 'auto', 0.67), (5, 'auto', 0.5),\n",
       "       (5, 'auto', 0.75), (4, 'auto', 0.67), (5, 'auto', 0.67),\n",
       "       (3, 'sqrt', 0.75), (6, 'auto', 0.5), (4, 'sqrt', 0.67),\n",
       "       (6, 'auto', 0.75), (3, 'log2', 0.75), (5, 'sqrt', 0.75),\n",
       "       (3, 'sqrt', 0.5), (4, 'log2', 0.75), (5, 'log2', 0.5),\n",
       "       (4, 'log2', 0.5), (4, 'sqrt', 0.75), (5, 'sqrt', 0.67),\n",
       "       (4, 'log2', 0.67), (4, 'sqrt', 0.5), (5, 'sqrt', 0.5),\n",
       "       (6, 'auto', 0.67), (7, 'auto', 0.67), (5, 'log2', 0.67),\n",
       "       (6, 'sqrt', 0.67), (7, 'auto', 0.5), (6, 'sqrt', 0.75),\n",
       "       (3, 'sqrt', 0.67), (6, 'log2', 0.5), (3, 'log2', 0.67),\n",
       "       (5, 'log2', 0.75), (8, 'auto', 0.5), (8, 'auto', 0.67),\n",
       "       (6, 'log2', 0.67), (6, 'log2', 0.75), (7, 'auto', 0.75),\n",
       "       (7, 'sqrt', 0.75), (2, 'sqrt', 0.75), (6, 'sqrt', 0.5),\n",
       "       (7, 'sqrt', 0.67), (7, 'log2', 0.67), (3, 'log2', 0.5),\n",
       "       (2, 'sqrt', 0.67), (7, 'sqrt', 0.5), (8, 'sqrt', 0.67),\n",
       "       (8, 'log2', 0.75), (7, 'log2', 0.75), (2, 'log2', 0.75),\n",
       "       (8, 'auto', 0.75), (8, 'sqrt', 0.75), (8, 'log2', 0.5),\n",
       "       (7, 'log2', 0.5), (2, 'log2', 0.5), (2, 'sqrt', 0.5),\n",
       "       (8, 'sqrt', 0.5), (8, 'log2', 0.67), (2, 'log2', 0.67)],\n",
       "      dtype=object)"
      ]
     },
     "execution_count": 11,
     "metadata": {},
     "output_type": "execute_result"
    }
   ],
   "source": [
    "# Hyperparameter sets in order\n",
    "scores_1_df.hp.unique()"
   ]
  },
  {
   "cell_type": "markdown",
   "metadata": {},
   "source": [
    "Quite a few of the unique combinations at the beginning are very similar and have rather similar distributional behavior in the boxplot.  In absense of a clear winner, let's proceed with the following parameter sets to provide some variety in models that may fit well on the test set.\n",
    "\n",
    "- (3, 'auto', 0.75)  # Best overall performance\n",
    "- (2, 'auto', 0.75)  # Best 2 depth performance\n",
    "- (4, 'auto', 0.75)  # Best 4 depth performance\n",
    "- (6, 'auto', 0.75)  # Best 6 depth performance\n",
    "- (3, 'log2', 0.67)  # Best log2 performance\n",
    "- (4, 'sqrt', 0.5)  # Best sqrt performance"
   ]
  },
  {
   "cell_type": "code",
   "execution_count": 12,
   "metadata": {},
   "outputs": [
    {
     "name": "stdout",
     "output_type": "stream",
     "text": [
      "Fitting (3, 'auto', 0.75)\n",
      "      Iter       Train Loss      OOB Improve   Remaining Time \n",
      "         1         188.3604          22.2521            6.99s\n",
      "         2         161.1904          20.8613            6.99s\n",
      "         3         154.5030          13.7389            6.98s\n",
      "         4         135.3511          13.0265            6.97s\n",
      "         5         127.4882           9.2971            6.77s\n",
      "         6         119.7117           7.8903            6.79s\n",
      "         7         110.5826           6.6609            6.67s\n",
      "         8         106.7489           5.4957            6.70s\n",
      "         9          99.3549           4.8446            6.72s\n",
      "        10          95.2486           3.4564            6.63s\n",
      "        20          75.4625           0.8525            6.32s\n",
      "        30          65.4856           0.6876            6.21s\n",
      "        40          60.5690           0.1650            6.14s\n",
      "        50          57.9753           0.0975            6.04s\n",
      "        60          55.8284           0.0094            5.97s\n",
      "Fitting (2, 'auto', 0.75)\n",
      "      Iter       Train Loss      OOB Improve   Remaining Time \n",
      "         1         194.4827          19.2145            4.00s\n",
      "         2         171.6534          16.7951            4.49s\n",
      "         3         163.7268          14.0404            4.65s\n",
      "         4         153.3507          10.3652            4.73s\n",
      "         5         140.8270           9.4103            4.58s\n",
      "         6         135.2614           7.2090            4.64s\n",
      "         7         127.0490           6.7487            4.68s\n",
      "         8         118.4177           5.6663            4.71s\n",
      "         9         117.9513           3.2203            4.62s\n",
      "        10         113.4441           3.1706            4.65s\n",
      "        20          86.2799           1.0753            4.56s\n",
      "        30          77.0722           0.4162            4.53s\n",
      "        40          71.6943           0.3268            4.46s\n",
      "        50          65.4506           0.3751            4.41s\n",
      "        60          63.0762           0.3054            4.36s\n",
      "        70          62.2785           0.0655            4.30s\n",
      "        80          59.2311           0.1072            4.26s\n",
      "        90          58.4395           0.1070            4.21s\n",
      "Fitting (4, 'auto', 0.75)\n",
      "      Iter       Train Loss      OOB Improve   Remaining Time \n",
      "         1         190.9475          24.6337            7.99s\n",
      "         2         170.7853          19.7258            7.98s\n",
      "         3         151.0202          16.7686            7.98s\n",
      "         4         138.2751          13.1918            7.97s\n",
      "         5         124.9650          11.5417            7.76s\n",
      "         6         116.5304           9.1383            7.79s\n",
      "         7         107.1989           7.7496            7.80s\n",
      "         8          98.9735           6.2802            7.81s\n",
      "         9          96.3583           5.0046            7.82s\n",
      "        10          91.3025           3.9744            7.72s\n",
      "        20          67.4792           0.6789            7.69s\n",
      "        30          59.1838           0.4508            7.63s\n",
      "        40          54.6708           0.2599            7.54s\n",
      "Fitting (6, 'auto', 0.75)\n",
      "      Iter       Train Loss      OOB Improve   Remaining Time \n",
      "         1         178.5809          26.4772           10.99s\n",
      "         2         162.4604          19.0703           10.98s\n",
      "         3         138.5995          18.3215           10.97s\n",
      "         4         128.7851          13.0105           10.96s\n",
      "         5         114.4893          11.6600           10.75s\n",
      "         6         104.4678           8.9067           10.77s\n",
      "         7          95.9564           7.7281           10.78s\n",
      "         8          88.3047           6.9806           10.79s\n",
      "         9          82.9307           4.7763           10.79s\n",
      "        10          76.6470           4.6916           10.69s\n",
      "        20          54.3921           0.6564           10.54s\n",
      "        30          47.4955           0.1356           10.48s\n",
      "Fitting (3, 'log2', 0.67)\n",
      "      Iter       Train Loss      OOB Improve   Remaining Time \n",
      "         1         208.5932           5.7283            2.00s\n",
      "         2         187.2393          19.9963            2.50s\n",
      "         3         173.3767          10.4756            2.66s\n",
      "         4         159.4069          15.1917            2.49s\n",
      "         5         145.6909          12.7432            2.59s\n",
      "         6         140.0568           5.5635            2.65s\n",
      "         7         131.5581           7.0506            2.70s\n",
      "         8         123.8740           6.9101            2.60s\n",
      "         9         118.9452           6.2832            2.64s\n",
      "        10         112.4507           5.2463            2.57s\n",
      "        20          83.9875           1.6636            2.45s\n",
      "        30          73.9253           0.3329            2.36s\n",
      "        40          66.7331           0.4878            2.33s\n",
      "        50          63.8395           0.0999            2.30s\n",
      "Fitting (4, 'sqrt', 0.5)\n",
      "      Iter       Train Loss      OOB Improve   Remaining Time \n",
      "         1         179.2642          22.1453            3.00s\n",
      "         2         166.9603          19.4065            2.50s\n",
      "         3         159.6318          10.1171            2.66s\n",
      "         4         147.3659          14.1431            2.74s\n",
      "         5         138.0733          11.3618            2.59s\n",
      "         6         125.3006           9.1370            2.49s\n",
      "         7         121.0683           7.2776            2.55s\n",
      "         8         108.4263           6.5916            2.48s\n",
      "         9         105.4143           5.1242            2.53s\n",
      "        10         102.0582           4.0950            2.48s\n",
      "        20          72.5515           0.9706            2.35s\n",
      "        30          64.8530           0.4945            2.26s\n",
      "        40          59.9943           0.2965            2.23s\n",
      "        50          56.5571           0.0948            2.20s\n"
     ]
    }
   ],
   "source": [
    "# Fit new models on whole training data set\n",
    "best_hp_sets = [\n",
    "    (3, 'auto', 0.75),\n",
    "    (2, 'auto', 0.75),\n",
    "    (4, 'auto', 0.75),\n",
    "    (6, 'auto', 0.75),\n",
    "    (3, 'log2', 0.67),\n",
    "    (4, 'sqrt', 0.5),\n",
    "]\n",
    "models_train_1 = {}\n",
    "\n",
    "for hp in best_hp_sets:\n",
    "    print(f'Fitting {hp}')\n",
    "    \n",
    "    # Fit gbm\n",
    "    gbm = GradientBoostingRegressor(\n",
    "        # Static hyperparameters\n",
    "        n_estimators = s_n_estimators,\n",
    "        validation_fraction = s_validation_fraction,\n",
    "        n_iter_no_change = s_n_iter_no_change,\n",
    "        tol = s_tol,\n",
    "        # Dynamic hyperparameters\n",
    "        max_depth = hp[0],\n",
    "        max_features = hp[1],\n",
    "        subsample = hp[2],\n",
    "        # Print status\n",
    "        verbose = 1\n",
    "    ).fit(X_train, y_train)\n",
    "    \n",
    "    # Save predictions\n",
    "    models_train_1[hp] = {\n",
    "        'model': gbm,\n",
    "        'train_err': y_train - gbm.predict(X_train),\n",
    "        'test_err': y_test - gbm.predict(X_test)\n",
    "    }\n",
    "    \n",
    "    del gbm"
   ]
  },
  {
   "cell_type": "code",
   "execution_count": 13,
   "metadata": {},
   "outputs": [
    {
     "data": {
      "text/plain": [
       "{'model': GradientBoostingRegressor(alpha=0.9, ccp_alpha=0.0, criterion='friedman_mse',\n",
       "                           init=None, learning_rate=0.1, loss='ls', max_depth=3,\n",
       "                           max_features='auto', max_leaf_nodes=None,\n",
       "                           min_impurity_decrease=0.0, min_impurity_split=None,\n",
       "                           min_samples_leaf=1, min_samples_split=2,\n",
       "                           min_weight_fraction_leaf=0.0, n_estimators=1000,\n",
       "                           n_iter_no_change=1, presort='deprecated',\n",
       "                           random_state=None, subsample=0.75, tol=0.0001,\n",
       "                           validation_fraction=0.2, verbose=1, warm_start=False),\n",
       " 'train_err': 7820    10.064575\n",
       " 5815     9.481590\n",
       " 7309     0.469405\n",
       " 7163     8.744251\n",
       " 2674     5.849403\n",
       "           ...    \n",
       " 9907     3.154354\n",
       " 485     11.788663\n",
       " 264     -4.493576\n",
       " 8577     9.022147\n",
       " 6415    -5.346289\n",
       " Name: y, Length: 6000, dtype: float64,\n",
       " 'test_err': 369      5.392732\n",
       " 2608     7.546707\n",
       " 2832     2.845005\n",
       " 488     -3.789232\n",
       " 7536   -12.965102\n",
       "           ...    \n",
       " 7913    -1.449407\n",
       " 2189     0.995422\n",
       " 3580    11.951011\n",
       " 8165    -9.405536\n",
       " 7788    -2.207956\n",
       " Name: y, Length: 2000, dtype: float64}"
      ]
     },
     "execution_count": 13,
     "metadata": {},
     "output_type": "execute_result"
    }
   ],
   "source": [
    "# Inspect one model\n",
    "models_train_1[best_hp_sets[0]]"
   ]
  },
  {
   "cell_type": "code",
   "execution_count": 14,
   "metadata": {},
   "outputs": [
    {
     "name": "stdout",
     "output_type": "stream",
     "text": [
      "(3, 'auto', 0.75)\n",
      "    Train error: 56.49459523613887\n",
      "    Test error: 61.93190010014272\n",
      "    \n",
      "(2, 'auto', 0.75)\n",
      "    Train error: 58.611331821641905\n",
      "    Test error: 61.902461369996615\n",
      "    \n",
      "(4, 'auto', 0.75)\n",
      "    Train error: 55.859258527690834\n",
      "    Test error: 62.16049740306054\n",
      "    \n",
      "(6, 'auto', 0.75)\n",
      "    Train error: 48.48623107448711\n",
      "    Test error: 62.81965300418269\n",
      "    \n",
      "(3, 'log2', 0.67)\n",
      "    Train error: 60.72342809247705\n",
      "    Test error: 64.8559763977514\n",
      "    \n",
      "(4, 'sqrt', 0.5)\n",
      "    Train error: 56.48581236449429\n",
      "    Test error: 64.09933074376158\n",
      "    \n"
     ]
    }
   ],
   "source": [
    "# Compare average mean squared errors\n",
    "def amse(err):\n",
    "    return (err ** 2).sum() / len(err)\n",
    "\n",
    "for hp in best_hp_sets:\n",
    "    print(f'''{hp}\n",
    "    Train error: {amse(models_train_1[hp]['train_err'])}\n",
    "    Test error: {amse(models_train_1[hp]['test_err'])}\n",
    "    ''')"
   ]
  },
  {
   "cell_type": "code",
   "execution_count": 15,
   "metadata": {},
   "outputs": [
    {
     "data": {
      "image/png": "[encoded data removed]",
      "text/plain": [
       "<Figure size 720x360 with 1 Axes>"
      ]
     },
     "metadata": {
      "needs_background": "light"
     },
     "output_type": "display_data"
    }
   ],
   "source": [
    "# Plot error distributions on test data for the better models\n",
    "plt.figure(figsize=(10, 5))\n",
    "plt.axvline(0, color='black')\n",
    "colors = ['blue', 'red', 'purple', 'green']\n",
    "models_to_plot = best_hp_sets[:4]\n",
    "for i, hp in enumerate(models_to_plot):\n",
    "    sb.distplot(models_train_1[hp]['test_err'], hist=False, color=colors[i], label=hp)"
   ]
  },
  {
   "cell_type": "code",
   "execution_count": 16,
   "metadata": {},
   "outputs": [
    {
     "data": {
      "image/png": "[encoded data removed]",
      "text/plain": [
       "<Figure size 720x360 with 1 Axes>"
      ]
     },
     "metadata": {
      "needs_background": "light"
     },
     "output_type": "display_data"
    }
   ],
   "source": [
    "# Learning curves\n",
    "def plot_lc(model):\n",
    "    lc_train = [amse(y_train - x) for x in models_train_1[model]['model'].staged_predict(X_train)]\n",
    "    lc_test = [amse(y_test - x) for x in models_train_1[model]['model'].staged_predict(X_test)]\n",
    "    lc_x = list(range(len(lc_train)))\n",
    "\n",
    "    plt.figure(figsize=(10, 5))\n",
    "    sb.lineplot(x=lc_x, y=lc_train, color='blue', label='Training')\n",
    "    sb.lineplot(x=lc_x, y=lc_test, color='red', label='Test')\n",
    "    plt.xlabel('Number of Trees')\n",
    "    plt.ylabel('AMSE')\n",
    "\n",
    "# \"Best\" model\n",
    "plot_lc(best_hp_sets[0])"
   ]
  },
  {
   "cell_type": "markdown",
   "metadata": {},
   "source": [
    "All of the 'auto' models look similar on the test data but have rather different performance on the training data.\n",
    "\n",
    "We'll gloss over that for now to see how x9 changes things."
   ]
  },
  {
   "cell_type": "markdown",
   "metadata": {},
   "source": [
    "# Now incorporate x9\n",
    "\n",
    "x9 presents a unique problem with cross-validation.\n",
    "\n",
    "Say we wanted to replace x9 with its group average.  If we use the averages over the **whole** training set, we introduce signal leakage in the folds being held out for test predictions (i.e. we're using the target variable in folds we're trying to predict to create predictors).  So if we really wanted to pair that with cross-validation to estimate hyperparameters we need to write custom code to derive that new `x9_group_mean` variable separately for each of the k iterations before fitting.  Which is possible but didn't want to go through that process here.\n",
    "\n",
    "For simplicity, let's say we feel comfortable assuming that we only need to consider our current \"best\" sets of hyperparameters and evaluate using train/test splitting (i.e. use `hp_sets`)."
   ]
  },
  {
   "cell_type": "code",
   "execution_count": 17,
   "metadata": {
    "scrolled": true
   },
   "outputs": [
    {
     "data": {
      "text/plain": [
       "{'C0': -12.494134458422153,\n",
       " 'C1': -8.868420283101097,\n",
       " 'C10': -11.40502206758767,\n",
       " 'C11': -7.0930213759957175,\n",
       " 'C12': -2.447312707595968,\n",
       " 'C13': 1.9692483054162397,\n",
       " 'C14': 5.857638108593982,\n",
       " 'C15': -12.786031256866941,\n",
       " 'C16': -9.282874709668627,\n",
       " 'C17': -3.4143419303076765,\n",
       " 'C18': 1.169778150669182,\n",
       " 'C19': 7.278886392506984,\n",
       " 'C2': -2.541700718251264,\n",
       " 'C20': -12.576496755315635,\n",
       " 'C21': -8.977971508535472,\n",
       " 'C22': -4.112889425340084,\n",
       " 'C23': 2.2574156092691964,\n",
       " 'C24': 6.581441556327919,\n",
       " 'C25': -13.587177463212175,\n",
       " 'C26': -8.756049305959065,\n",
       " 'C27': -2.856583864898294,\n",
       " 'C28': 1.222706607972358,\n",
       " 'C29': 7.2578542985176,\n",
       " 'C3': 2.6742546627484804,\n",
       " 'C30': -13.36395689694065,\n",
       " 'C31': -7.422958418992781,\n",
       " 'C32': -2.713352221990513,\n",
       " 'C33': 0.8747200195316601,\n",
       " 'C34': 6.581315429600172,\n",
       " 'C35': -13.935337569850585,\n",
       " 'C36': -7.470498216195004,\n",
       " 'C37': -2.662630707901458,\n",
       " 'C38': 2.8610230402129915,\n",
       " 'C39': 6.063442651636226,\n",
       " 'C4': 6.3817031366626304,\n",
       " 'C40': -14.930392835357917,\n",
       " 'C41': -7.216091299028771,\n",
       " 'C42': -3.254133192153192,\n",
       " 'C43': 1.644584865602692,\n",
       " 'C44': 8.433741183430177,\n",
       " 'C45': -14.427092391598507,\n",
       " 'C46': -6.731694578063144,\n",
       " 'C47': -2.501084435456949,\n",
       " 'C48': 2.641510487998463,\n",
       " 'C49': 4.457902807951564,\n",
       " 'C5': -13.9730066165072,\n",
       " 'C6': -5.8604723480676775,\n",
       " 'C7': -2.7910115397977955,\n",
       " 'C8': 2.8020961841890593,\n",
       " 'C9': 7.491711418702797}"
      ]
     },
     "execution_count": 17,
     "metadata": {},
     "output_type": "execute_result"
    }
   ],
   "source": [
    "# Get group means on training data\n",
    "dict_x9_means = df10.groupby('x9').agg(y_mean=('y', 'mean'))['y_mean'].to_dict()\n",
    "dict_x9_means"
   ]
  },
  {
   "cell_type": "code",
   "execution_count": 18,
   "metadata": {},
   "outputs": [
    {
     "name": "stdout",
     "output_type": "stream",
     "text": [
      "\n",
      "Train: (6000, 17)\n",
      "Test: (2000, 17)\n",
      "Holdout: (2000, 17)\n",
      "\n"
     ]
    }
   ],
   "source": [
    "# Add some x2 predictors\n",
    "df10['x9_group_mean'] = df10['x9'].map(dict_x9_means)\n",
    "\n",
    "# Create X/y\n",
    "predictors_2 = ['x1', 'x2', 'x2_abs', 'x2_sign', 'x4', 'x5', 'x7', 'x8', 'x9_group_mean', 'x10']\n",
    "X, y = pd.get_dummies(df10[predictors_2], prefix=['x7', 'x8', 'x10']), df10['y']\n",
    "\n",
    "# Split train/test/holdout\n",
    "X_train, X_holdout, y_train, y_holdout = train_test_split(X, y, test_size=p_holdout, random_state=1)\n",
    "X_train, X_test, y_train, y_test = train_test_split(X_train, y_train, test_size=p_test_relative, random_state=2)\n",
    "\n",
    "# Check counts\n",
    "print(f'''\n",
    "Train: {X_train.shape}\n",
    "Test: {X_test.shape}\n",
    "Holdout: {X_holdout.shape}\n",
    "''')"
   ]
  },
  {
   "cell_type": "code",
   "execution_count": 19,
   "metadata": {},
   "outputs": [
    {
     "name": "stdout",
     "output_type": "stream",
     "text": [
      "Fitting (3, 'auto', 0.75)\n",
      "      Iter       Train Loss      OOB Improve   Remaining Time \n",
      "         1         187.9581          27.4005            6.99s\n",
      "         2         162.0351          22.8147            7.49s\n",
      "         3         145.9342          18.2081            7.31s\n",
      "         4         130.5333          15.5780            7.22s\n",
      "         5         117.6847          12.5340            7.16s\n",
      "         6         102.2628          11.5081            7.12s\n",
      "         7          93.7548           8.7530            6.95s\n",
      "         8          87.6549           6.5733            6.94s\n",
      "         9          76.0242           6.9998            6.94s\n",
      "        10          72.4431           5.4184            6.93s\n",
      "        20          41.7191           1.5356            6.62s\n",
      "        30          27.9049           1.0066            6.53s\n",
      "        40          20.4169           0.5032            6.46s\n",
      "        50          15.1939           0.4106            6.37s\n",
      "        60          12.9171           0.1987            6.30s\n",
      "        70          11.0299           0.1649            6.24s\n",
      "        80           9.8862           0.0697            6.16s\n",
      "        90           8.8609           0.0755            6.10s\n",
      "       100           8.5141           0.0200            6.04s\n",
      "Fitting (2, 'auto', 0.75)\n",
      "      Iter       Train Loss      OOB Improve   Remaining Time \n",
      "         1         196.2620          22.9376            4.00s\n",
      "         2         171.8247          19.3830            4.99s\n",
      "         3         157.7838          15.6847            4.99s\n",
      "         4         143.1837          12.7826            4.98s\n",
      "         5         130.6571          10.9404            5.17s\n",
      "         6         126.2121           7.7426            5.14s\n",
      "         7         114.9814           6.7281            5.11s\n",
      "         8         102.7123           7.3604            5.08s\n",
      "         9         101.7516           4.8876            5.07s\n",
      "        10          93.2990           5.8948            5.05s\n",
      "        20          58.1322           2.2930            4.90s\n",
      "        30          40.5106           0.9031            4.79s\n",
      "        40          32.8483           0.7942            4.70s\n",
      "        50          25.8920           0.5429            4.66s\n",
      "        60          21.4546           0.5411            4.59s\n",
      "        70          18.4361           0.1299            4.53s\n",
      "        80          15.5465           0.1586            4.47s\n",
      "        90          14.7572           0.1429            4.43s\n",
      "       100          12.9443           0.1268            4.38s\n",
      "Fitting (4, 'auto', 0.75)\n",
      "      Iter       Train Loss      OOB Improve   Remaining Time \n",
      "         1         179.5436          30.9188            8.99s\n",
      "         2         157.2538          25.9104            8.48s\n",
      "         3         133.5146          21.4028            8.64s\n",
      "         4         113.9738          18.1558            8.47s\n",
      "         5         108.8623          12.0416            8.36s\n",
      "         6          93.7132          11.6471            8.45s\n",
      "         7          80.1075           9.3889            8.37s\n",
      "         8          71.5498           8.7860            8.43s\n",
      "         9          67.1280           6.6194            8.37s\n",
      "        10          61.1302           4.8095            8.32s\n",
      "        20          31.7505           1.3136            8.18s\n",
      "        30          20.0081           0.8294            8.12s\n",
      "        40          14.0361           0.2398            8.04s\n",
      "        50          10.6426           0.1589            7.98s\n",
      "        60           9.0726           0.1361            7.90s\n",
      "        70           7.9539           0.0436            7.81s\n",
      "        80           7.0720           0.0208            7.74s\n",
      "        90           6.8411           0.0021            7.66s\n",
      "       100           6.3637           0.0135            7.58s\n",
      "Fitting (6, 'auto', 0.75)\n",
      "      Iter       Train Loss      OOB Improve   Remaining Time \n",
      "         1         177.8972          30.6169           10.99s\n",
      "         2         149.1327          24.4959           11.48s\n",
      "         3         125.6851          21.9273           11.30s\n",
      "         4         106.7225          15.9908           11.45s\n",
      "         5          89.7924          14.5428           11.34s\n",
      "         6          76.4472          12.5223           11.43s\n",
      "         7          67.6512          10.1338           11.35s\n",
      "         8          58.5359           8.3419           11.41s\n",
      "         9          53.2410           6.7731           11.34s\n",
      "        10          46.4095           5.4163           11.39s\n",
      "        20          18.6682           1.2475           11.22s\n",
      "        30          10.4809           0.3809           11.16s\n",
      "        40           7.5111           0.1082           11.11s\n",
      "        50           6.0481           0.0169           11.00s\n",
      "        60           5.0595           0.0083           10.90s\n",
      "        70           4.4290          -0.0114           10.84s\n",
      "Fitting (3, 'log2', 0.67)\n",
      "      Iter       Train Loss      OOB Improve   Remaining Time \n",
      "         1         193.2450          21.3924            3.00s\n",
      "         2         178.3155          16.2496            2.99s\n",
      "         3         161.5827          17.8406            2.66s\n",
      "         4         156.5643           5.5244            2.74s\n",
      "         5         137.2109          14.6828            2.79s\n",
      "         6         128.6075          10.9367            2.65s\n",
      "         7         120.1901          10.7783            2.55s\n",
      "         8         106.8025          10.8751            2.60s\n",
      "         9          95.0941           6.7505            2.53s\n",
      "        10          89.8844           7.0960            2.57s\n",
      "        20          52.4990           1.6945            2.50s\n",
      "        30          35.4591           1.3473            2.43s\n",
      "        40          27.9488           0.4312            2.35s\n",
      "        50          21.1535           0.3959            2.30s\n",
      "        60          17.5463           0.3815            2.27s\n",
      "        70          16.1412           0.1554            2.23s\n",
      "        80          13.6575           0.1007            2.20s\n",
      "        90          12.7382           0.0614            2.16s\n",
      "       100          11.8420           0.0445            2.13s\n",
      "Fitting (4, 'sqrt', 0.5)\n",
      "      Iter       Train Loss      OOB Improve   Remaining Time \n",
      "         1         199.6576          22.9682            2.00s\n",
      "         2         168.1911          17.6948            2.50s\n",
      "         3         145.7539          19.0442            2.66s\n",
      "         4         134.4793          18.5896            2.49s\n",
      "         5         119.1729          10.5930            2.39s\n",
      "         6         108.0235          11.9443            2.49s\n",
      "         7         101.3492           8.8622            2.41s\n",
      "         8          89.3501           9.7337            2.48s\n",
      "         9          84.5842           7.9496            2.42s\n",
      "        10          72.5412           5.3275            2.48s\n",
      "        20          37.6392           2.1446            2.35s\n",
      "        30          26.1939           0.6427            2.30s\n",
      "        40          18.9423           0.4304            2.28s\n",
      "        50          14.2097           0.2680            2.26s\n",
      "        60          12.4748           0.0563            2.19s\n",
      "        70          11.1477           0.0925            2.18s\n",
      "        80           9.3846           0.0689            2.14s\n",
      "        90           8.5682           0.0234            2.11s\n",
      "       100           8.4141           0.0326            2.11s\n"
     ]
    }
   ],
   "source": [
    "# Fit new models on whole training data set\n",
    "models_train_2 = {}\n",
    "\n",
    "for hp in best_hp_sets:\n",
    "    print(f'Fitting {hp}')\n",
    "    \n",
    "    # Fit gbm\n",
    "    gbm = GradientBoostingRegressor(\n",
    "        # Static hyperparameters\n",
    "        n_estimators = s_n_estimators,\n",
    "        validation_fraction = s_validation_fraction,\n",
    "        n_iter_no_change = s_n_iter_no_change,\n",
    "        tol = s_tol,\n",
    "        # Dynamic hyperparameters\n",
    "        max_depth = hp[0],\n",
    "        max_features = hp[1],\n",
    "        subsample = hp[2],\n",
    "        # Print status\n",
    "        verbose = 1\n",
    "    ).fit(X_train, y_train)\n",
    "    \n",
    "    # Save predictions\n",
    "    models_train_2[hp] = {\n",
    "        'model': gbm,\n",
    "        'train_err': y_train - gbm.predict(X_train),\n",
    "        'test_err': y_test - gbm.predict(X_test)\n",
    "    }\n",
    "    \n",
    "    del gbm"
   ]
  },
  {
   "cell_type": "code",
   "execution_count": 20,
   "metadata": {},
   "outputs": [
    {
     "name": "stdout",
     "output_type": "stream",
     "text": [
      "(3, 'auto', 0.75)\n",
      "    Train error: 8.43567769019941\n",
      "    Test error: 10.052377728974372\n",
      "    \n",
      "(2, 'auto', 0.75)\n",
      "    Train error: 9.876156960509979\n",
      "    Test error: 11.637296279992828\n",
      "    \n",
      "(4, 'auto', 0.75)\n",
      "    Train error: 6.806489000392832\n",
      "    Test error: 9.674668463289482\n",
      "    \n",
      "(6, 'auto', 0.75)\n",
      "    Train error: 6.365590104509967\n",
      "    Test error: 12.81593049569236\n",
      "    \n",
      "(3, 'log2', 0.67)\n",
      "    Train error: 9.995045856377114\n",
      "    Test error: 12.853638742869578\n",
      "    \n",
      "(4, 'sqrt', 0.5)\n",
      "    Train error: 8.689096255503364\n",
      "    Test error: 11.707616908485845\n",
      "    \n"
     ]
    }
   ],
   "source": [
    "# Compare average mean squared errors\n",
    "for hp in best_hp_sets:\n",
    "    print(f'''{hp}\n",
    "    Train error: {amse(models_train_2[hp]['train_err'])}\n",
    "    Test error: {amse(models_train_2[hp]['test_err'])}\n",
    "    ''')"
   ]
  },
  {
   "cell_type": "markdown",
   "metadata": {},
   "source": [
    "Best fit on test seems to be (3, 'auto', 0.75), even though it doesn't have the lowest training error.\n",
    "\n",
    "My initial suspicion is that the training error is low on (6, 'auto', 0.75) due to overfitting on the training data.  Probably because we aren't using any type of tree regularization (e.g. pruning, requiring a certain sample size) to simplify the trees that get built.\n",
    "\n",
    "### Plot univariates to see if any other sort of modification might improve model fit"
   ]
  },
  {
   "cell_type": "code",
   "execution_count": 21,
   "metadata": {},
   "outputs": [],
   "source": [
    "def plot_univariate(df, x, y, filter_x7=None, model_fit=models_train_2[best_hp_sets[0]], n_bins=10):\n",
    "    # Create copy of dataframe\n",
    "    df = df.copy()\n",
    "    \n",
    "    # Subset to test rows\n",
    "    df = df.iloc[X_test.index]\n",
    "    \n",
    "    # Add prediction\n",
    "    df = df.assign(p = model_fit['model'].predict(X_test))\n",
    "    \n",
    "    # Apply filter_x7\n",
    "    if filter_x7:\n",
    "        df = df[df10.x7 == filter_x7]\n",
    "    \n",
    "    # If x is numeric, bin into groups\n",
    "    if df[x].dtype in (np.int64, np.float64):\n",
    "        df[x] = pd.cut(df[x], n_bins).apply(str)\n",
    "    \n",
    "    # Aggregate\n",
    "    df_agg = (\n",
    "        df\n",
    "        .groupby(x)\n",
    "        .agg(\n",
    "            n=(y, 'count'),\n",
    "            y_mean=(y, 'mean'),\n",
    "            y_sd=(y, 'std'),\n",
    "            p_mean=('p', 'mean'),\n",
    "            p_sd=('p', 'std'),\n",
    "        )\n",
    "        .reset_index()\n",
    "    )\n",
    "    \n",
    "    print(df_agg)\n",
    "    \n",
    "    # Plot\n",
    "    fig, (ax1, ax2) = plt.subplots(2, 1, sharex=True, figsize=(20, 10))\n",
    "    \n",
    "    # First plot: Counts\n",
    "    ax1.bar(x, 'n', data=df_agg)\n",
    "    \n",
    "    # Second plot: Average actuals and predicted\n",
    "    ax2.errorbar(x, 'y_mean', yerr='y_sd', data=df_agg, label='Actual', fmt='o', capsize=10, color='green')\n",
    "    ax2.errorbar(x, 'p_mean', yerr='p_sd', data=df_agg, label='Predicted', fmt='o', capsize=10, color='red')\n",
    "    \n",
    "    plt.legend()\n",
    "    plt.show()"
   ]
  },
  {
   "cell_type": "code",
   "execution_count": 22,
   "metadata": {},
   "outputs": [
    {
     "name": "stdout",
     "output_type": "stream",
     "text": [
      "                 x1    n     y_mean       y_sd    p_mean       p_sd\n",
      "0  (-3.349, -2.656]   14 -10.483115  15.085686 -9.510717  14.407930\n",
      "1  (-2.656, -1.971]   40  -5.783603  12.650469 -5.380929  11.651589\n",
      "2  (-1.971, -1.285]  121  -4.694796  14.911796 -4.724729  14.056119\n",
      "3  (-1.285, -0.599]  361  -2.241680  14.686556 -2.187700  13.747346\n",
      "4  (-0.599, 0.0864]  531  -0.921520  14.677675 -1.508798  14.043787\n",
      "5   (0.0864, 0.772]  479  -5.907316  13.252324 -5.781188  12.112404\n",
      "6    (0.772, 1.458]  303  -5.421904  15.098284 -5.153293  13.898052\n",
      "7    (1.458, 2.143]  114  -4.513584  13.897776 -4.342896  13.233334\n",
      "8    (2.143, 2.829]   32  -3.624521  13.091653 -3.148676  12.491858\n",
      "9    (2.829, 3.515]    5   3.827210  15.228232  3.995983  14.906523\n"
     ]
    },
    {
     "data": {
      "image/png": "[encoded data removed]",
      "text/plain": [
       "<Figure size 1440x720 with 2 Axes>"
      ]
     },
     "metadata": {
      "needs_background": "light"
     },
     "output_type": "display_data"
    }
   ],
   "source": [
    "# x1\n",
    "plot_univariate(df10, 'x1', 'y')"
   ]
  },
  {
   "cell_type": "code",
   "execution_count": 23,
   "metadata": {},
   "outputs": [
    {
     "name": "stdout",
     "output_type": "stream",
     "text": [
      "                 x2    n    y_mean       y_sd    p_mean       p_sd\n",
      "0  (-3.279, -2.595]   11 -8.963161   8.915807 -8.734094   9.011515\n",
      "1  (-2.595, -1.917]   51 -2.583432   9.656766 -2.919649   9.659528\n",
      "2   (-1.917, -1.24]  148 -3.944287  12.748935 -3.991694  12.741910\n",
      "3   (-1.24, -0.562]  324 -3.311579  16.481169 -3.135562  14.884601\n",
      "4   (-0.562, 0.115]  516 -3.096149  15.152012 -3.223300  14.060587\n",
      "5    (0.115, 0.793]  502 -4.007994  14.113056 -4.034378  13.152031\n",
      "6    (0.793, 1.471]  308 -3.565381  13.985441 -3.603311  13.291714\n",
      "7    (1.471, 2.148]  105 -6.141877  13.036458 -6.328298  12.592703\n",
      "8    (2.148, 2.826]   29 -4.510177   8.878486 -4.957544   9.259542\n",
      "9    (2.826, 3.503]    6  6.986870  13.642510  6.782526  13.087768\n"
     ]
    },
    {
     "data": {
      "image/png": "[encoded data removed]",
      "text/plain": [
       "<Figure size 1440x720 with 2 Axes>"
      ]
     },
     "metadata": {
      "needs_background": "light"
     },
     "output_type": "display_data"
    }
   ],
   "source": [
    "# x2\n",
    "plot_univariate(df10, 'x2', 'y')"
   ]
  },
  {
   "cell_type": "code",
   "execution_count": 24,
   "metadata": {},
   "outputs": [
    {
     "name": "stderr",
     "output_type": "stream",
     "text": [
      "<ipython-input-21-aae3c8e7af56>:13: UserWarning: Boolean Series key will be reindexed to match DataFrame index.\n",
      "  df = df[df10.x7 == filter_x7]\n"
     ]
    },
    {
     "name": "stdout",
     "output_type": "stream",
     "text": [
      "                 x2    n    y_mean       y_sd    p_mean       p_sd\n",
      "0  (-3.271, -2.591]    5 -8.106606   8.415644 -5.958949   7.850367\n",
      "1  (-2.591, -1.917]   24 -0.454520  10.475494  0.642160  10.326510\n",
      "2  (-1.917, -1.243]   66  5.468557   9.691468  6.128608   9.324274\n",
      "3  (-1.243, -0.569]  143  7.990921  12.138608  7.690669  10.142286\n",
      "4   (-0.569, 0.105]  245  7.707951  12.060639  6.875480  11.036854\n",
      "5    (0.105, 0.778]  226  7.482381   9.601512  6.605430   9.143906\n",
      "6    (0.778, 1.452]  157  5.186901  10.571099  4.969269   9.709139\n",
      "7    (1.452, 2.126]   53  2.455858  10.313153  2.483378   9.699326\n",
      "8      (2.126, 2.8]    9 -5.622920   6.225904 -3.758338   6.917436\n",
      "9      (2.8, 3.474]    3  4.351880  11.060596  6.493901  11.556198\n"
     ]
    },
    {
     "data": {
      "image/png": "[encoded data removed]",
      "text/plain": [
       "<Figure size 1440x720 with 2 Axes>"
      ]
     },
     "metadata": {
      "needs_background": "light"
     },
     "output_type": "display_data"
    }
   ],
   "source": [
    "# x2 * x7 == A1\n",
    "plot_univariate(df10, 'x2', 'y', filter_x7='A1')"
   ]
  },
  {
   "cell_type": "code",
   "execution_count": 25,
   "metadata": {},
   "outputs": [
    {
     "name": "stderr",
     "output_type": "stream",
     "text": [
      "<ipython-input-21-aae3c8e7af56>:13: UserWarning: Boolean Series key will be reindexed to match DataFrame index.\n",
      "  df = df[df10.x7 == filter_x7]\n"
     ]
    },
    {
     "name": "stdout",
     "output_type": "stream",
     "text": [
      "                 x2    n     y_mean       y_sd     p_mean       p_sd\n",
      "0  (-3.279, -2.595]    6  -9.676958  10.048865 -11.046714   9.949519\n",
      "1  (-2.595, -1.917]   27  -4.475799   8.623015  -6.085701   7.936182\n",
      "2   (-1.917, -1.24]   82 -11.520478   9.449803 -12.137302   8.617098\n",
      "3   (-1.24, -0.562]  178 -12.621042  13.489726 -12.040136  11.967164\n",
      "4   (-0.562, 0.115]  269 -13.150621   9.761618 -12.642806   8.984183\n",
      "5    (0.115, 0.793]  279 -12.984273  10.235272 -12.326598   9.576456\n",
      "6    (0.793, 1.471]  148 -13.208319  10.359310 -13.043950   9.718313\n",
      "7    (1.471, 2.148]   57 -12.820662  11.315906 -13.226123  10.470990\n",
      "8    (2.148, 2.826]   20  -4.009443   9.949655  -5.497187  10.257528\n",
      "9    (2.826, 3.503]    3   9.621860  17.947949   7.071151  17.158920\n"
     ]
    },
    {
     "data": {
      "image/png": "[encoded data removed]",
      "text/plain": [
       "<Figure size 1440x720 with 2 Axes>"
      ]
     },
     "metadata": {
      "needs_background": "light"
     },
     "output_type": "display_data"
    }
   ],
   "source": [
    "# x2 * x7 == A2\n",
    "plot_univariate(df10, 'x2', 'y', filter_x7='A2')"
   ]
  },
  {
   "cell_type": "code",
   "execution_count": 26,
   "metadata": {},
   "outputs": [
    {
     "name": "stdout",
     "output_type": "stream",
     "text": [
      "                x3    n     y_mean       y_sd     p_mean       p_sd\n",
      "0  (-0.323, 0.366]    9 -11.805981  10.815292 -10.278215  10.863236\n",
      "1   (0.366, 1.048]   43  -0.902139  16.096326  -1.548146  15.389083\n",
      "2    (1.048, 1.73]  165  -4.245541  13.734647  -4.383280  13.269816\n",
      "3    (1.73, 2.412]  362  -2.600431  14.504536  -2.618939  13.311155\n",
      "4   (2.412, 3.094]  530  -4.319000  14.038637  -4.155125  13.170908\n",
      "5   (3.094, 3.776]  462  -3.946593  14.129089  -4.076109  13.425011\n",
      "6   (3.776, 4.458]  288  -2.848500  15.211305  -3.084338  13.932984\n",
      "7    (4.458, 5.14]  113  -3.893005  16.089874  -4.105210  14.911028\n",
      "8    (5.14, 5.822]   25  -5.653557  14.065525  -4.966070  12.868131\n",
      "9   (5.822, 6.504]    3  -9.220591  19.771726  -8.478534  19.004404\n"
     ]
    },
    {
     "data": {
      "image/png": "[encoded data removed]",
      "text/plain": [
       "<Figure size 1440x720 with 2 Axes>"
      ]
     },
     "metadata": {
      "needs_background": "light"
     },
     "output_type": "display_data"
    }
   ],
   "source": [
    "# x3\n",
    "plot_univariate(df10, 'x3', 'y')"
   ]
  },
  {
   "cell_type": "code",
   "execution_count": 27,
   "metadata": {},
   "outputs": [
    {
     "name": "stdout",
     "output_type": "stream",
     "text": [
      "                 x4    n     y_mean       y_sd     p_mean       p_sd\n",
      "0  (-3.336, -2.646]    6 -10.930331  12.006297 -11.385210  12.616869\n",
      "1  (-2.646, -1.964]   37  -5.186150  19.615593  -4.916030  18.798011\n",
      "2  (-1.964, -1.281]  136  -6.879913  13.236798  -6.676412  12.625012\n",
      "3  (-1.281, -0.598]  358  -5.059908  15.377327  -4.888964  14.452030\n",
      "4  (-0.598, 0.0847]  511  -4.743645  13.660591  -4.700007  12.697987\n",
      "5   (0.0847, 0.767]  508  -2.253742  14.386944  -2.455780  13.306980\n",
      "6     (0.767, 1.45]  305  -1.745711  14.430397  -1.653970  13.463185\n",
      "7     (1.45, 2.133]  108  -1.684101  13.362159  -2.528564  12.830407\n",
      "8    (2.133, 2.816]   23  -0.794036  15.371043  -1.594619  14.407141\n",
      "9    (2.816, 3.499]    8  -2.814282  15.805801  -5.701012  14.801207\n"
     ]
    },
    {
     "data": {
      "image/png": "[encoded data removed]",
      "text/plain": [
       "<Figure size 1440x720 with 2 Axes>"
      ]
     },
     "metadata": {
      "needs_background": "light"
     },
     "output_type": "display_data"
    }
   ],
   "source": [
    "# x4\n",
    "plot_univariate(df10, 'x4', 'y')"
   ]
  },
  {
   "cell_type": "code",
   "execution_count": 28,
   "metadata": {},
   "outputs": [
    {
     "name": "stdout",
     "output_type": "stream",
     "text": [
      "                 x5    n     y_mean       y_sd     p_mean       p_sd\n",
      "0  (-3.852, -3.123]    2 -50.635420  13.284488 -29.766208  10.681744\n",
      "1  (-3.123, -2.402]   19 -17.244148  13.685882 -17.033211  12.357699\n",
      "2   (-2.402, -1.68]   89  -4.393372  12.563297  -4.130618  12.023744\n",
      "3   (-1.68, -0.958]  215   0.895493  12.860241  -0.082782  11.845651\n",
      "4  (-0.958, -0.236]  502  -2.165445  13.036187  -2.304168  12.284462\n",
      "5   (-0.236, 0.486]  558  -6.025738  13.261995  -5.978972  12.592389\n",
      "6    (0.486, 1.207]  394  -7.183013  13.656944  -6.808845  12.866280\n",
      "7    (1.207, 1.929]  177  -1.962756  15.046731  -2.142035  14.084259\n",
      "8    (1.929, 2.651]   36  14.132880  15.216990  15.327285  13.422852\n",
      "9    (2.651, 3.373]    8  52.118193  18.582697  44.259100  18.781914\n"
     ]
    },
    {
     "data": {
      "image/png": "[encoded data removed]",
      "text/plain": [
       "<Figure size 1440x720 with 2 Axes>"
      ]
     },
     "metadata": {
      "needs_background": "light"
     },
     "output_type": "display_data"
    }
   ],
   "source": [
    "# x5\n",
    "plot_univariate(df10, 'x5', 'y')"
   ]
  },
  {
   "cell_type": "code",
   "execution_count": 29,
   "metadata": {},
   "outputs": [
    {
     "name": "stdout",
     "output_type": "stream",
     "text": [
      "                 x6    n     y_mean       y_sd     p_mean       p_sd\n",
      "0   (-0.968, 0.459]    6 -14.542230   4.385183 -12.090140   6.284623\n",
      "1    (0.459, 1.871]   34   1.585852  15.082694   0.895465  14.378587\n",
      "2    (1.871, 3.284]  146  -4.745006  14.198404  -5.068334  13.758216\n",
      "3    (3.284, 4.697]  358  -3.081514  14.421713  -3.029135  13.348786\n",
      "4    (4.697, 6.109]  523  -3.785036  14.272484  -3.735717  13.281872\n",
      "5    (6.109, 7.522]  494  -4.211936  13.714992  -4.155728  13.045657\n",
      "6    (7.522, 8.934]  298  -3.055536  15.420581  -3.382481  14.176841\n",
      "7   (8.934, 10.347]  114  -3.306535  16.295409  -3.521050  15.087780\n",
      "8  (10.347, 11.759]   24  -5.302985  13.386852  -4.649392  12.243378\n",
      "9  (11.759, 13.172]    3  -8.088833  18.924234  -7.779642  18.505716\n"
     ]
    },
    {
     "data": {
      "image/png": "[encoded data removed]",
      "text/plain": [
       "<Figure size 1440x720 with 2 Axes>"
      ]
     },
     "metadata": {
      "needs_background": "light"
     },
     "output_type": "display_data"
    }
   ],
   "source": [
    "# x6\n",
    "plot_univariate(df10, 'x6', 'y')"
   ]
  },
  {
   "cell_type": "code",
   "execution_count": 30,
   "metadata": {},
   "outputs": [
    {
     "name": "stdout",
     "output_type": "stream",
     "text": [
      "   x7     n     y_mean       y_sd     p_mean       p_sd\n",
      "0  A1   931   6.378737  11.131655   5.977058  10.133709\n",
      "1  A2  1069 -12.410846  10.906534 -12.144206   9.985393\n"
     ]
    },
    {
     "data": {
      "image/png": "[encoded data removed]",
      "text/plain": [
       "<Figure size 1440x720 with 2 Axes>"
      ]
     },
     "metadata": {
      "needs_background": "light"
     },
     "output_type": "display_data"
    }
   ],
   "source": [
    "# x7\n",
    "plot_univariate(df10, 'x7', 'y')"
   ]
  },
  {
   "cell_type": "code",
   "execution_count": 31,
   "metadata": {},
   "outputs": [
    {
     "name": "stdout",
     "output_type": "stream",
     "text": [
      "   x8    n    y_mean       y_sd    p_mean       p_sd\n",
      "0  B1  408 -9.870796  14.827481 -9.653565  13.941165\n",
      "1  B2  384 -9.155140  13.449646 -8.953264  12.357008\n",
      "2  B3  439  0.319236  13.723353  0.079545  12.639270\n",
      "3  B4  365 -0.198614  13.249155 -0.295700  12.409125\n",
      "4  B5  404  0.362915  12.953490  0.079710  12.248614\n"
     ]
    },
    {
     "data": {
      "image/png": "[encoded data removed]",
      "text/plain": [
       "<Figure size 1440x720 with 2 Axes>"
      ]
     },
     "metadata": {
      "needs_background": "light"
     },
     "output_type": "display_data"
    }
   ],
   "source": [
    "# x8\n",
    "plot_univariate(df10, 'x8', 'y')"
   ]
  },
  {
   "cell_type": "code",
   "execution_count": 32,
   "metadata": {},
   "outputs": [
    {
     "name": "stdout",
     "output_type": "stream",
     "text": [
      "     x9   n     y_mean       y_sd     p_mean       p_sd\n",
      "0    C0  44 -11.449154  11.865423 -12.427673  11.109242\n",
      "1    C1  39  -7.403877  11.560906  -8.267946  10.157899\n",
      "2   C10  41  -8.399086  15.627309  -8.127629  13.539616\n",
      "3   C11  41  -8.086080  12.148196  -8.078684  11.405305\n",
      "4   C12  42  -8.241409  12.543559  -7.497930  11.977384\n",
      "5   C13  48  -2.180046  14.542123  -1.155110  11.987522\n",
      "6   C14  44   3.727839  12.759579   3.370165  11.804630\n",
      "7   C15  43 -12.738585  11.075329 -12.668696  10.187880\n",
      "8   C16  47  -9.826713  11.958178 -10.435125  10.206881\n",
      "9   C17  47  -3.939025  12.629985  -4.896842  11.858925\n",
      "10  C18  51  -3.557728  10.818493  -3.049462  10.463079\n",
      "11  C19  35   7.096602  12.006954   6.909548  11.255236\n",
      "12   C2  34  -2.137282  12.039587  -1.910870  11.751000\n",
      "13  C20  40 -11.236139  12.753242 -11.584592  12.385571\n",
      "14  C21  34  -7.729983  14.700335  -7.910607  13.103456\n",
      "15  C22  30  -8.004749  11.753302  -8.777383  11.082512\n",
      "16  C23  25  -1.158287  11.773694  -1.385416  10.638887\n",
      "17  C24  42   4.606401  13.112757   4.422557  12.125965\n",
      "18  C25  32 -12.132659   9.929150 -12.262221   9.436776\n",
      "19  C26  40 -11.754238  12.320034 -11.570341  11.131583\n",
      "20  C27  52  -2.684759  13.514872  -2.248798  12.676495\n",
      "21  C28  43  -0.707418  12.674504  -0.340687  11.828275\n",
      "22  C29  45   4.507751  12.062009   4.315905  10.441094\n",
      "23   C3  43   7.086339  12.471185   6.360137  11.119465\n",
      "24  C30  41 -13.611573  13.107950 -12.641985  12.095701\n",
      "25  C31  54  -6.903154  12.426081  -7.566013  12.107821\n",
      "26  C32  40  -0.902354  12.298373  -0.967802  10.977645\n",
      "27  C33  33   0.418164  12.742362   0.564878  11.410564\n",
      "28  C34  45   5.832799  11.444282   5.117644  10.945572\n",
      "29  C35  42 -12.317755  13.491357 -12.467702  13.164986\n",
      "30  C36  45  -8.643750  14.443367  -8.497893  13.935093\n",
      "31  C37  31  -2.337754  13.643381  -2.554696  12.256422\n",
      "32  C38  40   3.497553  10.850633   4.863108   9.440925\n",
      "33  C39  37   6.020325  11.849876   6.505054  11.323239\n",
      "34   C4  36   6.218592  13.595671   5.158542  11.336785\n",
      "35  C40  43 -15.356908  15.448294 -15.008565  14.009229\n",
      "36  C41  35  -6.798625  11.281974  -7.211975  10.331445\n",
      "37  C42  35  -5.808361  10.295035  -6.131506  11.149360\n",
      "38  C43  39  -1.514269  12.083968  -1.610081  12.495586\n",
      "39  C44  35   9.533682  12.527620   8.659467  11.595426\n",
      "40  C45  40 -15.794303  10.952866 -15.614695   9.718722\n",
      "41  C46  40  -5.928572  19.451952  -5.315440  17.910359\n",
      "42  C47  33   0.578860  12.066342  -0.257798  11.851672\n",
      "43  C48  36   2.659406  13.413776   2.583535  12.588089\n",
      "44  C49  43   2.922198  12.435955   2.589510  11.034994\n",
      "45   C5  31 -15.953260  13.097772 -14.905713  12.090957\n",
      "46   C6  39  -6.990416  15.241824  -5.880272  13.082332\n",
      "47   C7  47  -3.062693  13.019236  -2.181307  12.032776\n",
      "48   C8  37   1.436576  11.238910   1.111656  10.922194\n",
      "49   C9  41   8.100273  15.951240   7.150862  14.041740\n"
     ]
    },
    {
     "data": {
      "image/png": "[encoded data removed]",
      "text/plain": [
       "<Figure size 1440x720 with 2 Axes>"
      ]
     },
     "metadata": {
      "needs_background": "light"
     },
     "output_type": "display_data"
    }
   ],
   "source": [
    "# x9\n",
    "plot_univariate(df10, 'x9', 'y')"
   ]
  },
  {
   "cell_type": "code",
   "execution_count": 33,
   "metadata": {},
   "outputs": [
    {
     "name": "stdout",
     "output_type": "stream",
     "text": [
      "  x10    n    y_mean       y_sd    p_mean       p_sd\n",
      "0  D1  421  0.256379  13.741910  0.012459  12.661584\n",
      "1  D2  826 -0.427810  13.260177 -0.484752  12.414018\n",
      "2  D3  753 -9.406580  14.293531 -9.325837  13.286679\n"
     ]
    },
    {
     "data": {
      "image/png": "[encoded data removed]",
      "text/plain": [
       "<Figure size 1440x720 with 2 Axes>"
      ]
     },
     "metadata": {
      "needs_background": "light"
     },
     "output_type": "display_data"
    }
   ],
   "source": [
    "# x10\n",
    "plot_univariate(df10, 'x10', 'y')"
   ]
  },
  {
   "cell_type": "markdown",
   "metadata": {},
   "source": [
    "The only thing that really sticks out is relatively extreme x5 values, but we'd be affected ~10 rows by doing anything.  So let's leave the model as is.\n",
    "\n",
    "# Evaluate on holdout\n",
    "\n",
    "Let's evaluate all of our \"best\" hyperparameter sets to see how the holdout results compare to train/test results."
   ]
  },
  {
   "cell_type": "code",
   "execution_count": 34,
   "metadata": {},
   "outputs": [
    {
     "name": "stdout",
     "output_type": "stream",
     "text": [
      "Fitting (3, 'auto', 0.75)\n",
      "      Iter       Train Loss      OOB Improve   Remaining Time \n",
      "         1         181.9605          27.9692            9.99s\n",
      "         2         158.9520          24.3891            9.48s\n",
      "         3         139.8914          19.6705            9.31s\n",
      "         4         123.1233          15.8773            9.21s\n",
      "         5         113.5691          12.4695            9.15s\n",
      "         6         101.0095          10.2946            9.11s\n",
      "         7          93.0842           8.0580            9.08s\n",
      "         8          86.3467           7.2767            9.05s\n",
      "         9          78.3931           6.1870            9.03s\n",
      "        10          71.7174           5.7051            9.01s\n",
      "        20          42.2979           1.8025            8.77s\n",
      "        30          28.6646           0.7914            8.70s\n",
      "        40          20.7990           0.4890            8.59s\n",
      "        50          15.6994           0.2840            8.49s\n",
      "        60          13.0586           0.1207            8.40s\n",
      "        70          11.0352           0.0903            8.29s\n",
      "        80           9.6172           0.0372            8.21s\n",
      "        90           8.8498           0.0457            8.12s\n",
      "       100           8.5595           0.0282            8.04s\n",
      "Fitting (2, 'auto', 0.75)\n",
      "      Iter       Train Loss      OOB Improve   Remaining Time \n",
      "         1         189.1261          22.7993            5.99s\n",
      "         2         169.2189          19.6348            6.49s\n",
      "         3         153.1499          15.3418            6.65s\n",
      "         4         143.5202          12.6531            6.47s\n",
      "         5         126.5984          10.5523            6.57s\n",
      "         6         120.9651           9.4043            6.46s\n",
      "         7         112.2788           8.6520            6.53s\n",
      "         8         107.0671           5.7141            6.57s\n",
      "         9         100.2123           5.4812            6.50s\n",
      "        10          91.2779           5.0293            6.53s\n",
      "        20          59.5054           1.6753            6.37s\n",
      "        30          42.5359           1.2435            6.24s\n",
      "        40          33.5678           0.7154            6.19s\n",
      "        50          25.8970           0.4384            6.12s\n",
      "        60          22.3865           0.2500            6.03s\n",
      "        70          19.2178           0.2666            5.98s\n",
      "        80          16.1856           0.1382            5.91s\n",
      "        90          14.8912           0.1014            5.84s\n",
      "       100          12.9699           0.1929            5.78s\n",
      "Fitting (4, 'auto', 0.75)\n",
      "      Iter       Train Loss      OOB Improve   Remaining Time \n",
      "         1         180.2235          30.2096           10.99s\n",
      "         2         154.1134          24.2170           10.98s\n",
      "         3         131.0301          20.8822           10.97s\n",
      "         4         117.3472          16.8114           11.21s\n",
      "         5          99.9818          14.7741           11.14s\n",
      "         6          90.9766          11.8559           11.10s\n",
      "         7          82.1339           9.6385           11.21s\n",
      "         8          71.9974           8.0181           11.16s\n",
      "         9          66.5397           6.2819           11.12s\n",
      "        10          60.7828           5.1674           11.09s\n",
      "        20          31.5527           1.3564           10.93s\n",
      "        30          20.2621           1.0096           10.86s\n",
      "        40          14.1684           0.2904           10.78s\n",
      "        50          11.0457           0.1626           10.68s\n",
      "        60           9.3919           0.1115           10.58s\n",
      "        70           8.0045           0.0457           10.47s\n",
      "        80           7.4563           0.0231           10.39s\n",
      "        90           6.9867           0.0051           10.26s\n",
      "       100           6.6577           0.0021           10.15s\n",
      "Fitting (6, 'auto', 0.75)\n",
      "      Iter       Train Loss      OOB Improve   Remaining Time \n",
      "         1         177.0705          34.1974           14.99s\n",
      "         2         150.9995          26.3259           15.47s\n",
      "         3         128.3771          21.3662           15.62s\n",
      "         4         107.2831          18.3936           15.69s\n",
      "         5          94.1833          13.7344           15.52s\n",
      "         6          79.7231          12.0123           15.41s\n",
      "         7          68.9837           9.9501           15.46s\n",
      "         8          60.1764           8.2371           15.38s\n",
      "         9          54.2888           6.6065           15.42s\n",
      "        10          47.1173           5.8487           15.35s\n",
      "        20          19.8284           1.2442           15.14s\n",
      "        30          11.2197           0.3489           15.00s\n",
      "        40           8.3534           0.1318           14.93s\n",
      "        50           6.6112           0.0157           14.80s\n",
      "        60           5.6722           0.0078           14.70s\n",
      "Fitting (3, 'log2', 0.67)\n",
      "      Iter       Train Loss      OOB Improve   Remaining Time \n",
      "         1         199.1155          10.8540            3.00s\n",
      "         2         180.7895          19.9539            2.99s\n",
      "         3         152.1245          20.1209            2.99s\n",
      "         4         142.4839          16.0089            2.99s\n",
      "         5         131.6418          12.7450            2.99s\n",
      "         6         123.3117          10.3469            3.15s\n",
      "         7         109.7804           9.2717            2.98s\n",
      "         8         101.5520           9.0886            2.98s\n",
      "         9          95.5956           5.1713            2.97s\n",
      "        10          86.5772           6.5265            2.97s\n",
      "        20          51.4990           1.9640            2.84s\n",
      "        30          33.9476           0.8159            2.88s\n",
      "        40          27.2605           0.3983            2.81s\n",
      "        50          20.2372           0.3334            2.81s\n",
      "        60          16.8276           0.1937            2.74s\n",
      "        70          14.9816           0.2691            2.71s\n",
      "        80          12.8584           0.0769            2.68s\n",
      "        90          11.9070           0.1204            2.63s\n",
      "       100          10.3723           0.1202            2.60s\n",
      "Fitting (4, 'sqrt', 0.5)\n",
      "      Iter       Train Loss      OOB Improve   Remaining Time \n",
      "         1         195.9599          21.9422            3.00s\n",
      "         2         170.9053          17.6143            3.49s\n",
      "         3         152.7556          20.5783            3.32s\n",
      "         4         136.0688          15.9572            2.99s\n",
      "         5         120.8780          12.5818            2.99s\n",
      "         6         104.8581          13.2637            3.15s\n",
      "         7          94.6299          10.6791            3.12s\n",
      "         8          94.7026           5.6841            3.10s\n",
      "         9          86.6175           9.1458            3.08s\n",
      "        10          71.9986           7.2630            3.07s\n",
      "        20          38.4456           2.0958            2.99s\n",
      "        30          25.0826           0.9476            2.88s\n",
      "        40          19.4543           0.4145            2.86s\n",
      "        50          15.5563           0.3270            2.81s\n",
      "        60          13.0467           0.1339            2.79s\n",
      "        70          11.2322           0.1806            2.78s\n",
      "        80          10.2756           0.0442            2.75s\n",
      "        90           9.3968           0.0313            2.70s\n",
      "       100           8.3687           0.0401            2.66s\n"
     ]
    }
   ],
   "source": [
    "# Refit models on train and test data together\n",
    "models_traintest = {}\n",
    "\n",
    "for hp in best_hp_sets:\n",
    "    print(f'Fitting {hp}')\n",
    "    \n",
    "    # Get train+test data\n",
    "    X = X_train.append(X_test)\n",
    "    y = y_train.append(y_test)\n",
    "    \n",
    "    # Fit gbm\n",
    "    gbm = GradientBoostingRegressor(\n",
    "        # Static hyperparameters\n",
    "        n_estimators = s_n_estimators,\n",
    "        validation_fraction = s_validation_fraction,\n",
    "        n_iter_no_change = s_n_iter_no_change,\n",
    "        tol = s_tol,\n",
    "        # Dynamic hyperparameters\n",
    "        max_depth = hp[0],\n",
    "        max_features = hp[1],\n",
    "        subsample = hp[2],\n",
    "        # Print status\n",
    "        verbose = 1\n",
    "    ).fit(X, y)\n",
    "    \n",
    "    # Save predictions\n",
    "    models_traintest[hp] = {\n",
    "        'model': gbm,\n",
    "        'err': y - gbm.predict(X),\n",
    "        'holdout_err': y_holdout - gbm.predict(X_holdout)\n",
    "    }\n",
    "    \n",
    "    del X, y, gbm"
   ]
  },
  {
   "cell_type": "code",
   "execution_count": 35,
   "metadata": {},
   "outputs": [
    {
     "data": {
      "text/html": [
       "<div>\n",
       "<style scoped>\n",
       "    .dataframe tbody tr th:only-of-type {\n",
       "        vertical-align: middle;\n",
       "    }\n",
       "\n",
       "    .dataframe tbody tr th {\n",
       "        vertical-align: top;\n",
       "    }\n",
       "\n",
       "    .dataframe thead th {\n",
       "        text-align: right;\n",
       "    }\n",
       "</style>\n",
       "<table border=\"1\" class=\"dataframe\">\n",
       "  <thead>\n",
       "    <tr style=\"text-align: right;\">\n",
       "      <th></th>\n",
       "      <th>index</th>\n",
       "      <th>train</th>\n",
       "      <th>test</th>\n",
       "      <th>train+test</th>\n",
       "      <th>holdout</th>\n",
       "    </tr>\n",
       "  </thead>\n",
       "  <tbody>\n",
       "    <tr>\n",
       "      <th>0</th>\n",
       "      <td>(3, auto, 0.75)</td>\n",
       "      <td>8.435678</td>\n",
       "      <td>10.052378</td>\n",
       "      <td>7.715626</td>\n",
       "      <td>10.085879</td>\n",
       "    </tr>\n",
       "    <tr>\n",
       "      <th>1</th>\n",
       "      <td>(2, auto, 0.75)</td>\n",
       "      <td>9.876157</td>\n",
       "      <td>11.637296</td>\n",
       "      <td>8.908505</td>\n",
       "      <td>11.306184</td>\n",
       "    </tr>\n",
       "    <tr>\n",
       "      <th>2</th>\n",
       "      <td>(4, auto, 0.75)</td>\n",
       "      <td>6.806489</td>\n",
       "      <td>9.674668</td>\n",
       "      <td>7.156174</td>\n",
       "      <td>11.235317</td>\n",
       "    </tr>\n",
       "    <tr>\n",
       "      <th>3</th>\n",
       "      <td>(6, auto, 0.75)</td>\n",
       "      <td>6.365590</td>\n",
       "      <td>12.815930</td>\n",
       "      <td>6.558474</td>\n",
       "      <td>11.561278</td>\n",
       "    </tr>\n",
       "    <tr>\n",
       "      <th>4</th>\n",
       "      <td>(3, log2, 0.67)</td>\n",
       "      <td>9.995046</td>\n",
       "      <td>12.853639</td>\n",
       "      <td>9.786752</td>\n",
       "      <td>12.756255</td>\n",
       "    </tr>\n",
       "    <tr>\n",
       "      <th>5</th>\n",
       "      <td>(4, sqrt, 0.5)</td>\n",
       "      <td>8.689096</td>\n",
       "      <td>11.707617</td>\n",
       "      <td>8.612362</td>\n",
       "      <td>12.685475</td>\n",
       "    </tr>\n",
       "  </tbody>\n",
       "</table>\n",
       "</div>"
      ],
      "text/plain": [
       "             index     train       test  train+test    holdout\n",
       "0  (3, auto, 0.75)  8.435678  10.052378    7.715626  10.085879\n",
       "1  (2, auto, 0.75)  9.876157  11.637296    8.908505  11.306184\n",
       "2  (4, auto, 0.75)  6.806489   9.674668    7.156174  11.235317\n",
       "3  (6, auto, 0.75)  6.365590  12.815930    6.558474  11.561278\n",
       "4  (3, log2, 0.67)  9.995046  12.853639    9.786752  12.756255\n",
       "5   (4, sqrt, 0.5)  8.689096  11.707617    8.612362  12.685475"
      ]
     },
     "execution_count": 35,
     "metadata": {},
     "output_type": "execute_result"
    }
   ],
   "source": [
    "# Create df of train, test, train+test, and holdout performance for each best hyperparameter space\n",
    "all_performance = dict()\n",
    "for hp in best_hp_sets:\n",
    "    all_performance[hp] = [\n",
    "        amse(models_train_2[hp]['train_err']),\n",
    "        amse(models_train_2[hp]['test_err']),\n",
    "        amse(models_traintest[hp]['err']),\n",
    "        amse(models_traintest[hp]['holdout_err']),\n",
    "    ]\n",
    "    \n",
    "all_performance_df = pd.DataFrame.from_dict(\n",
    "    all_performance,\n",
    "    orient='index',\n",
    "    columns=['train', 'test', 'train+test', 'holdout']\n",
    ").reset_index()\n",
    "\n",
    "all_performance_df"
   ]
  },
  {
   "cell_type": "code",
   "execution_count": 36,
   "metadata": {},
   "outputs": [
    {
     "data": {
      "text/html": [
       "<div>\n",
       "<style scoped>\n",
       "    .dataframe tbody tr th:only-of-type {\n",
       "        vertical-align: middle;\n",
       "    }\n",
       "\n",
       "    .dataframe tbody tr th {\n",
       "        vertical-align: top;\n",
       "    }\n",
       "\n",
       "    .dataframe thead th {\n",
       "        text-align: right;\n",
       "    }\n",
       "</style>\n",
       "<table border=\"1\" class=\"dataframe\">\n",
       "  <thead>\n",
       "    <tr style=\"text-align: right;\">\n",
       "      <th></th>\n",
       "      <th>index</th>\n",
       "      <th>variable</th>\n",
       "      <th>value</th>\n",
       "    </tr>\n",
       "  </thead>\n",
       "  <tbody>\n",
       "    <tr>\n",
       "      <th>0</th>\n",
       "      <td>(3, auto, 0.75)</td>\n",
       "      <td>train</td>\n",
       "      <td>8.435678</td>\n",
       "    </tr>\n",
       "    <tr>\n",
       "      <th>1</th>\n",
       "      <td>(2, auto, 0.75)</td>\n",
       "      <td>train</td>\n",
       "      <td>9.876157</td>\n",
       "    </tr>\n",
       "    <tr>\n",
       "      <th>2</th>\n",
       "      <td>(4, auto, 0.75)</td>\n",
       "      <td>train</td>\n",
       "      <td>6.806489</td>\n",
       "    </tr>\n",
       "    <tr>\n",
       "      <th>3</th>\n",
       "      <td>(6, auto, 0.75)</td>\n",
       "      <td>train</td>\n",
       "      <td>6.365590</td>\n",
       "    </tr>\n",
       "    <tr>\n",
       "      <th>4</th>\n",
       "      <td>(3, log2, 0.67)</td>\n",
       "      <td>train</td>\n",
       "      <td>9.995046</td>\n",
       "    </tr>\n",
       "    <tr>\n",
       "      <th>5</th>\n",
       "      <td>(4, sqrt, 0.5)</td>\n",
       "      <td>train</td>\n",
       "      <td>8.689096</td>\n",
       "    </tr>\n",
       "    <tr>\n",
       "      <th>6</th>\n",
       "      <td>(3, auto, 0.75)</td>\n",
       "      <td>test</td>\n",
       "      <td>10.052378</td>\n",
       "    </tr>\n",
       "    <tr>\n",
       "      <th>7</th>\n",
       "      <td>(2, auto, 0.75)</td>\n",
       "      <td>test</td>\n",
       "      <td>11.637296</td>\n",
       "    </tr>\n",
       "    <tr>\n",
       "      <th>8</th>\n",
       "      <td>(4, auto, 0.75)</td>\n",
       "      <td>test</td>\n",
       "      <td>9.674668</td>\n",
       "    </tr>\n",
       "    <tr>\n",
       "      <th>9</th>\n",
       "      <td>(6, auto, 0.75)</td>\n",
       "      <td>test</td>\n",
       "      <td>12.815930</td>\n",
       "    </tr>\n",
       "    <tr>\n",
       "      <th>10</th>\n",
       "      <td>(3, log2, 0.67)</td>\n",
       "      <td>test</td>\n",
       "      <td>12.853639</td>\n",
       "    </tr>\n",
       "    <tr>\n",
       "      <th>11</th>\n",
       "      <td>(4, sqrt, 0.5)</td>\n",
       "      <td>test</td>\n",
       "      <td>11.707617</td>\n",
       "    </tr>\n",
       "    <tr>\n",
       "      <th>12</th>\n",
       "      <td>(3, auto, 0.75)</td>\n",
       "      <td>train+test</td>\n",
       "      <td>7.715626</td>\n",
       "    </tr>\n",
       "    <tr>\n",
       "      <th>13</th>\n",
       "      <td>(2, auto, 0.75)</td>\n",
       "      <td>train+test</td>\n",
       "      <td>8.908505</td>\n",
       "    </tr>\n",
       "    <tr>\n",
       "      <th>14</th>\n",
       "      <td>(4, auto, 0.75)</td>\n",
       "      <td>train+test</td>\n",
       "      <td>7.156174</td>\n",
       "    </tr>\n",
       "    <tr>\n",
       "      <th>15</th>\n",
       "      <td>(6, auto, 0.75)</td>\n",
       "      <td>train+test</td>\n",
       "      <td>6.558474</td>\n",
       "    </tr>\n",
       "    <tr>\n",
       "      <th>16</th>\n",
       "      <td>(3, log2, 0.67)</td>\n",
       "      <td>train+test</td>\n",
       "      <td>9.786752</td>\n",
       "    </tr>\n",
       "    <tr>\n",
       "      <th>17</th>\n",
       "      <td>(4, sqrt, 0.5)</td>\n",
       "      <td>train+test</td>\n",
       "      <td>8.612362</td>\n",
       "    </tr>\n",
       "    <tr>\n",
       "      <th>18</th>\n",
       "      <td>(3, auto, 0.75)</td>\n",
       "      <td>holdout</td>\n",
       "      <td>10.085879</td>\n",
       "    </tr>\n",
       "    <tr>\n",
       "      <th>19</th>\n",
       "      <td>(2, auto, 0.75)</td>\n",
       "      <td>holdout</td>\n",
       "      <td>11.306184</td>\n",
       "    </tr>\n",
       "    <tr>\n",
       "      <th>20</th>\n",
       "      <td>(4, auto, 0.75)</td>\n",
       "      <td>holdout</td>\n",
       "      <td>11.235317</td>\n",
       "    </tr>\n",
       "    <tr>\n",
       "      <th>21</th>\n",
       "      <td>(6, auto, 0.75)</td>\n",
       "      <td>holdout</td>\n",
       "      <td>11.561278</td>\n",
       "    </tr>\n",
       "    <tr>\n",
       "      <th>22</th>\n",
       "      <td>(3, log2, 0.67)</td>\n",
       "      <td>holdout</td>\n",
       "      <td>12.756255</td>\n",
       "    </tr>\n",
       "    <tr>\n",
       "      <th>23</th>\n",
       "      <td>(4, sqrt, 0.5)</td>\n",
       "      <td>holdout</td>\n",
       "      <td>12.685475</td>\n",
       "    </tr>\n",
       "  </tbody>\n",
       "</table>\n",
       "</div>"
      ],
      "text/plain": [
       "              index    variable      value\n",
       "0   (3, auto, 0.75)       train   8.435678\n",
       "1   (2, auto, 0.75)       train   9.876157\n",
       "2   (4, auto, 0.75)       train   6.806489\n",
       "3   (6, auto, 0.75)       train   6.365590\n",
       "4   (3, log2, 0.67)       train   9.995046\n",
       "5    (4, sqrt, 0.5)       train   8.689096\n",
       "6   (3, auto, 0.75)        test  10.052378\n",
       "7   (2, auto, 0.75)        test  11.637296\n",
       "8   (4, auto, 0.75)        test   9.674668\n",
       "9   (6, auto, 0.75)        test  12.815930\n",
       "10  (3, log2, 0.67)        test  12.853639\n",
       "11   (4, sqrt, 0.5)        test  11.707617\n",
       "12  (3, auto, 0.75)  train+test   7.715626\n",
       "13  (2, auto, 0.75)  train+test   8.908505\n",
       "14  (4, auto, 0.75)  train+test   7.156174\n",
       "15  (6, auto, 0.75)  train+test   6.558474\n",
       "16  (3, log2, 0.67)  train+test   9.786752\n",
       "17   (4, sqrt, 0.5)  train+test   8.612362\n",
       "18  (3, auto, 0.75)     holdout  10.085879\n",
       "19  (2, auto, 0.75)     holdout  11.306184\n",
       "20  (4, auto, 0.75)     holdout  11.235317\n",
       "21  (6, auto, 0.75)     holdout  11.561278\n",
       "22  (3, log2, 0.67)     holdout  12.756255\n",
       "23   (4, sqrt, 0.5)     holdout  12.685475"
      ]
     },
     "execution_count": 36,
     "metadata": {},
     "output_type": "execute_result"
    }
   ],
   "source": [
    "# Melt for proper group bargraphing\n",
    "all_performance_df_melt = pd.melt(all_performance_df, id_vars='index')\n",
    "\n",
    "all_performance_df_melt"
   ]
  },
  {
   "cell_type": "code",
   "execution_count": 37,
   "metadata": {},
   "outputs": [
    {
     "data": {
      "text/plain": [
       "Text(0, 0.5, 'AMSE')"
      ]
     },
     "execution_count": 37,
     "metadata": {},
     "output_type": "execute_result"
    },
    {
     "data": {
      "image/png": "[encoded data removed]",
      "text/plain": [
       "<Figure size 1440x360 with 1 Axes>"
      ]
     },
     "metadata": {
      "needs_background": "light"
     },
     "output_type": "display_data"
    }
   ],
   "source": [
    "# Plot\n",
    "plt.figure(figsize=(20, 5))\n",
    "sb.barplot(\n",
    "    data=all_performance_df_melt,\n",
    "    x='index',\n",
    "    y='value',\n",
    "    hue='variable',\n",
    ")\n",
    "plt.xlabel('Hyperparameter set')\n",
    "plt.ylabel('AMSE')"
   ]
  },
  {
   "cell_type": "code",
   "execution_count": 38,
   "metadata": {},
   "outputs": [
    {
     "data": {
      "text/plain": [
       "Text(0, 0.5, 'AMSE')"
      ]
     },
     "execution_count": 38,
     "metadata": {},
     "output_type": "execute_result"
    },
    {
     "data": {
      "image/png": "[encoded data removed]",
      "text/plain": [
       "<Figure size 1440x360 with 1 Axes>"
      ]
     },
     "metadata": {
      "needs_background": "light"
     },
     "output_type": "display_data"
    }
   ],
   "source": [
    "# Plot just holdout performance\n",
    "plt.figure(figsize=(20, 5))\n",
    "sb.barplot(\n",
    "    data=all_performance_df_melt[all_performance_df_melt.variable == 'holdout'],\n",
    "    x='index',\n",
    "    y='value',\n",
    ")\n",
    "plt.xlabel('Hyperparameter set')\n",
    "plt.ylabel('AMSE')"
   ]
  },
  {
   "cell_type": "markdown",
   "metadata": {},
   "source": [
    "(3, auto, 0.75) seems like the best all-around fit:\n",
    "\n",
    "- Second best performance on the test data and best performance on the holdout data\n",
    "    - There's a lot of room for muddiness in picking between models that seem to be performing similarly, so \"average\" performance across test/holdout is something I usually use in making final decisions on which model to use\n",
    "    - But, sometimes, the best thing to do is run multiple models in parallel in a \"staging\" type setup to see how they perform on new data and then make a final decision\n",
    "- Similar performance on holdout set compared to test set\n",
    "    - I generally index highly on having similar result in test/holdout unless there is a good reason for them to be different\n",
    "\n",
    "Some other notes:\n",
    "\n",
    "- (4, auto, 0.75) and (6, 'auto', 0.75) had the best performances on train-only and train/test-only data but worse performance on test and holdout (i.e. overfitting!)\n",
    "    - As stated previously in the notebook, this is likely due to not having any sort of regularization (e.g. pruning, requiring a certain sample size) to balance tree complexity with accuracy\n",
    "- The 'sqrt' and 'log' models don't do as well (they usually do right out of the box)\n",
    "    - This is likely due to us restricting to only strong predictors at the outset, so when we sample those predictors we are excluding information that would likely be helpful"
   ]
  },
  {
   "cell_type": "code",
   "execution_count": null,
   "metadata": {},
   "outputs": [],
   "source": []
  }
 ],
 "metadata": {
  "kernelspec": {
   "display_name": "Python 3",
   "language": "python",
   "name": "python3"
  },
  "language_info": {
   "codemirror_mode": {
    "name": "ipython",
    "version": 3
   },
   "file_extension": ".py",
   "mimetype": "text/x-python",
   "name": "python",
   "nbconvert_exporter": "python",
   "pygments_lexer": "ipython3",
   "version": "3.8.1"
  }
 },
 "nbformat": 4,
 "nbformat_minor": 4
}
