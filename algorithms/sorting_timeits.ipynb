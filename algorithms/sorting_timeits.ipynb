{
 "cells": [
  {
   "cell_type": "markdown",
   "metadata": {
    "collapsed": false
   },
   "source": [
    "# Time tests of the following scenarios for each algorithm\n",
    "\n",
    "- List size\n",
    "    - Log scale from 3 to 1000\n",
    "- Degree to which the list is already sorted\n",
    "    - Already sorted \n",
    "    - Random placement\n",
    "    - Reverse sorted"
   ]
  },
  {
   "cell_type": "code",
   "execution_count": 1,
   "metadata": {
    "collapsed": true
   },
   "outputs": [],
   "source": [
    "import sorting\n",
    "import timeit\n",
    "import pandas\n",
    "from copy import copy\n",
    "import random"
   ]
  },
  {
   "cell_type": "code",
   "execution_count": 2,
   "metadata": {
    "collapsed": true
   },
   "outputs": [],
   "source": [
    "def run_timeit(alg, l):\n",
    "    t = timeit.Timer(setup='from __main__ import sorting',\n",
    "                     stmt='sorting.%s([%s])' % (alg, ', '.join(str(x) for x in l)))\n",
    "    return t.timeit(10)"
   ]
  },
  {
   "cell_type": "code",
   "execution_count": 3,
   "metadata": {
    "collapsed": true
   },
   "outputs": [],
   "source": [
    "results = pandas.DataFrame(columns=['alg', 'sortedness', 'size', 'time'])\n",
    "l_alg = ['insertion_sort', 'selection_sort', 'bubble_sort', 'quicksort']\n",
    "l_sortedness = ['presorted', 'random', 'reverse']\n",
    "l_size = [3, 10, 30, 100, 300, 1000]"
   ]
  },
  {
   "cell_type": "code",
   "execution_count": 4,
   "metadata": {
    "collapsed": false
   },
   "outputs": [
    {
     "name": "stdout",
     "output_type": "stream",
     "text": [
      "........................................................................"
     ]
    }
   ],
   "source": [
    "for a in l_alg:\n",
    "    for s in l_sortedness:\n",
    "        for z in l_size:\n",
    "            l = [x for x in range(z)]\n",
    "            if s == 'random':\n",
    "                l = random.sample(l, len(l))\n",
    "            elif s == 'reverse':\n",
    "                l = l[::-1]\n",
    "            t = run_timeit(a, l)\n",
    "            results = results.append({'alg': a,\n",
    "                                      'sortedness': s,\n",
    "                                      'size': z,\n",
    "                                      'time': t}, ignore_index=True)\n",
    "            print('.', end='')"
   ]
  },
  {
   "cell_type": "code",
   "execution_count": 5,
   "metadata": {
    "collapsed": false
   },
   "outputs": [
    {
     "data": {
      "text/html": [
       "<div>\n",
       "<style scoped>\n",
       "    .dataframe tbody tr th:only-of-type {\n",
       "        vertical-align: middle;\n",
       "    }\n",
       "\n",
       "    .dataframe tbody tr th {\n",
       "        vertical-align: top;\n",
       "    }\n",
       "\n",
       "    .dataframe thead th {\n",
       "        text-align: right;\n",
       "    }\n",
       "</style>\n",
       "<table border=\"1\" class=\"dataframe\">\n",
       "  <thead>\n",
       "    <tr style=\"text-align: right;\">\n",
       "      <th></th>\n",
       "      <th>alg</th>\n",
       "      <th>sortedness</th>\n",
       "      <th>size</th>\n",
       "      <th>time</th>\n",
       "    </tr>\n",
       "  </thead>\n",
       "  <tbody>\n",
       "    <tr>\n",
       "      <th>0</th>\n",
       "      <td>insertion_sort</td>\n",
       "      <td>presorted</td>\n",
       "      <td>3</td>\n",
       "      <td>0.000015</td>\n",
       "    </tr>\n",
       "    <tr>\n",
       "      <th>5</th>\n",
       "      <td>insertion_sort</td>\n",
       "      <td>presorted</td>\n",
       "      <td>1000</td>\n",
       "      <td>0.003135</td>\n",
       "    </tr>\n",
       "    <tr>\n",
       "      <th>18</th>\n",
       "      <td>selection_sort</td>\n",
       "      <td>presorted</td>\n",
       "      <td>3</td>\n",
       "      <td>0.000020</td>\n",
       "    </tr>\n",
       "    <tr>\n",
       "      <th>23</th>\n",
       "      <td>selection_sort</td>\n",
       "      <td>presorted</td>\n",
       "      <td>1000</td>\n",
       "      <td>0.804614</td>\n",
       "    </tr>\n",
       "    <tr>\n",
       "      <th>36</th>\n",
       "      <td>bubble_sort</td>\n",
       "      <td>presorted</td>\n",
       "      <td>3</td>\n",
       "      <td>0.000021</td>\n",
       "    </tr>\n",
       "    <tr>\n",
       "      <th>41</th>\n",
       "      <td>bubble_sort</td>\n",
       "      <td>presorted</td>\n",
       "      <td>1000</td>\n",
       "      <td>1.144916</td>\n",
       "    </tr>\n",
       "    <tr>\n",
       "      <th>54</th>\n",
       "      <td>quicksort</td>\n",
       "      <td>presorted</td>\n",
       "      <td>3</td>\n",
       "      <td>0.000027</td>\n",
       "    </tr>\n",
       "    <tr>\n",
       "      <th>59</th>\n",
       "      <td>quicksort</td>\n",
       "      <td>presorted</td>\n",
       "      <td>1000</td>\n",
       "      <td>0.671032</td>\n",
       "    </tr>\n",
       "  </tbody>\n",
       "</table>\n",
       "</div>"
      ],
      "text/plain": [
       "               alg sortedness  size      time\n",
       "0   insertion_sort  presorted     3  0.000015\n",
       "5   insertion_sort  presorted  1000  0.003135\n",
       "18  selection_sort  presorted     3  0.000020\n",
       "23  selection_sort  presorted  1000  0.804614\n",
       "36     bubble_sort  presorted     3  0.000021\n",
       "41     bubble_sort  presorted  1000  1.144916\n",
       "54       quicksort  presorted     3  0.000027\n",
       "59       quicksort  presorted  1000  0.671032"
      ]
     },
     "execution_count": 5,
     "metadata": {},
     "output_type": "execute_result"
    }
   ],
   "source": [
    "# Presorted?\n",
    "results[(results.sortedness == 'presorted') & (results['size'].isin([3, 1000]))]"
   ]
  },
  {
   "cell_type": "code",
   "execution_count": 6,
   "metadata": {
    "collapsed": false
   },
   "outputs": [
    {
     "data": {
      "text/html": [
       "<div>\n",
       "<style scoped>\n",
       "    .dataframe tbody tr th:only-of-type {\n",
       "        vertical-align: middle;\n",
       "    }\n",
       "\n",
       "    .dataframe tbody tr th {\n",
       "        vertical-align: top;\n",
       "    }\n",
       "\n",
       "    .dataframe thead th {\n",
       "        text-align: right;\n",
       "    }\n",
       "</style>\n",
       "<table border=\"1\" class=\"dataframe\">\n",
       "  <thead>\n",
       "    <tr style=\"text-align: right;\">\n",
       "      <th></th>\n",
       "      <th>alg</th>\n",
       "      <th>sortedness</th>\n",
       "      <th>size</th>\n",
       "      <th>time</th>\n",
       "    </tr>\n",
       "  </thead>\n",
       "  <tbody>\n",
       "    <tr>\n",
       "      <th>6</th>\n",
       "      <td>insertion_sort</td>\n",
       "      <td>random</td>\n",
       "      <td>3</td>\n",
       "      <td>0.000014</td>\n",
       "    </tr>\n",
       "    <tr>\n",
       "      <th>11</th>\n",
       "      <td>insertion_sort</td>\n",
       "      <td>random</td>\n",
       "      <td>1000</td>\n",
       "      <td>1.105792</td>\n",
       "    </tr>\n",
       "    <tr>\n",
       "      <th>24</th>\n",
       "      <td>selection_sort</td>\n",
       "      <td>random</td>\n",
       "      <td>3</td>\n",
       "      <td>0.000021</td>\n",
       "    </tr>\n",
       "    <tr>\n",
       "      <th>29</th>\n",
       "      <td>selection_sort</td>\n",
       "      <td>random</td>\n",
       "      <td>1000</td>\n",
       "      <td>0.803405</td>\n",
       "    </tr>\n",
       "    <tr>\n",
       "      <th>42</th>\n",
       "      <td>bubble_sort</td>\n",
       "      <td>random</td>\n",
       "      <td>3</td>\n",
       "      <td>0.000023</td>\n",
       "    </tr>\n",
       "    <tr>\n",
       "      <th>47</th>\n",
       "      <td>bubble_sort</td>\n",
       "      <td>random</td>\n",
       "      <td>1000</td>\n",
       "      <td>1.719892</td>\n",
       "    </tr>\n",
       "    <tr>\n",
       "      <th>60</th>\n",
       "      <td>quicksort</td>\n",
       "      <td>random</td>\n",
       "      <td>3</td>\n",
       "      <td>0.000050</td>\n",
       "    </tr>\n",
       "    <tr>\n",
       "      <th>65</th>\n",
       "      <td>quicksort</td>\n",
       "      <td>random</td>\n",
       "      <td>1000</td>\n",
       "      <td>0.118229</td>\n",
       "    </tr>\n",
       "  </tbody>\n",
       "</table>\n",
       "</div>"
      ],
      "text/plain": [
       "               alg sortedness  size      time\n",
       "6   insertion_sort     random     3  0.000014\n",
       "11  insertion_sort     random  1000  1.105792\n",
       "24  selection_sort     random     3  0.000021\n",
       "29  selection_sort     random  1000  0.803405\n",
       "42     bubble_sort     random     3  0.000023\n",
       "47     bubble_sort     random  1000  1.719892\n",
       "60       quicksort     random     3  0.000050\n",
       "65       quicksort     random  1000  0.118229"
      ]
     },
     "execution_count": 6,
     "metadata": {},
     "output_type": "execute_result"
    }
   ],
   "source": [
    "# Random?\n",
    "results[(results.sortedness == 'random') & (results['size'].isin([3, 1000]))]"
   ]
  },
  {
   "cell_type": "code",
   "execution_count": 7,
   "metadata": {
    "collapsed": false
   },
   "outputs": [
    {
     "data": {
      "text/html": [
       "<div>\n",
       "<style scoped>\n",
       "    .dataframe tbody tr th:only-of-type {\n",
       "        vertical-align: middle;\n",
       "    }\n",
       "\n",
       "    .dataframe tbody tr th {\n",
       "        vertical-align: top;\n",
       "    }\n",
       "\n",
       "    .dataframe thead th {\n",
       "        text-align: right;\n",
       "    }\n",
       "</style>\n",
       "<table border=\"1\" class=\"dataframe\">\n",
       "  <thead>\n",
       "    <tr style=\"text-align: right;\">\n",
       "      <th></th>\n",
       "      <th>alg</th>\n",
       "      <th>sortedness</th>\n",
       "      <th>size</th>\n",
       "      <th>time</th>\n",
       "    </tr>\n",
       "  </thead>\n",
       "  <tbody>\n",
       "    <tr>\n",
       "      <th>12</th>\n",
       "      <td>insertion_sort</td>\n",
       "      <td>reverse</td>\n",
       "      <td>3</td>\n",
       "      <td>0.000025</td>\n",
       "    </tr>\n",
       "    <tr>\n",
       "      <th>17</th>\n",
       "      <td>insertion_sort</td>\n",
       "      <td>reverse</td>\n",
       "      <td>1000</td>\n",
       "      <td>2.093230</td>\n",
       "    </tr>\n",
       "    <tr>\n",
       "      <th>30</th>\n",
       "      <td>selection_sort</td>\n",
       "      <td>reverse</td>\n",
       "      <td>3</td>\n",
       "      <td>0.000022</td>\n",
       "    </tr>\n",
       "    <tr>\n",
       "      <th>35</th>\n",
       "      <td>selection_sort</td>\n",
       "      <td>reverse</td>\n",
       "      <td>1000</td>\n",
       "      <td>0.853009</td>\n",
       "    </tr>\n",
       "    <tr>\n",
       "      <th>48</th>\n",
       "      <td>bubble_sort</td>\n",
       "      <td>reverse</td>\n",
       "      <td>3</td>\n",
       "      <td>0.000027</td>\n",
       "    </tr>\n",
       "    <tr>\n",
       "      <th>53</th>\n",
       "      <td>bubble_sort</td>\n",
       "      <td>reverse</td>\n",
       "      <td>1000</td>\n",
       "      <td>2.254579</td>\n",
       "    </tr>\n",
       "    <tr>\n",
       "      <th>66</th>\n",
       "      <td>quicksort</td>\n",
       "      <td>reverse</td>\n",
       "      <td>3</td>\n",
       "      <td>0.000056</td>\n",
       "    </tr>\n",
       "    <tr>\n",
       "      <th>71</th>\n",
       "      <td>quicksort</td>\n",
       "      <td>reverse</td>\n",
       "      <td>1000</td>\n",
       "      <td>27.751191</td>\n",
       "    </tr>\n",
       "  </tbody>\n",
       "</table>\n",
       "</div>"
      ],
      "text/plain": [
       "               alg sortedness  size       time\n",
       "12  insertion_sort    reverse     3   0.000025\n",
       "17  insertion_sort    reverse  1000   2.093230\n",
       "30  selection_sort    reverse     3   0.000022\n",
       "35  selection_sort    reverse  1000   0.853009\n",
       "48     bubble_sort    reverse     3   0.000027\n",
       "53     bubble_sort    reverse  1000   2.254579\n",
       "66       quicksort    reverse     3   0.000056\n",
       "71       quicksort    reverse  1000  27.751191"
      ]
     },
     "execution_count": 7,
     "metadata": {},
     "output_type": "execute_result"
    }
   ],
   "source": [
    "# Reverse?\n",
    "results[(results.sortedness == 'reverse') & (results['size'].isin([3, 1000]))]"
   ]
  },
  {
   "cell_type": "markdown",
   "metadata": {},
   "source": [
    "# Findings\n",
    "\n",
    "##### Presorted\n",
    "\n",
    "- 3: All methods comparable\n",
    "- 1000: Insertion much more efficient than the rest (requires a single pass through the data with no changes)\n",
    "\n",
    "##### Random\n",
    "\n",
    "- 3: All methods comparable except quicksort, which takes twice as long\n",
    "- 1000: Quicksort much more efficient than the rest (divide and conquer!)\n",
    "\n",
    "##### Reverse\n",
    "\n",
    "- 3: All methods comparable except quicksort, which takes over twice as long (worst case sceanario for quicksort, has to compare the pivot with all other values each time)\n",
    "- 1000: Selection sort 2-3 times faster than insertion and bubble, quicksort incredibly inefficient (same note as above)"
   ]
  }
 ],
 "metadata": {
  "anaconda-cloud": {},
  "kernelspec": {
   "display_name": "Python [indeed]",
   "language": "python",
   "name": "Python [indeed]"
  },
  "language_info": {
   "codemirror_mode": {
    "name": "ipython",
    "version": 3
   },
   "file_extension": ".py",
   "mimetype": "text/x-python",
   "name": "python",
   "nbconvert_exporter": "python",
   "pygments_lexer": "ipython3",
   "version": "3.5.4"
  }
 },
 "nbformat": 4,
 "nbformat_minor": 0
}
